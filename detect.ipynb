{
 "cells": [
  {
   "cell_type": "code",
   "execution_count": 3,
   "id": "2f7bfc17",
   "metadata": {},
   "outputs": [
    {
     "name": "stderr",
     "output_type": "stream",
     "text": [
      "/var/folders/_r/lz3cmyx9021d0zxn1cd6hb680000gn/T/ipykernel_99896/314915603.py:11: UserWarning: `Model.predict_generator` is deprecated and will be removed in a future version. Please use `Model.predict`, which supports generators.\n",
      "  results = model.predict_generator(test_dataset, 6, verbose=1)\n"
     ]
    },
    {
     "name": "stdout",
     "output_type": "stream",
     "text": [
      "5/6 [========================>.....] - ETA: 0s"
     ]
    },
    {
     "name": "stderr",
     "output_type": "stream",
     "text": [
      "2023-06-23 13:04:28.203848: W tensorflow/core/framework/op_kernel.cc:1768] UNKNOWN: FileNotFoundError: No such file: '/Users/bzavolovich/Developer/larynx_NN_model/data/larynx/test/6.png'\n",
      "Traceback (most recent call last):\n",
      "\n",
      "  File \"/Users/bzavolovich/anaconda3/lib/python3.10/site-packages/tensorflow/python/ops/script_ops.py\", line 271, in __call__\n",
      "    ret = func(*args)\n",
      "\n",
      "  File \"/Users/bzavolovich/anaconda3/lib/python3.10/site-packages/tensorflow/python/autograph/impl/api.py\", line 642, in wrapper\n",
      "    return func(*args, **kwargs)\n",
      "\n",
      "  File \"/Users/bzavolovich/anaconda3/lib/python3.10/site-packages/tensorflow/python/data/ops/dataset_ops.py\", line 1035, in generator_py_func\n",
      "    values = next(generator_state.get_iterator(iterator_id))\n",
      "\n",
      "  File \"/Users/bzavolovich/anaconda3/lib/python3.10/site-packages/keras/engine/data_adapter.py\", line 903, in wrapped_generator\n",
      "    for data in generator_fn():\n",
      "\n",
      "  File \"/Users/bzavolovich/Developer/larynx_NN_model/data.py\", line 221, in test_dataset_generator\n",
      "    img = io.imread(os.path.join(test_path, \"%d.png\" % i), as_gray=as_gray)\n",
      "\n",
      "  File \"/Users/bzavolovich/anaconda3/lib/python3.10/site-packages/skimage/io/_io.py\", line 53, in imread\n",
      "    img = call_plugin('imread', fname, plugin=plugin, **plugin_args)\n",
      "\n",
      "  File \"/Users/bzavolovich/anaconda3/lib/python3.10/site-packages/skimage/io/manage_plugins.py\", line 207, in call_plugin\n",
      "    return func(*args, **kwargs)\n",
      "\n",
      "  File \"/Users/bzavolovich/anaconda3/lib/python3.10/site-packages/skimage/io/_plugins/imageio_plugin.py\", line 15, in imread\n",
      "    return np.asarray(imageio_imread(*args, **kwargs))\n",
      "\n",
      "  File \"/Users/bzavolovich/anaconda3/lib/python3.10/site-packages/imageio/v2.py\", line 226, in imread\n",
      "    with imopen(uri, \"ri\", **imopen_args) as file:\n",
      "\n",
      "  File \"/Users/bzavolovich/anaconda3/lib/python3.10/site-packages/imageio/core/imopen.py\", line 113, in imopen\n",
      "    request = Request(uri, io_mode, format_hint=format_hint, extension=extension)\n",
      "\n",
      "  File \"/Users/bzavolovich/anaconda3/lib/python3.10/site-packages/imageio/core/request.py\", line 247, in __init__\n",
      "    self._parse_uri(uri)\n",
      "\n",
      "  File \"/Users/bzavolovich/anaconda3/lib/python3.10/site-packages/imageio/core/request.py\", line 407, in _parse_uri\n",
      "    raise FileNotFoundError(\"No such file: '%s'\" % fn)\n",
      "\n",
      "FileNotFoundError: No such file: '/Users/bzavolovich/Developer/larynx_NN_model/data/larynx/test/6.png'\n",
      "\n",
      "\n"
     ]
    },
    {
     "name": "stdout",
     "output_type": "stream",
     "text": [
      "6/6 [==============================] - 4s 581ms/step\n"
     ]
    },
    {
     "name": "stderr",
     "output_type": "stream",
     "text": [
      "WARNING:imageio:Lossy conversion from float32 to uint8. Range [0, 1]. Convert image to uint8 prior to saving to suppress this warning.\n",
      "WARNING:imageio:Lossy conversion from float32 to uint8. Range [0, 1]. Convert image to uint8 prior to saving to suppress this warning.\n",
      "WARNING:imageio:Lossy conversion from float32 to uint8. Range [0, 1]. Convert image to uint8 prior to saving to suppress this warning.\n",
      "/Users/bzavolovich/Developer/larynx_NN_model/data.py:308: UserWarning: data/larynx/test/3_predict.png is a low contrast image\n",
      "  io.imsave(os.path.join(save_path, \"%d_predict.png\" % i), img)\n",
      "WARNING:imageio:Lossy conversion from float32 to uint8. Range [0, 1]. Convert image to uint8 prior to saving to suppress this warning.\n",
      "/Users/bzavolovich/Developer/larynx_NN_model/data.py:308: UserWarning: data/larynx/test/4_predict.png is a low contrast image\n",
      "  io.imsave(os.path.join(save_path, \"%d_predict.png\" % i), img)\n",
      "WARNING:imageio:Lossy conversion from float32 to uint8. Range [0, 1]. Convert image to uint8 prior to saving to suppress this warning.\n",
      "/Users/bzavolovich/Developer/larynx_NN_model/data.py:308: UserWarning: data/larynx/test/5_predict.png is a low contrast image\n",
      "  io.imsave(os.path.join(save_path, \"%d_predict.png\" % i), img)\n",
      "WARNING:imageio:Lossy conversion from float32 to uint8. Range [0, 1]. Convert image to uint8 prior to saving to suppress this warning.\n"
     ]
    }
   ],
   "source": [
    "from model import *\n",
    "from data import *\n",
    "from tensorflow import keras\n",
    "\n",
    "# os.environ[\"CUDA_VISIBLE_DEVICES\"] = \"0\"\n",
    "\n",
    "# initialize the model\n",
    "model = keras.models.load_model('unet_larynx.hdf5')\n",
    "# testing the model\n",
    "test_dataset = test_dataset_generator(\"data/larynx/test\")\n",
    "results = model.predict_generator(test_dataset, 6, verbose=1)\n",
    "saveResult(\"data/larynx/test\", results)"
   ]
  },
  {
   "cell_type": "code",
   "execution_count": null,
   "id": "72d72518",
   "metadata": {},
   "outputs": [],
   "source": []
  },
  {
   "cell_type": "code",
   "execution_count": null,
   "id": "4c164a49",
   "metadata": {},
   "outputs": [],
   "source": []
  }
 ],
 "metadata": {
  "kernelspec": {
   "display_name": "Python 3 (ipykernel)",
   "language": "python",
   "name": "python3"
  },
  "language_info": {
   "codemirror_mode": {
    "name": "ipython",
    "version": 3
   },
   "file_extension": ".py",
   "mimetype": "text/x-python",
   "name": "python",
   "nbconvert_exporter": "python",
   "pygments_lexer": "ipython3",
   "version": "3.10.9"
  }
 },
 "nbformat": 4,
 "nbformat_minor": 5
}
