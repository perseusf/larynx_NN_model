{
 "cells": [
  {
   "cell_type": "code",
   "execution_count": 1,
   "id": "470b159f",
   "metadata": {},
   "outputs": [],
   "source": [
    "import tensorflow as tf\n",
    "import datetime, os\n",
    "from model import *\n",
    "from data import *"
   ]
  },
  {
   "attachments": {},
   "cell_type": "markdown",
   "id": "f09389f6",
   "metadata": {},
   "source": [
    "#### Unpack videos and labels"
   ]
  },
  {
   "cell_type": "code",
   "execution_count": 2,
   "id": "86afb5df",
   "metadata": {},
   "outputs": [],
   "source": [
    "unpack_video('data/larynx/train', video_folder='video', image_folder='image/glottis', target_size=(256, 256))\n",
    "unpack_tif('data/larynx/train', tif_folder='tifs', label_folder='label/glottis', target_size=(256, 256))"
   ]
  },
  {
   "attachments": {},
   "cell_type": "markdown",
   "id": "56ed00c9",
   "metadata": {},
   "source": [
    "#### Initialize the model (U-Net)"
   ]
  },
  {
   "cell_type": "code",
   "execution_count": 3,
   "id": "f8a7d141",
   "metadata": {
    "scrolled": true
   },
   "outputs": [
    {
     "name": "stderr",
     "output_type": "stream",
     "text": [
      "WARNING:absl:`lr` is deprecated in Keras optimizer, please use `learning_rate` or use the legacy optimizer, e.g.,tf.keras.optimizers.legacy.Adam.\n"
     ]
    }
   ],
   "source": [
    "model = unet()\n",
    "# model_checkpoint = ModelCheckpoint('unet_larynx_{epoch:02d}-{loss:.2f}.hdf5', monitor='loss', verbose=1, save_best_only=True)\n",
    "model_checkpoint = ModelCheckpoint('unet_larynx.hdf5', monitor='val_loss', verbose=1, save_best_only=True)\n",
    "\n"
   ]
  },
  {
   "attachments": {},
   "cell_type": "markdown",
   "id": "a60f9eff",
   "metadata": {},
   "source": [
    "#### Prepare training dataset"
   ]
  },
  {
   "cell_type": "code",
   "execution_count": 11,
   "id": "c058c2c4",
   "metadata": {},
   "outputs": [
    {
     "name": "stderr",
     "output_type": "stream",
     "text": [
      "Copying files: 55 files [00:00, 2109.93 files/s]\n",
      "Copying files: 55 files [00:00, 1817.85 files/s]\n"
     ]
    }
   ],
   "source": [
    "import splitfolders\n",
    "\n",
    "splitfolders.ratio(\"data/larynx/train/image\", output=\"data/larynx/train/image_split\",\n",
    "    seed=1234, ratio=(.8, .2), group_prefix=None, move=False) \n",
    "splitfolders.ratio(\"data/larynx/train/label\", output=\"data/larynx/train/label_split\",\n",
    "    seed=1234, ratio=(.8, .2), group_prefix=None, move=False) \n",
    "\n",
    "\n",
    "training_dataset = training_dataset_generator(2,\n",
    "                                              'data/larynx/train',\n",
    "                                              'image_split/train/glottis',\n",
    "                                              'label_split/train/glottis',\n",
    "                                              save_to_dir=None)\n",
    "\n",
    "val_dataset = training_dataset_generator(2,\n",
    "                                              'data/larynx/train',\n",
    "                                              'image_split/val/glottis',\n",
    "                                              'label_split/val/glottis',\n",
    "                                              save_to_dir=None)"
   ]
  },
  {
   "cell_type": "code",
   "execution_count": 12,
   "id": "ef560264",
   "metadata": {
    "scrolled": false
   },
   "outputs": [
    {
     "ename": "KeyError",
     "evalue": "'glottis'",
     "output_type": "error",
     "traceback": [
      "\u001b[1;31m---------------------------------------------------------------------------\u001b[0m",
      "\u001b[1;31mKeyError\u001b[0m                                  Traceback (most recent call last)",
      "\u001b[1;32mc:\\dev\\git\\larynx_NN_model\\main.ipynb Cell 8\u001b[0m in \u001b[0;36m<cell line: 16>\u001b[1;34m()\u001b[0m\n\u001b[0;32m      <a href='vscode-notebook-cell:/c%3A/dev/git/larynx_NN_model/main.ipynb#X12sZmlsZQ%3D%3D?line=5'>6</a>\u001b[0m early_stopping \u001b[39m=\u001b[39m tf\u001b[39m.\u001b[39mkeras\u001b[39m.\u001b[39mcallbacks\u001b[39m.\u001b[39mEarlyStopping(\n\u001b[0;32m      <a href='vscode-notebook-cell:/c%3A/dev/git/larynx_NN_model/main.ipynb#X12sZmlsZQ%3D%3D?line=6'>7</a>\u001b[0m     monitor\u001b[39m=\u001b[39m\u001b[39m'\u001b[39m\u001b[39mval_loss\u001b[39m\u001b[39m'\u001b[39m,\n\u001b[0;32m      <a href='vscode-notebook-cell:/c%3A/dev/git/larynx_NN_model/main.ipynb#X12sZmlsZQ%3D%3D?line=7'>8</a>\u001b[0m     patience\u001b[39m=\u001b[39m\u001b[39m5\u001b[39m,\n\u001b[1;32m   (...)\u001b[0m\n\u001b[0;32m     <a href='vscode-notebook-cell:/c%3A/dev/git/larynx_NN_model/main.ipynb#X12sZmlsZQ%3D%3D?line=10'>11</a>\u001b[0m     restore_best_weights\u001b[39m=\u001b[39m\u001b[39mTrue\u001b[39;00m\n\u001b[0;32m     <a href='vscode-notebook-cell:/c%3A/dev/git/larynx_NN_model/main.ipynb#X12sZmlsZQ%3D%3D?line=11'>12</a>\u001b[0m )\n\u001b[0;32m     <a href='vscode-notebook-cell:/c%3A/dev/git/larynx_NN_model/main.ipynb#X12sZmlsZQ%3D%3D?line=14'>15</a>\u001b[0m \u001b[39m# Train the model using the training dataset and TensorBoard callback\u001b[39;00m\n\u001b[1;32m---> <a href='vscode-notebook-cell:/c%3A/dev/git/larynx_NN_model/main.ipynb#X12sZmlsZQ%3D%3D?line=15'>16</a>\u001b[0m history \u001b[39m=\u001b[39m model\u001b[39m.\u001b[39;49mfit(training_dataset, \n\u001b[0;32m     <a href='vscode-notebook-cell:/c%3A/dev/git/larynx_NN_model/main.ipynb#X12sZmlsZQ%3D%3D?line=16'>17</a>\u001b[0m           steps_per_epoch\u001b[39m=\u001b[39;49m\u001b[39m10\u001b[39;49m, \n\u001b[0;32m     <a href='vscode-notebook-cell:/c%3A/dev/git/larynx_NN_model/main.ipynb#X12sZmlsZQ%3D%3D?line=17'>18</a>\u001b[0m           epochs\u001b[39m=\u001b[39;49m\u001b[39m250\u001b[39;49m, \n\u001b[0;32m     <a href='vscode-notebook-cell:/c%3A/dev/git/larynx_NN_model/main.ipynb#X12sZmlsZQ%3D%3D?line=18'>19</a>\u001b[0m           callbacks\u001b[39m=\u001b[39;49m[model_checkpoint, tensorboard_callback, early_stopping],\n\u001b[0;32m     <a href='vscode-notebook-cell:/c%3A/dev/git/larynx_NN_model/main.ipynb#X12sZmlsZQ%3D%3D?line=19'>20</a>\u001b[0m           validation_data\u001b[39m=\u001b[39;49mval_dataset)\n",
      "File \u001b[1;32mc:\\Users\\perseusf\\anaconda3\\lib\\site-packages\\keras\\src\\utils\\traceback_utils.py:70\u001b[0m, in \u001b[0;36mfilter_traceback.<locals>.error_handler\u001b[1;34m(*args, **kwargs)\u001b[0m\n\u001b[0;32m     67\u001b[0m     filtered_tb \u001b[39m=\u001b[39m _process_traceback_frames(e\u001b[39m.\u001b[39m__traceback__)\n\u001b[0;32m     68\u001b[0m     \u001b[39m# To get the full stack trace, call:\u001b[39;00m\n\u001b[0;32m     69\u001b[0m     \u001b[39m# `tf.debugging.disable_traceback_filtering()`\u001b[39;00m\n\u001b[1;32m---> 70\u001b[0m     \u001b[39mraise\u001b[39;00m e\u001b[39m.\u001b[39mwith_traceback(filtered_tb) \u001b[39mfrom\u001b[39;00m \u001b[39mNone\u001b[39m\n\u001b[0;32m     71\u001b[0m \u001b[39mfinally\u001b[39;00m:\n\u001b[0;32m     72\u001b[0m     \u001b[39mdel\u001b[39;00m filtered_tb\n",
      "File \u001b[1;32mc:\\dev\\git\\larynx_NN_model\\data.py:174\u001b[0m, in \u001b[0;36mtraining_dataset_generator\u001b[1;34m(batch_size, train_path, image_folder, mask_folder, image_color_mode, mask_color_mode, image_save_prefix, mask_save_prefix, flag_multi_class, num_class, save_to_dir, target_size, seed)\u001b[0m\n\u001b[0;32m    171\u001b[0m image_datagen \u001b[39m=\u001b[39m ImageDataGenerator()\n\u001b[0;32m    172\u001b[0m mask_datagen \u001b[39m=\u001b[39m ImageDataGenerator()\n\u001b[1;32m--> 174\u001b[0m image_generator \u001b[39m=\u001b[39m image_datagen\u001b[39m.\u001b[39;49mflow_from_directory(\n\u001b[0;32m    175\u001b[0m     train_path,\n\u001b[0;32m    176\u001b[0m     classes\u001b[39m=\u001b[39;49m[image_folder],\n\u001b[0;32m    177\u001b[0m     class_mode\u001b[39m=\u001b[39;49m\u001b[39mNone\u001b[39;49;00m,\n\u001b[0;32m    178\u001b[0m     color_mode\u001b[39m=\u001b[39;49mimage_color_mode,\n\u001b[0;32m    179\u001b[0m     target_size\u001b[39m=\u001b[39;49mtarget_size,\n\u001b[0;32m    180\u001b[0m     batch_size\u001b[39m=\u001b[39;49mbatch_size,\n\u001b[0;32m    181\u001b[0m     save_to_dir\u001b[39m=\u001b[39;49msave_to_dir,\n\u001b[0;32m    182\u001b[0m     save_prefix\u001b[39m=\u001b[39;49mimage_save_prefix,\n\u001b[0;32m    183\u001b[0m     seed\u001b[39m=\u001b[39;49mseed)\n\u001b[0;32m    185\u001b[0m mask_generator \u001b[39m=\u001b[39m mask_datagen\u001b[39m.\u001b[39mflow_from_directory(\n\u001b[0;32m    186\u001b[0m     train_path,\n\u001b[0;32m    187\u001b[0m     classes\u001b[39m=\u001b[39m[mask_folder],\n\u001b[1;32m   (...)\u001b[0m\n\u001b[0;32m    193\u001b[0m     save_prefix\u001b[39m=\u001b[39mmask_save_prefix,\n\u001b[0;32m    194\u001b[0m     seed\u001b[39m=\u001b[39mseed)\n\u001b[0;32m    196\u001b[0m train_generator \u001b[39m=\u001b[39m \u001b[39mzip\u001b[39m(image_generator, mask_generator)\n",
      "File \u001b[1;32mc:\\Users\\perseusf\\anaconda3\\lib\\multiprocessing\\pool.py:771\u001b[0m, in \u001b[0;36mApplyResult.get\u001b[1;34m(self, timeout)\u001b[0m\n\u001b[0;32m    769\u001b[0m     \u001b[39mreturn\u001b[39;00m \u001b[39mself\u001b[39m\u001b[39m.\u001b[39m_value\n\u001b[0;32m    770\u001b[0m \u001b[39melse\u001b[39;00m:\n\u001b[1;32m--> 771\u001b[0m     \u001b[39mraise\u001b[39;00m \u001b[39mself\u001b[39m\u001b[39m.\u001b[39m_value\n",
      "File \u001b[1;32mc:\\Users\\perseusf\\anaconda3\\lib\\multiprocessing\\pool.py:125\u001b[0m, in \u001b[0;36mworker\u001b[1;34m(inqueue, outqueue, initializer, initargs, maxtasks, wrap_exception)\u001b[0m\n\u001b[0;32m    123\u001b[0m job, i, func, args, kwds \u001b[39m=\u001b[39m task\n\u001b[0;32m    124\u001b[0m \u001b[39mtry\u001b[39;00m:\n\u001b[1;32m--> 125\u001b[0m     result \u001b[39m=\u001b[39m (\u001b[39mTrue\u001b[39;00m, func(\u001b[39m*\u001b[39margs, \u001b[39m*\u001b[39m\u001b[39m*\u001b[39mkwds))\n\u001b[0;32m    126\u001b[0m \u001b[39mexcept\u001b[39;00m \u001b[39mException\u001b[39;00m \u001b[39mas\u001b[39;00m e:\n\u001b[0;32m    127\u001b[0m     \u001b[39mif\u001b[39;00m wrap_exception \u001b[39mand\u001b[39;00m func \u001b[39mis\u001b[39;00m \u001b[39mnot\u001b[39;00m _helper_reraises_exception:\n",
      "\u001b[1;31mKeyError\u001b[0m: 'glottis'"
     ]
    }
   ],
   "source": [
    "# Set up TensorBoard callback\n",
    "logdir = os.path.join(\"logs\", datetime.datetime.now().strftime(\"%Y%m%d-%H%M%S\"))\n",
    "tensorboard_callback = tf.keras.callbacks.TensorBoard(logdir, histogram_freq=1)\n",
    "\n",
    "# Early stopping callback\n",
    "early_stopping = tf.keras.callbacks.EarlyStopping(\n",
    "    monitor='val_loss',\n",
    "    patience=5,\n",
    "    verbose=1,\n",
    "    mode='min',\n",
    "    restore_best_weights=True\n",
    ")\n",
    "\n",
    "\n",
    "# Train the model using the training dataset and TensorBoard callback\n",
    "history = model.fit(training_dataset, \n",
    "          steps_per_epoch=10, \n",
    "          epochs=250, \n",
    "          callbacks=[model_checkpoint, tensorboard_callback, early_stopping],\n",
    "          validation_data=val_dataset)"
   ]
  },
  {
   "attachments": {},
   "cell_type": "markdown",
   "id": "ca66b6b2",
   "metadata": {},
   "source": [
    "#### Testing the model"
   ]
  },
  {
   "cell_type": "code",
   "execution_count": null,
   "id": "6f51a041",
   "metadata": {
    "scrolled": true
   },
   "outputs": [
    {
     "name": "stdout",
     "output_type": "stream",
     "text": [
      "5/5 [==============================] - 1s 172ms/step\n"
     ]
    },
    {
     "name": "stderr",
     "output_type": "stream",
     "text": [
      "WARNING:imageio:Lossy conversion from float32 to uint8. Range [0, 1]. Convert image to uint8 prior to saving to suppress this warning.\n",
      "WARNING:imageio:Lossy conversion from float32 to uint8. Range [0, 1]. Convert image to uint8 prior to saving to suppress this warning.\n",
      "WARNING:imageio:Lossy conversion from float32 to uint8. Range [0, 1]. Convert image to uint8 prior to saving to suppress this warning.\n",
      "WARNING:imageio:Lossy conversion from float32 to uint8. Range [0, 1]. Convert image to uint8 prior to saving to suppress this warning.\n",
      "WARNING:imageio:Lossy conversion from float32 to uint8. Range [0, 1]. Convert image to uint8 prior to saving to suppress this warning.\n",
      "c:\\Users\\perseusf\\anaconda3\\lib\\site-packages\\keras\\src\\utils\\image_utils.py:409: UserWarning: grayscale is deprecated. Please use color_mode = \"grayscale\"\n",
      "  warnings.warn(\n"
     ]
    },
    {
     "name": "stdout",
     "output_type": "stream",
     "text": [
      "55/55 [==============================] - 9s 172ms/step\n"
     ]
    },
    {
     "name": "stderr",
     "output_type": "stream",
     "text": [
      "c:\\dev\\git\\larynx_NN_model\\data.py:308: UserWarning: data/larynx/segment/segment_tmp\\0_predict.png is a low contrast image\n",
      "  io.imsave(os.path.join(save_path, \"%d_predict.png\" % i), img)\n",
      "WARNING:imageio:Lossy conversion from float32 to uint8. Range [0, 1]. Convert image to uint8 prior to saving to suppress this warning.\n",
      "c:\\dev\\git\\larynx_NN_model\\data.py:308: UserWarning: data/larynx/segment/segment_tmp\\1_predict.png is a low contrast image\n",
      "  io.imsave(os.path.join(save_path, \"%d_predict.png\" % i), img)\n",
      "WARNING:imageio:Lossy conversion from float32 to uint8. Range [0, 1]. Convert image to uint8 prior to saving to suppress this warning.\n",
      "c:\\dev\\git\\larynx_NN_model\\data.py:308: UserWarning: data/larynx/segment/segment_tmp\\2_predict.png is a low contrast image\n",
      "  io.imsave(os.path.join(save_path, \"%d_predict.png\" % i), img)\n",
      "WARNING:imageio:Lossy conversion from float32 to uint8. Range [0, 1]. Convert image to uint8 prior to saving to suppress this warning.\n",
      "c:\\dev\\git\\larynx_NN_model\\data.py:308: UserWarning: data/larynx/segment/segment_tmp\\3_predict.png is a low contrast image\n",
      "  io.imsave(os.path.join(save_path, \"%d_predict.png\" % i), img)\n",
      "WARNING:imageio:Lossy conversion from float32 to uint8. Range [0, 1]. Convert image to uint8 prior to saving to suppress this warning.\n",
      "c:\\dev\\git\\larynx_NN_model\\data.py:308: UserWarning: data/larynx/segment/segment_tmp\\4_predict.png is a low contrast image\n",
      "  io.imsave(os.path.join(save_path, \"%d_predict.png\" % i), img)\n",
      "WARNING:imageio:Lossy conversion from float32 to uint8. Range [0, 1]. Convert image to uint8 prior to saving to suppress this warning.\n",
      "c:\\dev\\git\\larynx_NN_model\\data.py:308: UserWarning: data/larynx/segment/segment_tmp\\5_predict.png is a low contrast image\n",
      "  io.imsave(os.path.join(save_path, \"%d_predict.png\" % i), img)\n",
      "WARNING:imageio:Lossy conversion from float32 to uint8. Range [0, 1]. Convert image to uint8 prior to saving to suppress this warning.\n",
      "c:\\dev\\git\\larynx_NN_model\\data.py:308: UserWarning: data/larynx/segment/segment_tmp\\6_predict.png is a low contrast image\n",
      "  io.imsave(os.path.join(save_path, \"%d_predict.png\" % i), img)\n",
      "WARNING:imageio:Lossy conversion from float32 to uint8. Range [0, 1]. Convert image to uint8 prior to saving to suppress this warning.\n",
      "c:\\dev\\git\\larynx_NN_model\\data.py:308: UserWarning: data/larynx/segment/segment_tmp\\7_predict.png is a low contrast image\n",
      "  io.imsave(os.path.join(save_path, \"%d_predict.png\" % i), img)\n",
      "WARNING:imageio:Lossy conversion from float32 to uint8. Range [0, 1]. Convert image to uint8 prior to saving to suppress this warning.\n",
      "c:\\dev\\git\\larynx_NN_model\\data.py:308: UserWarning: data/larynx/segment/segment_tmp\\8_predict.png is a low contrast image\n",
      "  io.imsave(os.path.join(save_path, \"%d_predict.png\" % i), img)\n",
      "WARNING:imageio:Lossy conversion from float32 to uint8. Range [0, 1]. Convert image to uint8 prior to saving to suppress this warning.\n",
      "c:\\dev\\git\\larynx_NN_model\\data.py:308: UserWarning: data/larynx/segment/segment_tmp\\9_predict.png is a low contrast image\n",
      "  io.imsave(os.path.join(save_path, \"%d_predict.png\" % i), img)\n",
      "WARNING:imageio:Lossy conversion from float32 to uint8. Range [0, 1]. Convert image to uint8 prior to saving to suppress this warning.\n",
      "c:\\dev\\git\\larynx_NN_model\\data.py:308: UserWarning: data/larynx/segment/segment_tmp\\10_predict.png is a low contrast image\n",
      "  io.imsave(os.path.join(save_path, \"%d_predict.png\" % i), img)\n",
      "WARNING:imageio:Lossy conversion from float32 to uint8. Range [0, 1]. Convert image to uint8 prior to saving to suppress this warning.\n",
      "c:\\dev\\git\\larynx_NN_model\\data.py:308: UserWarning: data/larynx/segment/segment_tmp\\11_predict.png is a low contrast image\n",
      "  io.imsave(os.path.join(save_path, \"%d_predict.png\" % i), img)\n",
      "WARNING:imageio:Lossy conversion from float32 to uint8. Range [0, 1]. Convert image to uint8 prior to saving to suppress this warning.\n",
      "c:\\dev\\git\\larynx_NN_model\\data.py:308: UserWarning: data/larynx/segment/segment_tmp\\12_predict.png is a low contrast image\n",
      "  io.imsave(os.path.join(save_path, \"%d_predict.png\" % i), img)\n",
      "WARNING:imageio:Lossy conversion from float32 to uint8. Range [0, 1]. Convert image to uint8 prior to saving to suppress this warning.\n",
      "c:\\dev\\git\\larynx_NN_model\\data.py:308: UserWarning: data/larynx/segment/segment_tmp\\13_predict.png is a low contrast image\n",
      "  io.imsave(os.path.join(save_path, \"%d_predict.png\" % i), img)\n",
      "WARNING:imageio:Lossy conversion from float32 to uint8. Range [0, 1]. Convert image to uint8 prior to saving to suppress this warning.\n",
      "c:\\dev\\git\\larynx_NN_model\\data.py:308: UserWarning: data/larynx/segment/segment_tmp\\14_predict.png is a low contrast image\n",
      "  io.imsave(os.path.join(save_path, \"%d_predict.png\" % i), img)\n",
      "WARNING:imageio:Lossy conversion from float32 to uint8. Range [0, 1]. Convert image to uint8 prior to saving to suppress this warning.\n",
      "c:\\dev\\git\\larynx_NN_model\\data.py:308: UserWarning: data/larynx/segment/segment_tmp\\15_predict.png is a low contrast image\n",
      "  io.imsave(os.path.join(save_path, \"%d_predict.png\" % i), img)\n",
      "WARNING:imageio:Lossy conversion from float32 to uint8. Range [0, 1]. Convert image to uint8 prior to saving to suppress this warning.\n",
      "c:\\dev\\git\\larynx_NN_model\\data.py:308: UserWarning: data/larynx/segment/segment_tmp\\16_predict.png is a low contrast image\n",
      "  io.imsave(os.path.join(save_path, \"%d_predict.png\" % i), img)\n",
      "WARNING:imageio:Lossy conversion from float32 to uint8. Range [0, 1]. Convert image to uint8 prior to saving to suppress this warning.\n",
      "c:\\dev\\git\\larynx_NN_model\\data.py:308: UserWarning: data/larynx/segment/segment_tmp\\17_predict.png is a low contrast image\n",
      "  io.imsave(os.path.join(save_path, \"%d_predict.png\" % i), img)\n",
      "WARNING:imageio:Lossy conversion from float32 to uint8. Range [0, 1]. Convert image to uint8 prior to saving to suppress this warning.\n",
      "c:\\dev\\git\\larynx_NN_model\\data.py:308: UserWarning: data/larynx/segment/segment_tmp\\18_predict.png is a low contrast image\n",
      "  io.imsave(os.path.join(save_path, \"%d_predict.png\" % i), img)\n",
      "WARNING:imageio:Lossy conversion from float32 to uint8. Range [0, 1]. Convert image to uint8 prior to saving to suppress this warning.\n",
      "c:\\dev\\git\\larynx_NN_model\\data.py:308: UserWarning: data/larynx/segment/segment_tmp\\19_predict.png is a low contrast image\n",
      "  io.imsave(os.path.join(save_path, \"%d_predict.png\" % i), img)\n",
      "WARNING:imageio:Lossy conversion from float32 to uint8. Range [0, 1]. Convert image to uint8 prior to saving to suppress this warning.\n",
      "c:\\dev\\git\\larynx_NN_model\\data.py:308: UserWarning: data/larynx/segment/segment_tmp\\20_predict.png is a low contrast image\n",
      "  io.imsave(os.path.join(save_path, \"%d_predict.png\" % i), img)\n",
      "WARNING:imageio:Lossy conversion from float32 to uint8. Range [0, 1]. Convert image to uint8 prior to saving to suppress this warning.\n",
      "c:\\dev\\git\\larynx_NN_model\\data.py:308: UserWarning: data/larynx/segment/segment_tmp\\21_predict.png is a low contrast image\n",
      "  io.imsave(os.path.join(save_path, \"%d_predict.png\" % i), img)\n",
      "WARNING:imageio:Lossy conversion from float32 to uint8. Range [0, 1]. Convert image to uint8 prior to saving to suppress this warning.\n",
      "c:\\dev\\git\\larynx_NN_model\\data.py:308: UserWarning: data/larynx/segment/segment_tmp\\22_predict.png is a low contrast image\n",
      "  io.imsave(os.path.join(save_path, \"%d_predict.png\" % i), img)\n",
      "WARNING:imageio:Lossy conversion from float32 to uint8. Range [0, 1]. Convert image to uint8 prior to saving to suppress this warning.\n",
      "c:\\dev\\git\\larynx_NN_model\\data.py:308: UserWarning: data/larynx/segment/segment_tmp\\23_predict.png is a low contrast image\n",
      "  io.imsave(os.path.join(save_path, \"%d_predict.png\" % i), img)\n",
      "WARNING:imageio:Lossy conversion from float32 to uint8. Range [0, 1]. Convert image to uint8 prior to saving to suppress this warning.\n",
      "c:\\dev\\git\\larynx_NN_model\\data.py:308: UserWarning: data/larynx/segment/segment_tmp\\24_predict.png is a low contrast image\n",
      "  io.imsave(os.path.join(save_path, \"%d_predict.png\" % i), img)\n",
      "WARNING:imageio:Lossy conversion from float32 to uint8. Range [0, 1]. Convert image to uint8 prior to saving to suppress this warning.\n",
      "c:\\dev\\git\\larynx_NN_model\\data.py:308: UserWarning: data/larynx/segment/segment_tmp\\25_predict.png is a low contrast image\n",
      "  io.imsave(os.path.join(save_path, \"%d_predict.png\" % i), img)\n",
      "WARNING:imageio:Lossy conversion from float32 to uint8. Range [0, 1]. Convert image to uint8 prior to saving to suppress this warning.\n",
      "c:\\dev\\git\\larynx_NN_model\\data.py:308: UserWarning: data/larynx/segment/segment_tmp\\26_predict.png is a low contrast image\n",
      "  io.imsave(os.path.join(save_path, \"%d_predict.png\" % i), img)\n",
      "WARNING:imageio:Lossy conversion from float32 to uint8. Range [0, 1]. Convert image to uint8 prior to saving to suppress this warning.\n",
      "c:\\dev\\git\\larynx_NN_model\\data.py:308: UserWarning: data/larynx/segment/segment_tmp\\27_predict.png is a low contrast image\n",
      "  io.imsave(os.path.join(save_path, \"%d_predict.png\" % i), img)\n",
      "WARNING:imageio:Lossy conversion from float32 to uint8. Range [0, 1]. Convert image to uint8 prior to saving to suppress this warning.\n",
      "c:\\dev\\git\\larynx_NN_model\\data.py:308: UserWarning: data/larynx/segment/segment_tmp\\28_predict.png is a low contrast image\n",
      "  io.imsave(os.path.join(save_path, \"%d_predict.png\" % i), img)\n",
      "WARNING:imageio:Lossy conversion from float32 to uint8. Range [0, 1]. Convert image to uint8 prior to saving to suppress this warning.\n",
      "c:\\dev\\git\\larynx_NN_model\\data.py:308: UserWarning: data/larynx/segment/segment_tmp\\29_predict.png is a low contrast image\n",
      "  io.imsave(os.path.join(save_path, \"%d_predict.png\" % i), img)\n",
      "WARNING:imageio:Lossy conversion from float32 to uint8. Range [0, 1]. Convert image to uint8 prior to saving to suppress this warning.\n",
      "c:\\dev\\git\\larynx_NN_model\\data.py:308: UserWarning: data/larynx/segment/segment_tmp\\30_predict.png is a low contrast image\n",
      "  io.imsave(os.path.join(save_path, \"%d_predict.png\" % i), img)\n",
      "WARNING:imageio:Lossy conversion from float32 to uint8. Range [0, 1]. Convert image to uint8 prior to saving to suppress this warning.\n",
      "c:\\dev\\git\\larynx_NN_model\\data.py:308: UserWarning: data/larynx/segment/segment_tmp\\31_predict.png is a low contrast image\n",
      "  io.imsave(os.path.join(save_path, \"%d_predict.png\" % i), img)\n",
      "WARNING:imageio:Lossy conversion from float32 to uint8. Range [0, 1]. Convert image to uint8 prior to saving to suppress this warning.\n",
      "c:\\dev\\git\\larynx_NN_model\\data.py:308: UserWarning: data/larynx/segment/segment_tmp\\32_predict.png is a low contrast image\n",
      "  io.imsave(os.path.join(save_path, \"%d_predict.png\" % i), img)\n",
      "WARNING:imageio:Lossy conversion from float32 to uint8. Range [0, 1]. Convert image to uint8 prior to saving to suppress this warning.\n",
      "c:\\dev\\git\\larynx_NN_model\\data.py:308: UserWarning: data/larynx/segment/segment_tmp\\33_predict.png is a low contrast image\n",
      "  io.imsave(os.path.join(save_path, \"%d_predict.png\" % i), img)\n",
      "WARNING:imageio:Lossy conversion from float32 to uint8. Range [0, 1]. Convert image to uint8 prior to saving to suppress this warning.\n",
      "c:\\dev\\git\\larynx_NN_model\\data.py:308: UserWarning: data/larynx/segment/segment_tmp\\34_predict.png is a low contrast image\n",
      "  io.imsave(os.path.join(save_path, \"%d_predict.png\" % i), img)\n",
      "WARNING:imageio:Lossy conversion from float32 to uint8. Range [0, 1]. Convert image to uint8 prior to saving to suppress this warning.\n",
      "c:\\dev\\git\\larynx_NN_model\\data.py:308: UserWarning: data/larynx/segment/segment_tmp\\35_predict.png is a low contrast image\n",
      "  io.imsave(os.path.join(save_path, \"%d_predict.png\" % i), img)\n",
      "WARNING:imageio:Lossy conversion from float32 to uint8. Range [0, 1]. Convert image to uint8 prior to saving to suppress this warning.\n",
      "c:\\dev\\git\\larynx_NN_model\\data.py:308: UserWarning: data/larynx/segment/segment_tmp\\36_predict.png is a low contrast image\n",
      "  io.imsave(os.path.join(save_path, \"%d_predict.png\" % i), img)\n",
      "WARNING:imageio:Lossy conversion from float32 to uint8. Range [0, 1]. Convert image to uint8 prior to saving to suppress this warning.\n",
      "c:\\dev\\git\\larynx_NN_model\\data.py:308: UserWarning: data/larynx/segment/segment_tmp\\37_predict.png is a low contrast image\n",
      "  io.imsave(os.path.join(save_path, \"%d_predict.png\" % i), img)\n",
      "WARNING:imageio:Lossy conversion from float32 to uint8. Range [0, 1]. Convert image to uint8 prior to saving to suppress this warning.\n",
      "c:\\dev\\git\\larynx_NN_model\\data.py:308: UserWarning: data/larynx/segment/segment_tmp\\38_predict.png is a low contrast image\n",
      "  io.imsave(os.path.join(save_path, \"%d_predict.png\" % i), img)\n",
      "WARNING:imageio:Lossy conversion from float32 to uint8. Range [0, 1]. Convert image to uint8 prior to saving to suppress this warning.\n",
      "c:\\dev\\git\\larynx_NN_model\\data.py:308: UserWarning: data/larynx/segment/segment_tmp\\39_predict.png is a low contrast image\n",
      "  io.imsave(os.path.join(save_path, \"%d_predict.png\" % i), img)\n",
      "WARNING:imageio:Lossy conversion from float32 to uint8. Range [0, 1]. Convert image to uint8 prior to saving to suppress this warning.\n",
      "c:\\dev\\git\\larynx_NN_model\\data.py:308: UserWarning: data/larynx/segment/segment_tmp\\40_predict.png is a low contrast image\n",
      "  io.imsave(os.path.join(save_path, \"%d_predict.png\" % i), img)\n",
      "WARNING:imageio:Lossy conversion from float32 to uint8. Range [0, 1]. Convert image to uint8 prior to saving to suppress this warning.\n",
      "c:\\dev\\git\\larynx_NN_model\\data.py:308: UserWarning: data/larynx/segment/segment_tmp\\41_predict.png is a low contrast image\n",
      "  io.imsave(os.path.join(save_path, \"%d_predict.png\" % i), img)\n",
      "WARNING:imageio:Lossy conversion from float32 to uint8. Range [0, 1]. Convert image to uint8 prior to saving to suppress this warning.\n",
      "c:\\dev\\git\\larynx_NN_model\\data.py:308: UserWarning: data/larynx/segment/segment_tmp\\42_predict.png is a low contrast image\n",
      "  io.imsave(os.path.join(save_path, \"%d_predict.png\" % i), img)\n",
      "WARNING:imageio:Lossy conversion from float32 to uint8. Range [0, 1]. Convert image to uint8 prior to saving to suppress this warning.\n",
      "c:\\dev\\git\\larynx_NN_model\\data.py:308: UserWarning: data/larynx/segment/segment_tmp\\43_predict.png is a low contrast image\n",
      "  io.imsave(os.path.join(save_path, \"%d_predict.png\" % i), img)\n",
      "WARNING:imageio:Lossy conversion from float32 to uint8. Range [0, 1]. Convert image to uint8 prior to saving to suppress this warning.\n",
      "c:\\dev\\git\\larynx_NN_model\\data.py:308: UserWarning: data/larynx/segment/segment_tmp\\44_predict.png is a low contrast image\n",
      "  io.imsave(os.path.join(save_path, \"%d_predict.png\" % i), img)\n",
      "WARNING:imageio:Lossy conversion from float32 to uint8. Range [0, 1]. Convert image to uint8 prior to saving to suppress this warning.\n",
      "c:\\dev\\git\\larynx_NN_model\\data.py:308: UserWarning: data/larynx/segment/segment_tmp\\45_predict.png is a low contrast image\n",
      "  io.imsave(os.path.join(save_path, \"%d_predict.png\" % i), img)\n",
      "WARNING:imageio:Lossy conversion from float32 to uint8. Range [0, 1]. Convert image to uint8 prior to saving to suppress this warning.\n",
      "c:\\dev\\git\\larynx_NN_model\\data.py:308: UserWarning: data/larynx/segment/segment_tmp\\46_predict.png is a low contrast image\n",
      "  io.imsave(os.path.join(save_path, \"%d_predict.png\" % i), img)\n",
      "WARNING:imageio:Lossy conversion from float32 to uint8. Range [0, 1]. Convert image to uint8 prior to saving to suppress this warning.\n",
      "c:\\dev\\git\\larynx_NN_model\\data.py:308: UserWarning: data/larynx/segment/segment_tmp\\47_predict.png is a low contrast image\n",
      "  io.imsave(os.path.join(save_path, \"%d_predict.png\" % i), img)\n",
      "WARNING:imageio:Lossy conversion from float32 to uint8. Range [0, 1]. Convert image to uint8 prior to saving to suppress this warning.\n",
      "c:\\dev\\git\\larynx_NN_model\\data.py:308: UserWarning: data/larynx/segment/segment_tmp\\48_predict.png is a low contrast image\n",
      "  io.imsave(os.path.join(save_path, \"%d_predict.png\" % i), img)\n",
      "WARNING:imageio:Lossy conversion from float32 to uint8. Range [0, 1]. Convert image to uint8 prior to saving to suppress this warning.\n",
      "c:\\dev\\git\\larynx_NN_model\\data.py:308: UserWarning: data/larynx/segment/segment_tmp\\49_predict.png is a low contrast image\n",
      "  io.imsave(os.path.join(save_path, \"%d_predict.png\" % i), img)\n",
      "WARNING:imageio:Lossy conversion from float32 to uint8. Range [0, 1]. Convert image to uint8 prior to saving to suppress this warning.\n",
      "c:\\dev\\git\\larynx_NN_model\\data.py:308: UserWarning: data/larynx/segment/segment_tmp\\50_predict.png is a low contrast image\n",
      "  io.imsave(os.path.join(save_path, \"%d_predict.png\" % i), img)\n",
      "WARNING:imageio:Lossy conversion from float32 to uint8. Range [0, 1]. Convert image to uint8 prior to saving to suppress this warning.\n",
      "c:\\dev\\git\\larynx_NN_model\\data.py:308: UserWarning: data/larynx/segment/segment_tmp\\51_predict.png is a low contrast image\n",
      "  io.imsave(os.path.join(save_path, \"%d_predict.png\" % i), img)\n",
      "WARNING:imageio:Lossy conversion from float32 to uint8. Range [0, 1]. Convert image to uint8 prior to saving to suppress this warning.\n",
      "c:\\dev\\git\\larynx_NN_model\\data.py:308: UserWarning: data/larynx/segment/segment_tmp\\52_predict.png is a low contrast image\n",
      "  io.imsave(os.path.join(save_path, \"%d_predict.png\" % i), img)\n",
      "WARNING:imageio:Lossy conversion from float32 to uint8. Range [0, 1]. Convert image to uint8 prior to saving to suppress this warning.\n",
      "c:\\dev\\git\\larynx_NN_model\\data.py:308: UserWarning: data/larynx/segment/segment_tmp\\53_predict.png is a low contrast image\n",
      "  io.imsave(os.path.join(save_path, \"%d_predict.png\" % i), img)\n",
      "WARNING:imageio:Lossy conversion from float32 to uint8. Range [0, 1]. Convert image to uint8 prior to saving to suppress this warning.\n",
      "c:\\dev\\git\\larynx_NN_model\\data.py:308: UserWarning: data/larynx/segment/segment_tmp\\54_predict.png is a low contrast image\n",
      "  io.imsave(os.path.join(save_path, \"%d_predict.png\" % i), img)\n",
      "WARNING:imageio:Lossy conversion from float32 to uint8. Range [0, 1]. Convert image to uint8 prior to saving to suppress this warning.\n"
     ]
    }
   ],
   "source": [
    "# testing the model\n",
    "test_dataset = test_dataset_generator(\"data/larynx/test\", num_image=5)\n",
    "results = model.predict(test_dataset, 3, verbose=1)\n",
    "saveResult(\"data/larynx/test\", results)\n"
   ]
  },
  {
   "cell_type": "code",
   "execution_count": null,
   "id": "b66e4d0d",
   "metadata": {},
   "outputs": [],
   "source": []
  }
 ],
 "metadata": {
  "kernelspec": {
   "display_name": "Python 3 (ipykernel)",
   "language": "python",
   "name": "python3"
  },
  "language_info": {
   "codemirror_mode": {
    "name": "ipython",
    "version": 3
   },
   "file_extension": ".py",
   "mimetype": "text/x-python",
   "name": "python",
   "nbconvert_exporter": "python",
   "pygments_lexer": "ipython3",
   "version": "3.9.12"
  }
 },
 "nbformat": 4,
 "nbformat_minor": 5
}
