{
 "cells": [
  {
   "cell_type": "code",
   "execution_count": 1,
   "id": "470b159f",
   "metadata": {},
   "outputs": [],
   "source": [
    "import tensorflow as tf\n",
    "import datetime, os, shutil\n",
    "from model import *\n",
    "from model import PredictCallback\n",
    "from data import *\n",
    "import splitfolders"
   ]
  },
  {
   "cell_type": "code",
   "execution_count": 2,
   "id": "54531c22",
   "metadata": {},
   "outputs": [
    {
     "name": "stdout",
     "output_type": "stream",
     "text": [
      "[PhysicalDevice(name='/physical_device:GPU:0', device_type='GPU')]\n"
     ]
    }
   ],
   "source": [
    "print(tf.config.list_physical_devices('GPU'))\n"
   ]
  },
  {
   "attachments": {},
   "cell_type": "markdown",
   "id": "56ed00c9",
   "metadata": {},
   "source": [
    "#### Initialize the model (U-Net)"
   ]
  },
  {
   "cell_type": "code",
   "execution_count": 3,
   "id": "f8a7d141",
   "metadata": {
    "scrolled": true
   },
   "outputs": [],
   "source": [
    "model = unet()\n",
    "# model_checkpoint = ModelCheckpoint('unet_larynx_{epoch:02d}-{loss:.2f}.hdf5', monitor='loss', verbose=1, save_best_only=True)\n",
    "model_checkpoint = ModelCheckpoint('unet_larynx.hdf5', monitor='val_loss', verbose=1, save_best_only=True)"
   ]
  },
  {
   "attachments": {},
   "cell_type": "markdown",
   "id": "f09389f6",
   "metadata": {},
   "source": [
    "#### Unpack videos and labels"
   ]
  },
  {
   "cell_type": "code",
   "execution_count": 4,
   "id": "86afb5df",
   "metadata": {},
   "outputs": [],
   "source": [
    "unpack_video('data/larynx/train', video_folder='video', image_folder='image/glottis', target_size=(256, 256))\n",
    "unpack_tif('data/larynx/train', tif_folder='tifs', label_folder='label/glottis', target_size=(256, 256))"
   ]
  },
  {
   "attachments": {},
   "cell_type": "markdown",
   "id": "a60f9eff",
   "metadata": {},
   "source": [
    "#### Prepare training dataset"
   ]
  },
  {
   "cell_type": "code",
   "execution_count": 6,
   "id": "c058c2c4",
   "metadata": {},
   "outputs": [
    {
     "name": "stderr",
     "output_type": "stream",
     "text": [
      "Copying files: 6011 files [00:19, 304.30 files/s]\n",
      "Copying files: 6011 files [00:13, 458.84 files/s]\n"
     ]
    }
   ],
   "source": [
    "splitfolders.ratio(\"data/larynx/train/image\", output=\"data/larynx/train/image_split\",\n",
    "    seed=1234, ratio=(.8, .2), group_prefix=None, move=False) \n",
    "splitfolders.ratio(\"data/larynx/train/label\", output=\"data/larynx/train/label_split\",\n",
    "    seed=1234, ratio=(.8, .2), group_prefix=None, move=False) \n"
   ]
  },
  {
   "cell_type": "code",
   "execution_count": 7,
   "id": "86b70570",
   "metadata": {},
   "outputs": [],
   "source": [
    "move_files(\"data/larynx/train/image_split/train/glottis/\", \"data/larynx/train/train_dataset/image/\")\n",
    "move_files(\"data/larynx/train/image_split/val/glottis/\", \"data/larynx/train/validation_dataset/image/\")\n",
    "\n",
    "move_files(\"data/larynx/train/label_split/train/glottis/\", \"data/larynx/train/train_dataset/label/\")\n",
    "move_files(\"data/larynx/train/label_split/val/glottis/\", \"data/larynx/train/validation_dataset/label/\")"
   ]
  },
  {
   "cell_type": "code",
   "execution_count": 4,
   "id": "2a3f9e7a",
   "metadata": {},
   "outputs": [],
   "source": [
    "\n",
    "training_dataset = training_dataset_generator(2,\n",
    "                                              'data/larynx/train/train_dataset/',\n",
    "                                              'image',\n",
    "                                              'label',\n",
    "                                              save_to_dir=None)\n",
    "\n",
    "val_dataset = training_dataset_generator(2,\n",
    "                                              'data/larynx/train/validation_dataset/',\n",
    "                                              'image',\n",
    "                                              'label',\n",
    "                                              save_to_dir=None)"
   ]
  },
  {
   "cell_type": "code",
   "execution_count": 5,
   "id": "ef560264",
   "metadata": {
    "scrolled": false
   },
   "outputs": [
    {
     "name": "stdout",
     "output_type": "stream",
     "text": [
      "Found 4808 images belonging to 1 classes.\n",
      "Found 4808 images belonging to 1 classes.\n",
      "Epoch 1/5000\n",
      "  6/100 [>.............................] - ETA: 6s - loss: 0.9091 - dice_coefficient: 0.0909WARNING:tensorflow:Callback method `on_train_batch_end` is slow compared to the batch time (batch time: 0.0092s vs `on_train_batch_end` time: 0.0543s). Check your callbacks.\n"
     ]
    },
    {
     "name": "stderr",
     "output_type": "stream",
     "text": [
      "WARNING:tensorflow:Callback method `on_train_batch_end` is slow compared to the batch time (batch time: 0.0092s vs `on_train_batch_end` time: 0.0543s). Check your callbacks.\n"
     ]
    },
    {
     "name": "stdout",
     "output_type": "stream",
     "text": [
      "100/100 [==============================] - ETA: 0s - loss: 0.9094 - dice_coefficient: 0.0906Found 1203 images belonging to 1 classes.\n",
      "Found 1203 images belonging to 1 classes.\n",
      "\n",
      "Epoch 1: val_loss improved from inf to 0.90408, saving model to unet_larynx.hdf5\n",
      "100/100 [==============================] - 21s 153ms/step - loss: 0.9094 - dice_coefficient: 0.0906 - val_loss: 0.9041 - val_dice_coefficient: 0.0959\n",
      "Epoch 2/5000\n",
      "100/100 [==============================] - ETA: 0s - loss: 0.8709 - dice_coefficient: 0.1291\n",
      "Epoch 2: val_loss improved from 0.90408 to 0.88025, saving model to unet_larynx.hdf5\n",
      "100/100 [==============================] - 11s 110ms/step - loss: 0.8709 - dice_coefficient: 0.1291 - val_loss: 0.8802 - val_dice_coefficient: 0.1198\n",
      "Epoch 3/5000\n",
      "100/100 [==============================] - ETA: 0s - loss: 0.8947 - dice_coefficient: 0.1053\n",
      "Epoch 3: val_loss did not improve from 0.88025\n",
      "100/100 [==============================] - 11s 107ms/step - loss: 0.8947 - dice_coefficient: 0.1053 - val_loss: 0.8930 - val_dice_coefficient: 0.1070\n",
      "Epoch 4/5000\n",
      "100/100 [==============================] - ETA: 0s - loss: 0.8730 - dice_coefficient: 0.1270\n",
      "Epoch 4: val_loss did not improve from 0.88025\n",
      "100/100 [==============================] - 11s 106ms/step - loss: 0.8730 - dice_coefficient: 0.1270 - val_loss: 0.8918 - val_dice_coefficient: 0.1082\n",
      "Epoch 5/5000\n",
      "100/100 [==============================] - ETA: 0s - loss: 0.8464 - dice_coefficient: 0.1536\n",
      "Epoch 5: val_loss did not improve from 0.88025\n",
      "100/100 [==============================] - 11s 105ms/step - loss: 0.8464 - dice_coefficient: 0.1536 - val_loss: 0.8948 - val_dice_coefficient: 0.1052\n",
      "Epoch 6/5000\n",
      "100/100 [==============================] - ETA: 0s - loss: 0.8655 - dice_coefficient: 0.1345\n",
      "Epoch 6: val_loss did not improve from 0.88025\n",
      "100/100 [==============================] - 10s 105ms/step - loss: 0.8655 - dice_coefficient: 0.1345 - val_loss: 0.8936 - val_dice_coefficient: 0.1060\n",
      "Epoch 7/5000\n",
      "100/100 [==============================] - ETA: 0s - loss: 0.8914 - dice_coefficient: 0.1086\n",
      "Epoch 7: val_loss did not improve from 0.88025\n",
      "100/100 [==============================] - 10s 105ms/step - loss: 0.8914 - dice_coefficient: 0.1086 - val_loss: 0.8823 - val_dice_coefficient: 0.1177\n",
      "Epoch 8/5000\n",
      "100/100 [==============================] - ETA: 0s - loss: 0.8725 - dice_coefficient: 0.1275\n",
      "Epoch 8: val_loss improved from 0.88025 to 0.87120, saving model to unet_larynx.hdf5\n",
      "100/100 [==============================] - 11s 111ms/step - loss: 0.8725 - dice_coefficient: 0.1275 - val_loss: 0.8712 - val_dice_coefficient: 0.1288\n",
      "Epoch 9/5000\n",
      "100/100 [==============================] - ETA: 0s - loss: 0.8606 - dice_coefficient: 0.1394\n",
      "Epoch 9: val_loss did not improve from 0.87120\n",
      "100/100 [==============================] - 10s 103ms/step - loss: 0.8606 - dice_coefficient: 0.1394 - val_loss: 0.8811 - val_dice_coefficient: 0.1189\n",
      "Epoch 10/5000\n",
      "100/100 [==============================] - ETA: 0s - loss: 0.8736 - dice_coefficient: 0.1264\n",
      "Epoch 10: val_loss did not improve from 0.87120\n",
      "100/100 [==============================] - 11s 106ms/step - loss: 0.8736 - dice_coefficient: 0.1264 - val_loss: 0.8738 - val_dice_coefficient: 0.1262\n",
      "Epoch 11/5000\n",
      "100/100 [==============================] - ETA: 0s - loss: 0.8904 - dice_coefficient: 0.1096\n",
      "Epoch 11: val_loss improved from 0.87120 to 0.86457, saving model to unet_larynx.hdf5\n",
      "100/100 [==============================] - 11s 110ms/step - loss: 0.8904 - dice_coefficient: 0.1096 - val_loss: 0.8646 - val_dice_coefficient: 0.1354\n",
      "Epoch 12/5000\n",
      "100/100 [==============================] - ETA: 0s - loss: 0.8590 - dice_coefficient: 0.1410\n",
      "Epoch 12: val_loss did not improve from 0.86457\n",
      "100/100 [==============================] - 11s 105ms/step - loss: 0.8590 - dice_coefficient: 0.1410 - val_loss: 0.8747 - val_dice_coefficient: 0.1247\n",
      "Epoch 13/5000\n",
      "100/100 [==============================] - ETA: 0s - loss: 0.8807 - dice_coefficient: 0.1193\n",
      "Epoch 13: val_loss improved from 0.86457 to 0.86196, saving model to unet_larynx.hdf5\n",
      "100/100 [==============================] - 11s 113ms/step - loss: 0.8807 - dice_coefficient: 0.1193 - val_loss: 0.8620 - val_dice_coefficient: 0.1380\n",
      "Epoch 14/5000\n",
      "100/100 [==============================] - ETA: 0s - loss: 0.8898 - dice_coefficient: 0.1102\n",
      "Epoch 14: val_loss improved from 0.86196 to 0.83878, saving model to unet_larynx.hdf5\n",
      "100/100 [==============================] - 11s 113ms/step - loss: 0.8898 - dice_coefficient: 0.1102 - val_loss: 0.8388 - val_dice_coefficient: 0.1612\n",
      "Epoch 15/5000\n",
      "100/100 [==============================] - ETA: 0s - loss: 0.8537 - dice_coefficient: 0.1463\n",
      "Epoch 15: val_loss did not improve from 0.83878\n",
      "100/100 [==============================] - 11s 106ms/step - loss: 0.8537 - dice_coefficient: 0.1463 - val_loss: 0.8816 - val_dice_coefficient: 0.1184\n",
      "Epoch 16/5000\n",
      "100/100 [==============================] - ETA: 0s - loss: 0.8601 - dice_coefficient: 0.1399\n",
      "Epoch 16: val_loss did not improve from 0.83878\n",
      "100/100 [==============================] - 11s 107ms/step - loss: 0.8601 - dice_coefficient: 0.1399 - val_loss: 0.8426 - val_dice_coefficient: 0.1574\n",
      "Epoch 17/5000\n",
      "100/100 [==============================] - ETA: 0s - loss: 0.8618 - dice_coefficient: 0.1382\n",
      "Epoch 17: val_loss did not improve from 0.83878\n",
      "100/100 [==============================] - 11s 107ms/step - loss: 0.8618 - dice_coefficient: 0.1382 - val_loss: 0.8761 - val_dice_coefficient: 0.1239\n",
      "Epoch 18/5000\n",
      "100/100 [==============================] - ETA: 0s - loss: 0.8712 - dice_coefficient: 0.1288\n",
      "Epoch 18: val_loss did not improve from 0.83878\n",
      "100/100 [==============================] - 11s 106ms/step - loss: 0.8712 - dice_coefficient: 0.1288 - val_loss: 0.8829 - val_dice_coefficient: 0.1165\n",
      "Epoch 19/5000\n",
      "100/100 [==============================] - ETA: 0s - loss: 0.8481 - dice_coefficient: 0.1519\n",
      "Epoch 19: val_loss did not improve from 0.83878\n",
      "100/100 [==============================] - 11s 106ms/step - loss: 0.8481 - dice_coefficient: 0.1519 - val_loss: 0.8478 - val_dice_coefficient: 0.1522\n",
      "Epoch 20/5000\n",
      "100/100 [==============================] - ETA: 0s - loss: 0.8549 - dice_coefficient: 0.1451\n",
      "Epoch 20: val_loss did not improve from 0.83878\n",
      "100/100 [==============================] - 11s 106ms/step - loss: 0.8549 - dice_coefficient: 0.1451 - val_loss: 0.8861 - val_dice_coefficient: 0.1139\n",
      "Epoch 21/5000\n",
      "100/100 [==============================] - ETA: 0s - loss: 0.8431 - dice_coefficient: 0.1569\n",
      "Epoch 21: val_loss did not improve from 0.83878\n",
      "100/100 [==============================] - 11s 106ms/step - loss: 0.8431 - dice_coefficient: 0.1569 - val_loss: 0.8686 - val_dice_coefficient: 0.1314\n",
      "Epoch 22/5000\n",
      "100/100 [==============================] - ETA: 0s - loss: 0.8776 - dice_coefficient: 0.1224\n",
      "Epoch 22: val_loss did not improve from 0.83878\n",
      "100/100 [==============================] - 10s 105ms/step - loss: 0.8776 - dice_coefficient: 0.1224 - val_loss: 0.8676 - val_dice_coefficient: 0.1324\n",
      "Epoch 23/5000\n",
      "100/100 [==============================] - ETA: 0s - loss: 0.8508 - dice_coefficient: 0.1492\n",
      "Epoch 23: val_loss did not improve from 0.83878\n",
      "100/100 [==============================] - 10s 105ms/step - loss: 0.8508 - dice_coefficient: 0.1492 - val_loss: 0.8458 - val_dice_coefficient: 0.1542\n",
      "Epoch 24/5000\n",
      "100/100 [==============================] - ETA: 0s - loss: 0.8695 - dice_coefficient: 0.1305\n",
      "Epoch 24: val_loss did not improve from 0.83878\n",
      "100/100 [==============================] - 11s 105ms/step - loss: 0.8695 - dice_coefficient: 0.1305 - val_loss: 0.8610 - val_dice_coefficient: 0.1385\n",
      "Epoch 25/5000\n",
      "100/100 [==============================] - ETA: 0s - loss: 0.8810 - dice_coefficient: 0.1190\n",
      "Epoch 25: val_loss did not improve from 0.83878\n",
      "100/100 [==============================] - 10s 105ms/step - loss: 0.8810 - dice_coefficient: 0.1190 - val_loss: 0.8815 - val_dice_coefficient: 0.1185\n",
      "Epoch 26/5000\n",
      "100/100 [==============================] - ETA: 0s - loss: 0.8173 - dice_coefficient: 0.1827\n",
      "Epoch 26: val_loss did not improve from 0.83878\n",
      "100/100 [==============================] - 10s 105ms/step - loss: 0.8173 - dice_coefficient: 0.1827 - val_loss: 0.8633 - val_dice_coefficient: 0.1367\n",
      "Epoch 27/5000\n",
      "100/100 [==============================] - ETA: 0s - loss: 0.8756 - dice_coefficient: 0.1244\n",
      "Epoch 27: val_loss did not improve from 0.83878\n",
      "100/100 [==============================] - 10s 105ms/step - loss: 0.8756 - dice_coefficient: 0.1244 - val_loss: 0.8534 - val_dice_coefficient: 0.1466\n",
      "Epoch 28/5000\n",
      "100/100 [==============================] - ETA: 0s - loss: 0.8452 - dice_coefficient: 0.1548\n",
      "Epoch 28: val_loss did not improve from 0.83878\n",
      "100/100 [==============================] - 10s 105ms/step - loss: 0.8452 - dice_coefficient: 0.1548 - val_loss: 0.8460 - val_dice_coefficient: 0.1540\n",
      "Epoch 29/5000\n",
      "100/100 [==============================] - ETA: 0s - loss: 0.8639 - dice_coefficient: 0.1361\n",
      "Epoch 29: val_loss did not improve from 0.83878\n",
      "100/100 [==============================] - 10s 105ms/step - loss: 0.8639 - dice_coefficient: 0.1361 - val_loss: 0.8466 - val_dice_coefficient: 0.1534\n",
      "Epoch 30/5000\n",
      "100/100 [==============================] - ETA: 0s - loss: 0.8489 - dice_coefficient: 0.1511\n",
      "Epoch 30: val_loss did not improve from 0.83878\n",
      "100/100 [==============================] - 11s 106ms/step - loss: 0.8489 - dice_coefficient: 0.1511 - val_loss: 0.8531 - val_dice_coefficient: 0.1466\n",
      "Epoch 31/5000\n",
      "100/100 [==============================] - ETA: 0s - loss: 0.8546 - dice_coefficient: 0.1454\n",
      "Epoch 31: val_loss did not improve from 0.83878\n",
      "100/100 [==============================] - 11s 108ms/step - loss: 0.8546 - dice_coefficient: 0.1454 - val_loss: 0.8440 - val_dice_coefficient: 0.1560\n",
      "Epoch 32/5000\n",
      "100/100 [==============================] - ETA: 0s - loss: 0.8587 - dice_coefficient: 0.1413\n",
      "Epoch 32: val_loss did not improve from 0.83878\n",
      "100/100 [==============================] - 11s 108ms/step - loss: 0.8587 - dice_coefficient: 0.1413 - val_loss: 0.8652 - val_dice_coefficient: 0.1348\n",
      "Epoch 33/5000\n",
      "100/100 [==============================] - ETA: 0s - loss: 0.8478 - dice_coefficient: 0.1522\n",
      "Epoch 33: val_loss improved from 0.83878 to 0.83263, saving model to unet_larynx.hdf5\n",
      "100/100 [==============================] - 11s 115ms/step - loss: 0.8478 - dice_coefficient: 0.1522 - val_loss: 0.8326 - val_dice_coefficient: 0.1674\n",
      "Epoch 34/5000\n",
      "100/100 [==============================] - ETA: 0s - loss: 0.8852 - dice_coefficient: 0.1148\n",
      "Epoch 34: val_loss did not improve from 0.83263\n",
      "100/100 [==============================] - 11s 107ms/step - loss: 0.8852 - dice_coefficient: 0.1148 - val_loss: 0.8520 - val_dice_coefficient: 0.1480\n",
      "Epoch 35/5000\n",
      "100/100 [==============================] - ETA: 0s - loss: 0.8577 - dice_coefficient: 0.1423\n",
      "Epoch 35: val_loss did not improve from 0.83263\n",
      "100/100 [==============================] - 11s 108ms/step - loss: 0.8577 - dice_coefficient: 0.1423 - val_loss: 0.8691 - val_dice_coefficient: 0.1309\n",
      "Epoch 36/5000\n",
      "100/100 [==============================] - ETA: 0s - loss: 0.8595 - dice_coefficient: 0.1405\n",
      "Epoch 36: val_loss did not improve from 0.83263\n",
      "100/100 [==============================] - 11s 108ms/step - loss: 0.8595 - dice_coefficient: 0.1405 - val_loss: 0.8719 - val_dice_coefficient: 0.1275\n",
      "Epoch 37/5000\n",
      "100/100 [==============================] - ETA: 0s - loss: 0.8687 - dice_coefficient: 0.1313\n",
      "Epoch 37: val_loss did not improve from 0.83263\n",
      "100/100 [==============================] - 11s 106ms/step - loss: 0.8687 - dice_coefficient: 0.1313 - val_loss: 0.8717 - val_dice_coefficient: 0.1283\n",
      "Epoch 38/5000\n",
      "100/100 [==============================] - ETA: 0s - loss: 0.8764 - dice_coefficient: 0.1236\n",
      "Epoch 38: val_loss did not improve from 0.83263\n",
      "100/100 [==============================] - 11s 107ms/step - loss: 0.8764 - dice_coefficient: 0.1236 - val_loss: 0.8562 - val_dice_coefficient: 0.1438\n",
      "Epoch 39/5000\n",
      "100/100 [==============================] - ETA: 0s - loss: 0.8618 - dice_coefficient: 0.1382\n",
      "Epoch 39: val_loss did not improve from 0.83263\n",
      "100/100 [==============================] - 11s 106ms/step - loss: 0.8618 - dice_coefficient: 0.1382 - val_loss: 0.8484 - val_dice_coefficient: 0.1516\n",
      "Epoch 40/5000\n",
      "100/100 [==============================] - ETA: 0s - loss: 0.8705 - dice_coefficient: 0.1295\n",
      "Epoch 40: val_loss did not improve from 0.83263\n",
      "100/100 [==============================] - 11s 109ms/step - loss: 0.8705 - dice_coefficient: 0.1295 - val_loss: 0.8720 - val_dice_coefficient: 0.1280\n",
      "Epoch 41/5000\n",
      "100/100 [==============================] - ETA: 0s - loss: 0.8637 - dice_coefficient: 0.1363\n",
      "Epoch 41: val_loss did not improve from 0.83263\n",
      "100/100 [==============================] - 11s 108ms/step - loss: 0.8637 - dice_coefficient: 0.1363 - val_loss: 0.8373 - val_dice_coefficient: 0.1627\n",
      "Epoch 42/5000\n",
      "100/100 [==============================] - ETA: 0s - loss: 0.8763 - dice_coefficient: 0.1237\n",
      "Epoch 42: val_loss did not improve from 0.83263\n",
      "100/100 [==============================] - 11s 108ms/step - loss: 0.8763 - dice_coefficient: 0.1237 - val_loss: 0.8549 - val_dice_coefficient: 0.1476\n",
      "Epoch 43/5000\n",
      "100/100 [==============================] - ETA: 0s - loss: 0.8406 - dice_coefficient: 0.1594\n",
      "Epoch 43: val_loss did not improve from 0.83263\n",
      "100/100 [==============================] - 11s 106ms/step - loss: 0.8406 - dice_coefficient: 0.1594 - val_loss: 0.8409 - val_dice_coefficient: 0.1591\n",
      "Epoch 44/5000\n",
      "100/100 [==============================] - ETA: 0s - loss: 0.8449 - dice_coefficient: 0.1551\n",
      "Epoch 44: val_loss did not improve from 0.83263\n",
      "100/100 [==============================] - 11s 106ms/step - loss: 0.8449 - dice_coefficient: 0.1551 - val_loss: 0.8368 - val_dice_coefficient: 0.1632\n",
      "Epoch 45/5000\n",
      "100/100 [==============================] - ETA: 0s - loss: 0.8593 - dice_coefficient: 0.1407\n",
      "Epoch 45: val_loss did not improve from 0.83263\n",
      "100/100 [==============================] - 11s 107ms/step - loss: 0.8593 - dice_coefficient: 0.1407 - val_loss: 0.8769 - val_dice_coefficient: 0.1231\n",
      "Epoch 46/5000\n",
      "100/100 [==============================] - ETA: 0s - loss: 0.8673 - dice_coefficient: 0.1327\n",
      "Epoch 46: val_loss did not improve from 0.83263\n",
      "100/100 [==============================] - 11s 107ms/step - loss: 0.8673 - dice_coefficient: 0.1327 - val_loss: 0.8621 - val_dice_coefficient: 0.1379\n",
      "Epoch 47/5000\n",
      "100/100 [==============================] - ETA: 0s - loss: 0.8576 - dice_coefficient: 0.1424\n",
      "Epoch 47: val_loss did not improve from 0.83263\n",
      "100/100 [==============================] - 11s 107ms/step - loss: 0.8576 - dice_coefficient: 0.1424 - val_loss: 0.8541 - val_dice_coefficient: 0.1459\n",
      "Epoch 48/5000\n",
      "100/100 [==============================] - ETA: 0s - loss: 0.8524 - dice_coefficient: 0.1476\n",
      "Epoch 48: val_loss did not improve from 0.83263\n",
      "100/100 [==============================] - 11s 108ms/step - loss: 0.8524 - dice_coefficient: 0.1476 - val_loss: 0.8621 - val_dice_coefficient: 0.1399\n",
      "Epoch 49/5000\n",
      "100/100 [==============================] - ETA: 0s - loss: 0.8592 - dice_coefficient: 0.1408\n",
      "Epoch 49: val_loss did not improve from 0.83263\n",
      "100/100 [==============================] - 11s 107ms/step - loss: 0.8592 - dice_coefficient: 0.1408 - val_loss: 0.8460 - val_dice_coefficient: 0.1540\n",
      "Epoch 50/5000\n",
      "100/100 [==============================] - ETA: 0s - loss: 0.8584 - dice_coefficient: 0.1416\n",
      "Epoch 50: val_loss did not improve from 0.83263\n",
      "100/100 [==============================] - 11s 108ms/step - loss: 0.8584 - dice_coefficient: 0.1416 - val_loss: 0.8514 - val_dice_coefficient: 0.1486\n",
      "Epoch 51/5000\n",
      "100/100 [==============================] - ETA: 0s - loss: 0.8564 - dice_coefficient: 0.1436\n",
      "Epoch 51: val_loss did not improve from 0.83263\n",
      "100/100 [==============================] - 11s 109ms/step - loss: 0.8564 - dice_coefficient: 0.1436 - val_loss: 0.8349 - val_dice_coefficient: 0.1651\n",
      "Epoch 52/5000\n",
      "100/100 [==============================] - ETA: 0s - loss: 0.8406 - dice_coefficient: 0.1594\n",
      "Epoch 52: val_loss did not improve from 0.83263\n",
      "100/100 [==============================] - 11s 106ms/step - loss: 0.8406 - dice_coefficient: 0.1594 - val_loss: 0.8566 - val_dice_coefficient: 0.1434\n",
      "Epoch 53/5000\n",
      "100/100 [==============================] - ETA: 0s - loss: 0.8714 - dice_coefficient: 0.1286\n",
      "Epoch 53: val_loss did not improve from 0.83263\n",
      "Restoring model weights from the end of the best epoch: 33.\n",
      "100/100 [==============================] - 11s 106ms/step - loss: 0.8714 - dice_coefficient: 0.1286 - val_loss: 0.8610 - val_dice_coefficient: 0.1390\n",
      "Epoch 53: early stopping\n"
     ]
    }
   ],
   "source": [
    "# Set up TensorBoard callback\n",
    "logdir = os.path.join(\"logs\", datetime.datetime.now().strftime(\"%Y%m%d-%H%M%S\"))\n",
    "tensorboard_callback = tf.keras.callbacks.TensorBoard(logdir, histogram_freq=1)\n",
    "\n",
    "# Early stopping callback\n",
    "early_stopping = tf.keras.callbacks.EarlyStopping(\n",
    "    monitor='val_loss',\n",
    "    patience=20,\n",
    "    verbose=1,\n",
    "    mode='auto',\n",
    "    restore_best_weights=True\n",
    ")\n",
    "\n",
    "path_to_image = 'data\\larynx\\image_callback'\n",
    "epoch_predict = PredictCallback(path_to_image)\n",
    "\n",
    "# Train the model using the training dataset and TensorBoard callback\n",
    "history = model.fit(training_dataset, \n",
    "          steps_per_epoch=100, \n",
    "          epochs=5000, \n",
    "          callbacks=[model_checkpoint, tensorboard_callback, early_stopping, epoch_predict],\n",
    "          validation_data=val_dataset,\n",
    "          validation_steps=100\n",
    "        )"
   ]
  },
  {
   "cell_type": "code",
   "execution_count": null,
   "id": "8e6f00b9",
   "metadata": {},
   "outputs": [
    {
     "data": {
      "image/png": "[encoded data removed]",
      "text/plain": [
       "<Figure size 432x288 with 1 Axes>"
      ]
     },
     "metadata": {
      "needs_background": "light"
     },
     "output_type": "display_data"
    }
   ],
   "source": [
    "import matplotlib.pyplot as plt\n",
    "\n",
    "plt.plot(history.history['loss'])\n",
    "plt.plot(history.history['val_loss'])\n",
    "plt.title('model loss')\n",
    "plt.ylabel('loss')\n",
    "plt.xlabel('epoch')\n",
    "plt.legend(['train', 'val'], loc='upper left')\n",
    "plt.show()"
   ]
  },
  {
   "cell_type": "code",
   "execution_count": null,
   "id": "26a40c6c",
   "metadata": {},
   "outputs": [
    {
     "data": {
      "image/png": "[encoded data removed]",
      "text/plain": [
       "<Figure size 432x288 with 1 Axes>"
      ]
     },
     "metadata": {
      "needs_background": "light"
     },
     "output_type": "display_data"
    }
   ],
   "source": [
    "import matplotlib.pyplot as plt\n",
    "\n",
    "plt.plot(history.history['dice_coefficient'])\n",
    "plt.plot(history.history['val_dice_coefficient'])\n",
    "plt.title('model dice')\n",
    "plt.ylabel('dice')\n",
    "plt.xlabel('epoch')\n",
    "plt.legend(['train', 'val'], loc='upper left')\n",
    "plt.show()"
   ]
  },
  {
   "attachments": {},
   "cell_type": "markdown",
   "id": "ca66b6b2",
   "metadata": {},
   "source": [
    "#### Testing the model"
   ]
  },
  {
   "cell_type": "code",
   "execution_count": null,
   "id": "6f51a041",
   "metadata": {
    "scrolled": true
   },
   "outputs": [
    {
     "ename": "TypeError",
     "evalue": "test_dataset_generator() got an unexpected keyword argument 'num_image'",
     "output_type": "error",
     "traceback": [
      "\u001b[1;31m---------------------------------------------------------------------------\u001b[0m",
      "\u001b[1;31mTypeError\u001b[0m                                 Traceback (most recent call last)",
      "\u001b[1;32mc:\\dev\\git\\larynx_NN_model\\main.ipynb Cell 13\u001b[0m in \u001b[0;36m<cell line: 2>\u001b[1;34m()\u001b[0m\n\u001b[0;32m      <a href='vscode-notebook-cell:/c%3A/dev/git/larynx_NN_model/main.ipynb#X14sZmlsZQ%3D%3D?line=0'>1</a>\u001b[0m \u001b[39m# testing the model\u001b[39;00m\n\u001b[1;32m----> <a href='vscode-notebook-cell:/c%3A/dev/git/larynx_NN_model/main.ipynb#X14sZmlsZQ%3D%3D?line=1'>2</a>\u001b[0m test_dataset \u001b[39m=\u001b[39m test_dataset_generator(\u001b[39m\"\u001b[39;49m\u001b[39mdata/larynx/test\u001b[39;49m\u001b[39m\"\u001b[39;49m, num_image\u001b[39m=\u001b[39;49m\u001b[39m5\u001b[39;49m)\n\u001b[0;32m      <a href='vscode-notebook-cell:/c%3A/dev/git/larynx_NN_model/main.ipynb#X14sZmlsZQ%3D%3D?line=2'>3</a>\u001b[0m results \u001b[39m=\u001b[39m model\u001b[39m.\u001b[39mpredict(test_dataset, \u001b[39m3\u001b[39m, verbose\u001b[39m=\u001b[39m\u001b[39m1\u001b[39m)\n\u001b[0;32m      <a href='vscode-notebook-cell:/c%3A/dev/git/larynx_NN_model/main.ipynb#X14sZmlsZQ%3D%3D?line=3'>4</a>\u001b[0m saveResult(\u001b[39m\"\u001b[39m\u001b[39mdata/larynx/test\u001b[39m\u001b[39m\"\u001b[39m, results)\n",
      "\u001b[1;31mTypeError\u001b[0m: test_dataset_generator() got an unexpected keyword argument 'num_image'"
     ]
    }
   ],
   "source": [
    "# testing the model\n",
    "test_dataset = test_dataset_generator(\"data/larynx/test\", num_image=5)\n",
    "results = model.predict(test_dataset, 3, verbose=1)\n",
    "saveResult(\"data/larynx/test\", results)\n"
   ]
  },
  {
   "cell_type": "code",
   "execution_count": null,
   "id": "13af7b34",
   "metadata": {},
   "outputs": [],
   "source": [
    "%tensorboard"
   ]
  }
 ],
 "metadata": {
  "kernelspec": {
   "display_name": "Python 3 (ipykernel)",
   "language": "python",
   "name": "python3"
  },
  "language_info": {
   "codemirror_mode": {
    "name": "ipython",
    "version": 3
   },
   "file_extension": ".py",
   "mimetype": "text/x-python",
   "name": "python",
   "nbconvert_exporter": "python",
   "pygments_lexer": "ipython3",
   "version": "3.9.12"
  }
 },
 "nbformat": 4,
 "nbformat_minor": 5
}
