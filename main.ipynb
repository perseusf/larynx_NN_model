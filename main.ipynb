{
 "cells": [
  {
   "cell_type": "code",
   "execution_count": 24,
   "id": "470b159f",
   "metadata": {},
   "outputs": [],
   "source": [
    "import tensorflow as tf\n",
    "import datetime, os\n",
    "from model import *\n",
    "from data import *"
   ]
  },
  {
   "attachments": {},
   "cell_type": "markdown",
   "id": "f09389f6",
   "metadata": {},
   "source": [
    "#### Unpack videos and labels"
   ]
  },
  {
   "cell_type": "code",
   "execution_count": 25,
   "id": "86afb5df",
   "metadata": {},
   "outputs": [],
   "source": [
    "unpack_video('data/larynx/train', video_folder='video', image_folder='image', target_size=(256, 256))\n",
    "unpack_tif('data/larynx/train', tif_folder='tifs', label_folder='label', target_size=(256, 256))"
   ]
  },
  {
   "attachments": {},
   "cell_type": "markdown",
   "id": "20c9f263",
   "metadata": {},
   "source": [
    "#### Launch TensorBoard Session"
   ]
  },
  {
   "cell_type": "code",
   "execution_count": 26,
   "id": "3ca80e6f",
   "metadata": {},
   "outputs": [
    {
     "name": "stdout",
     "output_type": "stream",
     "text": [
      "The tensorboard extension is already loaded. To reload it, use:\n",
      "  %reload_ext tensorboard\n"
     ]
    }
   ],
   "source": [
    "%load_ext tensorboard\n",
    "%reload_ext tensorboard"
   ]
  },
  {
   "attachments": {},
   "cell_type": "markdown",
   "id": "56ed00c9",
   "metadata": {},
   "source": [
    "#### Initialize the model (U-Net)"
   ]
  },
  {
   "cell_type": "code",
   "execution_count": 27,
   "id": "f8a7d141",
   "metadata": {
    "scrolled": true
   },
   "outputs": [
    {
     "name": "stderr",
     "output_type": "stream",
     "text": [
      "WARNING:absl:`lr` is deprecated in Keras optimizer, please use `learning_rate` or use the legacy optimizer, e.g.,tf.keras.optimizers.legacy.Adam.\n"
     ]
    }
   ],
   "source": [
    "model = unet()\n",
    "model_checkpoint = ModelCheckpoint('unet_larynx.hdf5', monitor='loss', verbose=1, save_best_only=True)"
   ]
  },
  {
   "attachments": {},
   "cell_type": "markdown",
   "id": "a60f9eff",
   "metadata": {},
   "source": [
    "#### Prepare training dataset"
   ]
  },
  {
   "cell_type": "code",
   "execution_count": 28,
   "id": "c058c2c4",
   "metadata": {},
   "outputs": [],
   "source": [
    "training_dataset = training_dataset_generator(2,\n",
    "                                              'data/larynx/train',\n",
    "                                              'image',\n",
    "                                              'label',\n",
    "                                              dict([]),\n",
    "                                              save_to_dir=None)"
   ]
  },
  {
   "cell_type": "code",
   "execution_count": 30,
   "id": "ef560264",
   "metadata": {
    "scrolled": false
   },
   "outputs": [
    {
     "name": "stdout",
     "output_type": "stream",
     "text": [
      "Found 55 images belonging to 1 classes.\n",
      "Found 55 images belonging to 1 classes.\n",
      "Epoch 1/200\n",
      "10/10 [==============================] - ETA: 0s - loss: 7.0844 - accuracy: 0.9065\n",
      "Epoch 1: loss improved from inf to 7.08439, saving model to unet_larynx.hdf5\n"
     ]
    },
    {
     "name": "stderr",
     "output_type": "stream",
     "text": [
      "c:\\Users\\perseusf\\anaconda3\\lib\\site-packages\\keras\\src\\engine\\training.py:3000: UserWarning: You are saving your model as an HDF5 file via `model.save()`. This file format is considered legacy. We recommend using instead the native Keras format, e.g. `model.save('my_model.keras')`.\n",
      "  saving_api.save_model(\n"
     ]
    },
    {
     "name": "stdout",
     "output_type": "stream",
     "text": [
      "10/10 [==============================] - 32s 3s/step - loss: 7.0844 - accuracy: 0.9065\n",
      "Epoch 2/200\n",
      "10/10 [==============================] - ETA: 0s - loss: 0.2196 - accuracy: 0.9642\n",
      "Epoch 2: loss improved from 7.08439 to 0.21961, saving model to unet_larynx.hdf5\n",
      "10/10 [==============================] - 21s 2s/step - loss: 0.2196 - accuracy: 0.9642\n",
      "Epoch 3/200\n",
      "10/10 [==============================] - ETA: 0s - loss: 0.1531 - accuracy: 0.9821\n",
      "Epoch 3: loss improved from 0.21961 to 0.15314, saving model to unet_larynx.hdf5\n",
      "10/10 [==============================] - 19s 2s/step - loss: 0.1531 - accuracy: 0.9821\n",
      "Epoch 4/200\n",
      "10/10 [==============================] - ETA: 0s - loss: 0.1555 - accuracy: 0.9759\n",
      "Epoch 4: loss did not improve from 0.15314\n",
      "10/10 [==============================] - 19s 2s/step - loss: 0.1555 - accuracy: 0.9759\n",
      "Epoch 5/200\n",
      "10/10 [==============================] - ETA: 0s - loss: 0.2655 - accuracy: 0.9580\n",
      "Epoch 5: loss did not improve from 0.15314\n",
      "10/10 [==============================] - 19s 2s/step - loss: 0.2655 - accuracy: 0.9580\n",
      "Epoch 6/200\n",
      "10/10 [==============================] - ETA: 0s - loss: 0.1620 - accuracy: 0.9720\n",
      "Epoch 6: loss did not improve from 0.15314\n",
      "10/10 [==============================] - 18s 2s/step - loss: 0.1620 - accuracy: 0.9720\n",
      "Epoch 7/200\n",
      "10/10 [==============================] - ETA: 0s - loss: 0.1549 - accuracy: 0.9684\n",
      "Epoch 7: loss did not improve from 0.15314\n",
      "10/10 [==============================] - 19s 2s/step - loss: 0.1549 - accuracy: 0.9684\n",
      "Epoch 8/200\n",
      "10/10 [==============================] - ETA: 0s - loss: 0.1762 - accuracy: 0.9695\n",
      "Epoch 8: loss did not improve from 0.15314\n",
      "10/10 [==============================] - 19s 2s/step - loss: 0.1762 - accuracy: 0.9695\n",
      "Epoch 9/200\n",
      "10/10 [==============================] - ETA: 0s - loss: 0.2023 - accuracy: 0.9642\n",
      "Epoch 9: loss did not improve from 0.15314\n",
      "10/10 [==============================] - 19s 2s/step - loss: 0.2023 - accuracy: 0.9642\n",
      "Epoch 10/200\n",
      "10/10 [==============================] - ETA: 0s - loss: 0.1661 - accuracy: 0.9682\n",
      "Epoch 10: loss did not improve from 0.15314\n",
      "10/10 [==============================] - 19s 2s/step - loss: 0.1661 - accuracy: 0.9682\n",
      "Epoch 11/200\n",
      "10/10 [==============================] - ETA: 0s - loss: 0.1056 - accuracy: 0.9809\n",
      "Epoch 11: loss improved from 0.15314 to 0.10557, saving model to unet_larynx.hdf5\n",
      "10/10 [==============================] - 20s 2s/step - loss: 0.1056 - accuracy: 0.9809\n",
      "Epoch 12/200\n",
      "10/10 [==============================] - ETA: 0s - loss: 0.6837 - accuracy: 0.9548\n",
      "Epoch 12: loss did not improve from 0.10557\n",
      "10/10 [==============================] - 18s 2s/step - loss: 0.6837 - accuracy: 0.9548\n",
      "Epoch 13/200\n",
      "10/10 [==============================] - ETA: 0s - loss: 0.2482 - accuracy: 0.9744\n",
      "Epoch 13: loss did not improve from 0.10557\n",
      "10/10 [==============================] - 19s 2s/step - loss: 0.2482 - accuracy: 0.9744\n",
      "Epoch 14/200\n",
      "10/10 [==============================] - ETA: 0s - loss: 0.1422 - accuracy: 0.9765\n",
      "Epoch 14: loss did not improve from 0.10557\n",
      "10/10 [==============================] - 19s 2s/step - loss: 0.1422 - accuracy: 0.9765\n",
      "Epoch 15/200\n",
      "10/10 [==============================] - ETA: 0s - loss: 0.2037 - accuracy: 0.9639\n",
      "Epoch 15: loss did not improve from 0.10557\n",
      "10/10 [==============================] - 19s 2s/step - loss: 0.2037 - accuracy: 0.9639\n",
      "Epoch 16/200\n",
      "10/10 [==============================] - ETA: 0s - loss: 0.1510 - accuracy: 0.9753\n",
      "Epoch 16: loss did not improve from 0.10557\n",
      "10/10 [==============================] - 19s 2s/step - loss: 0.1510 - accuracy: 0.9753\n",
      "Epoch 17/200\n",
      "10/10 [==============================] - ETA: 0s - loss: 0.1695 - accuracy: 0.9655\n",
      "Epoch 17: loss did not improve from 0.10557\n",
      "10/10 [==============================] - 19s 2s/step - loss: 0.1695 - accuracy: 0.9655\n",
      "Epoch 18/200\n",
      "10/10 [==============================] - ETA: 0s - loss: 0.1665 - accuracy: 0.9687\n",
      "Epoch 18: loss did not improve from 0.10557\n",
      "10/10 [==============================] - 19s 2s/step - loss: 0.1665 - accuracy: 0.9687\n",
      "Epoch 19/200\n",
      "10/10 [==============================] - ETA: 0s - loss: 0.1553 - accuracy: 0.9704\n",
      "Epoch 19: loss did not improve from 0.10557\n",
      "10/10 [==============================] - 19s 2s/step - loss: 0.1553 - accuracy: 0.9704\n",
      "Epoch 20/200\n",
      "10/10 [==============================] - ETA: 0s - loss: 0.1479 - accuracy: 0.9734\n",
      "Epoch 20: loss did not improve from 0.10557\n",
      "10/10 [==============================] - 19s 2s/step - loss: 0.1479 - accuracy: 0.9734\n",
      "Epoch 21/200\n",
      "10/10 [==============================] - ETA: 0s - loss: 0.7057 - accuracy: 0.9713\n",
      "Epoch 21: loss did not improve from 0.10557\n",
      "10/10 [==============================] - 19s 2s/step - loss: 0.7057 - accuracy: 0.9713\n",
      "Epoch 22/200\n",
      "10/10 [==============================] - ETA: 0s - loss: 0.2236 - accuracy: 0.9691\n",
      "Epoch 22: loss did not improve from 0.10557\n",
      "10/10 [==============================] - 19s 2s/step - loss: 0.2236 - accuracy: 0.9691\n",
      "Epoch 23/200\n",
      "10/10 [==============================] - ETA: 0s - loss: 0.1779 - accuracy: 0.9684\n",
      "Epoch 23: loss did not improve from 0.10557\n",
      "10/10 [==============================] - 19s 2s/step - loss: 0.1779 - accuracy: 0.9684\n",
      "Epoch 24/200\n",
      "10/10 [==============================] - ETA: 0s - loss: 0.1929 - accuracy: 0.9694\n",
      "Epoch 24: loss did not improve from 0.10557\n",
      "10/10 [==============================] - 19s 2s/step - loss: 0.1929 - accuracy: 0.9694\n",
      "Epoch 25/200\n",
      "10/10 [==============================] - ETA: 0s - loss: 0.1552 - accuracy: 0.9716\n",
      "Epoch 25: loss did not improve from 0.10557\n",
      "10/10 [==============================] - 19s 2s/step - loss: 0.1552 - accuracy: 0.9716\n",
      "Epoch 26/200\n",
      "10/10 [==============================] - ETA: 0s - loss: 0.1798 - accuracy: 0.9660\n",
      "Epoch 26: loss did not improve from 0.10557\n",
      "10/10 [==============================] - 19s 2s/step - loss: 0.1798 - accuracy: 0.9660\n",
      "Epoch 27/200\n",
      "10/10 [==============================] - ETA: 0s - loss: 0.1625 - accuracy: 0.9729\n",
      "Epoch 27: loss did not improve from 0.10557\n",
      "10/10 [==============================] - 19s 2s/step - loss: 0.1625 - accuracy: 0.9729\n",
      "Epoch 28/200\n",
      "10/10 [==============================] - ETA: 0s - loss: 0.2182 - accuracy: 0.9663\n",
      "Epoch 28: loss did not improve from 0.10557\n",
      "10/10 [==============================] - 19s 2s/step - loss: 0.2182 - accuracy: 0.9663\n",
      "Epoch 29/200\n",
      "10/10 [==============================] - ETA: 0s - loss: 0.1727 - accuracy: 0.9638\n",
      "Epoch 29: loss did not improve from 0.10557\n",
      "10/10 [==============================] - 19s 2s/step - loss: 0.1727 - accuracy: 0.9638\n",
      "Epoch 30/200\n",
      "10/10 [==============================] - ETA: 0s - loss: 0.1841 - accuracy: 0.9704\n",
      "Epoch 30: loss did not improve from 0.10557\n",
      "10/10 [==============================] - 19s 2s/step - loss: 0.1841 - accuracy: 0.9704\n",
      "Epoch 31/200\n",
      "10/10 [==============================] - ETA: 0s - loss: 0.1628 - accuracy: 0.9775\n",
      "Epoch 31: loss did not improve from 0.10557\n",
      "10/10 [==============================] - 19s 2s/step - loss: 0.1628 - accuracy: 0.9775\n",
      "Epoch 32/200\n",
      "10/10 [==============================] - ETA: 0s - loss: 0.1661 - accuracy: 0.9696\n",
      "Epoch 32: loss did not improve from 0.10557\n",
      "10/10 [==============================] - 20s 2s/step - loss: 0.1661 - accuracy: 0.9696\n",
      "Epoch 33/200\n",
      "10/10 [==============================] - ETA: 0s - loss: 0.1721 - accuracy: 0.9635\n",
      "Epoch 33: loss did not improve from 0.10557\n",
      "10/10 [==============================] - 19s 2s/step - loss: 0.1721 - accuracy: 0.9635\n",
      "Epoch 34/200\n",
      "10/10 [==============================] - ETA: 0s - loss: 0.1520 - accuracy: 0.9711\n",
      "Epoch 34: loss did not improve from 0.10557\n",
      "10/10 [==============================] - 19s 2s/step - loss: 0.1520 - accuracy: 0.9711\n",
      "Epoch 35/200\n",
      "10/10 [==============================] - ETA: 0s - loss: 0.1656 - accuracy: 0.9680\n",
      "Epoch 35: loss did not improve from 0.10557\n",
      "10/10 [==============================] - 20s 2s/step - loss: 0.1656 - accuracy: 0.9680\n",
      "Epoch 36/200\n",
      "10/10 [==============================] - ETA: 0s - loss: 0.1550 - accuracy: 0.9697\n",
      "Epoch 36: loss did not improve from 0.10557\n",
      "10/10 [==============================] - 19s 2s/step - loss: 0.1550 - accuracy: 0.9697\n",
      "Epoch 37/200\n",
      "10/10 [==============================] - ETA: 0s - loss: 0.1893 - accuracy: 0.9751\n",
      "Epoch 37: loss did not improve from 0.10557\n",
      "10/10 [==============================] - 19s 2s/step - loss: 0.1893 - accuracy: 0.9751\n",
      "Epoch 38/200\n",
      " 7/10 [====================>.........] - ETA: 5s - loss: 1.5360 - accuracy: 0.9521"
     ]
    },
    {
     "ename": "KeyboardInterrupt",
     "evalue": "",
     "output_type": "error",
     "traceback": [
      "\u001b[1;31m---------------------------------------------------------------------------\u001b[0m",
      "\u001b[1;31mKeyboardInterrupt\u001b[0m                         Traceback (most recent call last)",
      "\u001b[1;32mc:\\dev\\git\\larynx_NN_model\\main.ipynb Cell 10\u001b[0m in \u001b[0;36m<cell line: 10>\u001b[1;34m()\u001b[0m\n\u001b[0;32m      <a href='vscode-notebook-cell:/c%3A/dev/git/larynx_NN_model/main.ipynb#X12sZmlsZQ%3D%3D?line=5'>6</a>\u001b[0m early_stopping \u001b[39m=\u001b[39m tf\u001b[39m.\u001b[39mkeras\u001b[39m.\u001b[39mcallbacks\u001b[39m.\u001b[39mEarlyStopping(monitor\u001b[39m=\u001b[39m\u001b[39m'\u001b[39m\u001b[39mloss\u001b[39m\u001b[39m'\u001b[39m, patience\u001b[39m=\u001b[39m\u001b[39m7\u001b[39m, mode\u001b[39m=\u001b[39m\u001b[39m'\u001b[39m\u001b[39mauto\u001b[39m\u001b[39m'\u001b[39m, restore_best_weights\u001b[39m=\u001b[39m\u001b[39mTrue\u001b[39;00m)\n\u001b[0;32m      <a href='vscode-notebook-cell:/c%3A/dev/git/larynx_NN_model/main.ipynb#X12sZmlsZQ%3D%3D?line=8'>9</a>\u001b[0m \u001b[39m# Train the model using the training dataset and TensorBoard callback\u001b[39;00m\n\u001b[1;32m---> <a href='vscode-notebook-cell:/c%3A/dev/git/larynx_NN_model/main.ipynb#X12sZmlsZQ%3D%3D?line=9'>10</a>\u001b[0m model\u001b[39m.\u001b[39;49mfit(training_dataset, \n\u001b[0;32m     <a href='vscode-notebook-cell:/c%3A/dev/git/larynx_NN_model/main.ipynb#X12sZmlsZQ%3D%3D?line=10'>11</a>\u001b[0m           steps_per_epoch\u001b[39m=\u001b[39;49m\u001b[39m10\u001b[39;49m, \n\u001b[0;32m     <a href='vscode-notebook-cell:/c%3A/dev/git/larynx_NN_model/main.ipynb#X12sZmlsZQ%3D%3D?line=11'>12</a>\u001b[0m           epochs\u001b[39m=\u001b[39;49m\u001b[39m200\u001b[39;49m, \n\u001b[0;32m     <a href='vscode-notebook-cell:/c%3A/dev/git/larynx_NN_model/main.ipynb#X12sZmlsZQ%3D%3D?line=12'>13</a>\u001b[0m           callbacks\u001b[39m=\u001b[39;49m[model_checkpoint, tensorboard_callback])\n",
      "File \u001b[1;32mc:\\Users\\perseusf\\anaconda3\\lib\\site-packages\\keras\\src\\utils\\traceback_utils.py:65\u001b[0m, in \u001b[0;36mfilter_traceback.<locals>.error_handler\u001b[1;34m(*args, **kwargs)\u001b[0m\n\u001b[0;32m     63\u001b[0m filtered_tb \u001b[39m=\u001b[39m \u001b[39mNone\u001b[39;00m\n\u001b[0;32m     64\u001b[0m \u001b[39mtry\u001b[39;00m:\n\u001b[1;32m---> 65\u001b[0m     \u001b[39mreturn\u001b[39;00m fn(\u001b[39m*\u001b[39margs, \u001b[39m*\u001b[39m\u001b[39m*\u001b[39mkwargs)\n\u001b[0;32m     66\u001b[0m \u001b[39mexcept\u001b[39;00m \u001b[39mException\u001b[39;00m \u001b[39mas\u001b[39;00m e:\n\u001b[0;32m     67\u001b[0m     filtered_tb \u001b[39m=\u001b[39m _process_traceback_frames(e\u001b[39m.\u001b[39m__traceback__)\n",
      "File \u001b[1;32mc:\\Users\\perseusf\\anaconda3\\lib\\site-packages\\keras\\src\\engine\\training.py:1742\u001b[0m, in \u001b[0;36mModel.fit\u001b[1;34m(self, x, y, batch_size, epochs, verbose, callbacks, validation_split, validation_data, shuffle, class_weight, sample_weight, initial_epoch, steps_per_epoch, validation_steps, validation_batch_size, validation_freq, max_queue_size, workers, use_multiprocessing)\u001b[0m\n\u001b[0;32m   1734\u001b[0m \u001b[39mwith\u001b[39;00m tf\u001b[39m.\u001b[39mprofiler\u001b[39m.\u001b[39mexperimental\u001b[39m.\u001b[39mTrace(\n\u001b[0;32m   1735\u001b[0m     \u001b[39m\"\u001b[39m\u001b[39mtrain\u001b[39m\u001b[39m\"\u001b[39m,\n\u001b[0;32m   1736\u001b[0m     epoch_num\u001b[39m=\u001b[39mepoch,\n\u001b[1;32m   (...)\u001b[0m\n\u001b[0;32m   1739\u001b[0m     _r\u001b[39m=\u001b[39m\u001b[39m1\u001b[39m,\n\u001b[0;32m   1740\u001b[0m ):\n\u001b[0;32m   1741\u001b[0m     callbacks\u001b[39m.\u001b[39mon_train_batch_begin(step)\n\u001b[1;32m-> 1742\u001b[0m     tmp_logs \u001b[39m=\u001b[39m \u001b[39mself\u001b[39;49m\u001b[39m.\u001b[39;49mtrain_function(iterator)\n\u001b[0;32m   1743\u001b[0m     \u001b[39mif\u001b[39;00m data_handler\u001b[39m.\u001b[39mshould_sync:\n\u001b[0;32m   1744\u001b[0m         context\u001b[39m.\u001b[39masync_wait()\n",
      "File \u001b[1;32mc:\\Users\\perseusf\\anaconda3\\lib\\site-packages\\tensorflow\\python\\util\\traceback_utils.py:150\u001b[0m, in \u001b[0;36mfilter_traceback.<locals>.error_handler\u001b[1;34m(*args, **kwargs)\u001b[0m\n\u001b[0;32m    148\u001b[0m filtered_tb \u001b[39m=\u001b[39m \u001b[39mNone\u001b[39;00m\n\u001b[0;32m    149\u001b[0m \u001b[39mtry\u001b[39;00m:\n\u001b[1;32m--> 150\u001b[0m   \u001b[39mreturn\u001b[39;00m fn(\u001b[39m*\u001b[39margs, \u001b[39m*\u001b[39m\u001b[39m*\u001b[39mkwargs)\n\u001b[0;32m    151\u001b[0m \u001b[39mexcept\u001b[39;00m \u001b[39mException\u001b[39;00m \u001b[39mas\u001b[39;00m e:\n\u001b[0;32m    152\u001b[0m   filtered_tb \u001b[39m=\u001b[39m _process_traceback_frames(e\u001b[39m.\u001b[39m__traceback__)\n",
      "File \u001b[1;32mc:\\Users\\perseusf\\anaconda3\\lib\\site-packages\\tensorflow\\python\\eager\\polymorphic_function\\polymorphic_function.py:825\u001b[0m, in \u001b[0;36mFunction.__call__\u001b[1;34m(self, *args, **kwds)\u001b[0m\n\u001b[0;32m    822\u001b[0m compiler \u001b[39m=\u001b[39m \u001b[39m\"\u001b[39m\u001b[39mxla\u001b[39m\u001b[39m\"\u001b[39m \u001b[39mif\u001b[39;00m \u001b[39mself\u001b[39m\u001b[39m.\u001b[39m_jit_compile \u001b[39melse\u001b[39;00m \u001b[39m\"\u001b[39m\u001b[39mnonXla\u001b[39m\u001b[39m\"\u001b[39m\n\u001b[0;32m    824\u001b[0m \u001b[39mwith\u001b[39;00m OptionalXlaContext(\u001b[39mself\u001b[39m\u001b[39m.\u001b[39m_jit_compile):\n\u001b[1;32m--> 825\u001b[0m   result \u001b[39m=\u001b[39m \u001b[39mself\u001b[39m\u001b[39m.\u001b[39m_call(\u001b[39m*\u001b[39margs, \u001b[39m*\u001b[39m\u001b[39m*\u001b[39mkwds)\n\u001b[0;32m    827\u001b[0m new_tracing_count \u001b[39m=\u001b[39m \u001b[39mself\u001b[39m\u001b[39m.\u001b[39mexperimental_get_tracing_count()\n\u001b[0;32m    828\u001b[0m without_tracing \u001b[39m=\u001b[39m (tracing_count \u001b[39m==\u001b[39m new_tracing_count)\n",
      "File \u001b[1;32mc:\\Users\\perseusf\\anaconda3\\lib\\site-packages\\tensorflow\\python\\eager\\polymorphic_function\\polymorphic_function.py:857\u001b[0m, in \u001b[0;36mFunction._call\u001b[1;34m(self, *args, **kwds)\u001b[0m\n\u001b[0;32m    854\u001b[0m   \u001b[39mself\u001b[39m\u001b[39m.\u001b[39m_lock\u001b[39m.\u001b[39mrelease()\n\u001b[0;32m    855\u001b[0m   \u001b[39m# In this case we have created variables on the first call, so we run the\u001b[39;00m\n\u001b[0;32m    856\u001b[0m   \u001b[39m# defunned version which is guaranteed to never create variables.\u001b[39;00m\n\u001b[1;32m--> 857\u001b[0m   \u001b[39mreturn\u001b[39;00m \u001b[39mself\u001b[39m\u001b[39m.\u001b[39m_no_variable_creation_fn(\u001b[39m*\u001b[39margs, \u001b[39m*\u001b[39m\u001b[39m*\u001b[39mkwds)  \u001b[39m# pylint: disable=not-callable\u001b[39;00m\n\u001b[0;32m    858\u001b[0m \u001b[39melif\u001b[39;00m \u001b[39mself\u001b[39m\u001b[39m.\u001b[39m_variable_creation_fn \u001b[39mis\u001b[39;00m \u001b[39mnot\u001b[39;00m \u001b[39mNone\u001b[39;00m:\n\u001b[0;32m    859\u001b[0m   \u001b[39m# Release the lock early so that multiple threads can perform the call\u001b[39;00m\n\u001b[0;32m    860\u001b[0m   \u001b[39m# in parallel.\u001b[39;00m\n\u001b[0;32m    861\u001b[0m   \u001b[39mself\u001b[39m\u001b[39m.\u001b[39m_lock\u001b[39m.\u001b[39mrelease()\n",
      "File \u001b[1;32mc:\\Users\\perseusf\\anaconda3\\lib\\site-packages\\tensorflow\\python\\eager\\polymorphic_function\\tracing_compiler.py:148\u001b[0m, in \u001b[0;36mTracingCompiler.__call__\u001b[1;34m(self, *args, **kwargs)\u001b[0m\n\u001b[0;32m    145\u001b[0m \u001b[39mwith\u001b[39;00m \u001b[39mself\u001b[39m\u001b[39m.\u001b[39m_lock:\n\u001b[0;32m    146\u001b[0m   (concrete_function,\n\u001b[0;32m    147\u001b[0m    filtered_flat_args) \u001b[39m=\u001b[39m \u001b[39mself\u001b[39m\u001b[39m.\u001b[39m_maybe_define_function(args, kwargs)\n\u001b[1;32m--> 148\u001b[0m \u001b[39mreturn\u001b[39;00m concrete_function\u001b[39m.\u001b[39;49m_call_flat(\n\u001b[0;32m    149\u001b[0m     filtered_flat_args, captured_inputs\u001b[39m=\u001b[39;49mconcrete_function\u001b[39m.\u001b[39;49mcaptured_inputs)\n",
      "File \u001b[1;32mc:\\Users\\perseusf\\anaconda3\\lib\\site-packages\\tensorflow\\python\\eager\\polymorphic_function\\monomorphic_function.py:1349\u001b[0m, in \u001b[0;36mConcreteFunction._call_flat\u001b[1;34m(self, args, captured_inputs)\u001b[0m\n\u001b[0;32m   1345\u001b[0m possible_gradient_type \u001b[39m=\u001b[39m gradients_util\u001b[39m.\u001b[39mPossibleTapeGradientTypes(args)\n\u001b[0;32m   1346\u001b[0m \u001b[39mif\u001b[39;00m (possible_gradient_type \u001b[39m==\u001b[39m gradients_util\u001b[39m.\u001b[39mPOSSIBLE_GRADIENT_TYPES_NONE\n\u001b[0;32m   1347\u001b[0m     \u001b[39mand\u001b[39;00m executing_eagerly):\n\u001b[0;32m   1348\u001b[0m   \u001b[39m# No tape is watching; skip to running the function.\u001b[39;00m\n\u001b[1;32m-> 1349\u001b[0m   \u001b[39mreturn\u001b[39;00m \u001b[39mself\u001b[39m\u001b[39m.\u001b[39m_build_call_outputs(\u001b[39mself\u001b[39;49m\u001b[39m.\u001b[39;49m_inference_function(\u001b[39m*\u001b[39;49margs))\n\u001b[0;32m   1350\u001b[0m forward_backward \u001b[39m=\u001b[39m \u001b[39mself\u001b[39m\u001b[39m.\u001b[39m_select_forward_and_backward_functions(\n\u001b[0;32m   1351\u001b[0m     args,\n\u001b[0;32m   1352\u001b[0m     possible_gradient_type,\n\u001b[0;32m   1353\u001b[0m     executing_eagerly)\n\u001b[0;32m   1354\u001b[0m forward_function, args_with_tangents \u001b[39m=\u001b[39m forward_backward\u001b[39m.\u001b[39mforward()\n",
      "File \u001b[1;32mc:\\Users\\perseusf\\anaconda3\\lib\\site-packages\\tensorflow\\python\\eager\\polymorphic_function\\atomic_function.py:196\u001b[0m, in \u001b[0;36mAtomicFunction.__call__\u001b[1;34m(self, *args)\u001b[0m\n\u001b[0;32m    194\u001b[0m \u001b[39mwith\u001b[39;00m record\u001b[39m.\u001b[39mstop_recording():\n\u001b[0;32m    195\u001b[0m   \u001b[39mif\u001b[39;00m \u001b[39mself\u001b[39m\u001b[39m.\u001b[39m_bound_context\u001b[39m.\u001b[39mexecuting_eagerly():\n\u001b[1;32m--> 196\u001b[0m     outputs \u001b[39m=\u001b[39m \u001b[39mself\u001b[39;49m\u001b[39m.\u001b[39;49m_bound_context\u001b[39m.\u001b[39;49mcall_function(\n\u001b[0;32m    197\u001b[0m         \u001b[39mself\u001b[39;49m\u001b[39m.\u001b[39;49mname,\n\u001b[0;32m    198\u001b[0m         \u001b[39mlist\u001b[39;49m(args),\n\u001b[0;32m    199\u001b[0m         \u001b[39mlen\u001b[39;49m(\u001b[39mself\u001b[39;49m\u001b[39m.\u001b[39;49mfunction_type\u001b[39m.\u001b[39;49mflat_outputs),\n\u001b[0;32m    200\u001b[0m     )\n\u001b[0;32m    201\u001b[0m   \u001b[39melse\u001b[39;00m:\n\u001b[0;32m    202\u001b[0m     outputs \u001b[39m=\u001b[39m make_call_op_in_graph(\u001b[39mself\u001b[39m, \u001b[39mlist\u001b[39m(args))\n",
      "File \u001b[1;32mc:\\Users\\perseusf\\anaconda3\\lib\\site-packages\\tensorflow\\python\\eager\\context.py:1457\u001b[0m, in \u001b[0;36mContext.call_function\u001b[1;34m(self, name, tensor_inputs, num_outputs)\u001b[0m\n\u001b[0;32m   1455\u001b[0m cancellation_context \u001b[39m=\u001b[39m cancellation\u001b[39m.\u001b[39mcontext()\n\u001b[0;32m   1456\u001b[0m \u001b[39mif\u001b[39;00m cancellation_context \u001b[39mis\u001b[39;00m \u001b[39mNone\u001b[39;00m:\n\u001b[1;32m-> 1457\u001b[0m   outputs \u001b[39m=\u001b[39m execute\u001b[39m.\u001b[39;49mexecute(\n\u001b[0;32m   1458\u001b[0m       name\u001b[39m.\u001b[39;49mdecode(\u001b[39m\"\u001b[39;49m\u001b[39mutf-8\u001b[39;49m\u001b[39m\"\u001b[39;49m),\n\u001b[0;32m   1459\u001b[0m       num_outputs\u001b[39m=\u001b[39;49mnum_outputs,\n\u001b[0;32m   1460\u001b[0m       inputs\u001b[39m=\u001b[39;49mtensor_inputs,\n\u001b[0;32m   1461\u001b[0m       attrs\u001b[39m=\u001b[39;49mattrs,\n\u001b[0;32m   1462\u001b[0m       ctx\u001b[39m=\u001b[39;49m\u001b[39mself\u001b[39;49m,\n\u001b[0;32m   1463\u001b[0m   )\n\u001b[0;32m   1464\u001b[0m \u001b[39melse\u001b[39;00m:\n\u001b[0;32m   1465\u001b[0m   outputs \u001b[39m=\u001b[39m execute\u001b[39m.\u001b[39mexecute_with_cancellation(\n\u001b[0;32m   1466\u001b[0m       name\u001b[39m.\u001b[39mdecode(\u001b[39m\"\u001b[39m\u001b[39mutf-8\u001b[39m\u001b[39m\"\u001b[39m),\n\u001b[0;32m   1467\u001b[0m       num_outputs\u001b[39m=\u001b[39mnum_outputs,\n\u001b[1;32m   (...)\u001b[0m\n\u001b[0;32m   1471\u001b[0m       cancellation_manager\u001b[39m=\u001b[39mcancellation_context,\n\u001b[0;32m   1472\u001b[0m   )\n",
      "File \u001b[1;32mc:\\Users\\perseusf\\anaconda3\\lib\\site-packages\\tensorflow\\python\\eager\\execute.py:53\u001b[0m, in \u001b[0;36mquick_execute\u001b[1;34m(op_name, num_outputs, inputs, attrs, ctx, name)\u001b[0m\n\u001b[0;32m     51\u001b[0m \u001b[39mtry\u001b[39;00m:\n\u001b[0;32m     52\u001b[0m   ctx\u001b[39m.\u001b[39mensure_initialized()\n\u001b[1;32m---> 53\u001b[0m   tensors \u001b[39m=\u001b[39m pywrap_tfe\u001b[39m.\u001b[39;49mTFE_Py_Execute(ctx\u001b[39m.\u001b[39;49m_handle, device_name, op_name,\n\u001b[0;32m     54\u001b[0m                                       inputs, attrs, num_outputs)\n\u001b[0;32m     55\u001b[0m \u001b[39mexcept\u001b[39;00m core\u001b[39m.\u001b[39m_NotOkStatusException \u001b[39mas\u001b[39;00m e:\n\u001b[0;32m     56\u001b[0m   \u001b[39mif\u001b[39;00m name \u001b[39mis\u001b[39;00m \u001b[39mnot\u001b[39;00m \u001b[39mNone\u001b[39;00m:\n",
      "\u001b[1;31mKeyboardInterrupt\u001b[0m: "
     ]
    }
   ],
   "source": [
    "# Set up TensorBoard callback\n",
    "logdir = os.path.join(\"logs\", datetime.datetime.now().strftime(\"%Y%m%d-%H%M%S\"))\n",
    "tensorboard_callback = tf.keras.callbacks.TensorBoard(logdir, histogram_freq=1)\n",
    "\n",
    "# Early stopping callback\n",
    "early_stopping = tf.keras.callbacks.EarlyStopping(monitor='loss', patience=7, mode='auto', restore_best_weights=True)\n",
    "\n",
    "\n",
    "# Train the model using the training dataset and TensorBoard callback\n",
    "model.fit(training_dataset, \n",
    "          steps_per_epoch=10, \n",
    "          epochs=200, \n",
    "          callbacks=[model_checkpoint, tensorboard_callback])"
   ]
  },
  {
   "attachments": {},
   "cell_type": "markdown",
   "id": "ca66b6b2",
   "metadata": {},
   "source": [
    "#### Testing the model"
   ]
  },
  {
   "cell_type": "code",
   "execution_count": 31,
   "id": "6f51a041",
   "metadata": {
    "scrolled": true
   },
   "outputs": [
    {
     "name": "stdout",
     "output_type": "stream",
     "text": [
      "5/5 [==============================] - 1s 176ms/step\n"
     ]
    },
    {
     "name": "stderr",
     "output_type": "stream",
     "text": [
      "WARNING:imageio:Lossy conversion from float32 to uint8. Range [0, 1]. Convert image to uint8 prior to saving to suppress this warning.\n",
      "WARNING:imageio:Lossy conversion from float32 to uint8. Range [0, 1]. Convert image to uint8 prior to saving to suppress this warning.\n",
      "WARNING:imageio:Lossy conversion from float32 to uint8. Range [0, 1]. Convert image to uint8 prior to saving to suppress this warning.\n",
      "WARNING:imageio:Lossy conversion from float32 to uint8. Range [0, 1]. Convert image to uint8 prior to saving to suppress this warning.\n",
      "WARNING:imageio:Lossy conversion from float32 to uint8. Range [0, 1]. Convert image to uint8 prior to saving to suppress this warning.\n"
     ]
    }
   ],
   "source": [
    "# testing the model\n",
    "test_dataset = test_dataset_generator(\"data/larynx/test\", num_image=5)\n",
    "results = model.predict(test_dataset, 3, verbose=1)\n",
    "saveResult(\"data/larynx/test\", results)\n"
   ]
  },
  {
   "cell_type": "code",
   "execution_count": null,
   "id": "b66e4d0d",
   "metadata": {},
   "outputs": [],
   "source": []
  }
 ],
 "metadata": {
  "kernelspec": {
   "display_name": "Python 3 (ipykernel)",
   "language": "python",
   "name": "python3"
  },
  "language_info": {
   "codemirror_mode": {
    "name": "ipython",
    "version": 3
   },
   "file_extension": ".py",
   "mimetype": "text/x-python",
   "name": "python",
   "nbconvert_exporter": "python",
   "pygments_lexer": "ipython3",
   "version": "3.9.12"
  }
 },
 "nbformat": 4,
 "nbformat_minor": 5
}
