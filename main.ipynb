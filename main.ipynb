{
 "cells": [
  {
   "cell_type": "code",
   "execution_count": 99,
   "id": "470b159f",
   "metadata": {},
   "outputs": [
    {
     "name": "stdout",
     "output_type": "stream",
     "text": [
      "The tensorboard extension is already loaded. To reload it, use:\n",
      "  %reload_ext tensorboard\n"
     ]
    }
   ],
   "source": [
    "import tensorflow as tf\n",
    "import datetime, os\n",
    "from model import *\n",
    "from data import *\n",
    "%load_ext tensorboard"
   ]
  },
  {
   "cell_type": "code",
   "execution_count": 100,
   "id": "76c5fccb",
   "metadata": {},
   "outputs": [],
   "source": [
    "augmentation_args = dict(rotation_range=0.2,\n",
    "                         width_shift_range=0.05,\n",
    "                         height_shift_range=0.05,\n",
    "                         shear_range=0.05,\n",
    "                         zoom_range=0.05,\n",
    "                         horizontal_flip=True,\n",
    "                         fill_mode='nearest')"
   ]
  },
  {
   "cell_type": "code",
   "execution_count": 101,
   "id": "f8a7d141",
   "metadata": {
    "scrolled": true
   },
   "outputs": [],
   "source": [
    "# initialize the model\n",
    "model = unet()\n",
    "model_checkpoint = ModelCheckpoint('unet_larynx.hdf5', monitor='loss', verbose=1, save_best_only=True)\n"
   ]
  },
  {
   "cell_type": "code",
   "execution_count": 89,
   "id": "86afb5df",
   "metadata": {},
   "outputs": [],
   "source": [
    "# prepare videos\n",
    "unpack_video('data/larynx/train', video_folder='video', image_folder='image', target_size=(256, 256))\n",
    "unpack_tif('data/larynx/train', tif_folder='tifs', label_folder='label', target_size=(256, 256))\n"
   ]
  },
  {
   "cell_type": "code",
   "execution_count": 102,
   "id": "c058c2c4",
   "metadata": {},
   "outputs": [],
   "source": [
    "training_dataset = training_dataset_generator(2,\n",
    "                                              'data/larynx/train',\n",
    "                                              'image',\n",
    "                                              'label',\n",
    "                                              dict([]),\n",
    "                                              save_to_dir=None)"
   ]
  },
  {
   "cell_type": "code",
   "execution_count": 104,
   "id": "ef560264",
   "metadata": {
    "scrolled": false
   },
   "outputs": [
    {
     "name": "stdout",
     "output_type": "stream",
     "text": [
      "Epoch 1/5\n",
      "2000/2000 [==============================] - ETA: 0s - loss: 0.0203 - accuracy: 0.9938\n",
      "Epoch 1: loss improved from 0.02165 to 0.02031, saving model to unet_larynx.hdf5\n",
      "2000/2000 [==============================] - 150s 75ms/step - loss: 0.0203 - accuracy: 0.9938\n",
      "Epoch 2/5\n",
      "2000/2000 [==============================] - ETA: 0s - loss: 0.0193 - accuracy: 0.9939\n",
      "Epoch 2: loss improved from 0.02031 to 0.01927, saving model to unet_larynx.hdf5\n",
      "2000/2000 [==============================] - 159s 79ms/step - loss: 0.0193 - accuracy: 0.9939\n",
      "Epoch 3/5\n",
      "2000/2000 [==============================] - ETA: 0s - loss: 0.0185 - accuracy: 0.9940\n",
      "Epoch 3: loss improved from 0.01927 to 0.01849, saving model to unet_larynx.hdf5\n",
      "2000/2000 [==============================] - 160s 80ms/step - loss: 0.0185 - accuracy: 0.9940\n",
      "Epoch 4/5\n",
      "2000/2000 [==============================] - ETA: 0s - loss: 0.0179 - accuracy: 0.9940\n",
      "Epoch 4: loss improved from 0.01849 to 0.01787, saving model to unet_larynx.hdf5\n",
      "2000/2000 [==============================] - 156s 78ms/step - loss: 0.0179 - accuracy: 0.9940\n",
      "Epoch 5/5\n",
      "2000/2000 [==============================] - ETA: 0s - loss: 0.0178 - accuracy: 0.9940\n",
      "Epoch 5: loss improved from 0.01787 to 0.01783, saving model to unet_larynx.hdf5\n",
      "2000/2000 [==============================] - 147s 74ms/step - loss: 0.0178 - accuracy: 0.9940\n"
     ]
    },
    {
     "data": {
      "text/plain": [
       "<keras.callbacks.History at 0x2151755b0c8>"
      ]
     },
     "execution_count": 104,
     "metadata": {},
     "output_type": "execute_result"
    }
   ],
   "source": [
    "# Set up TensorBoard callback\n",
    "logdir = os.path.join(\"logs\", datetime.datetime.now().strftime(\"%Y%m%d-%H%M%S\"))\n",
    "tensorboard_callback = tf.keras.callbacks.TensorBoard(logdir, histogram_freq=1)\n",
    "\n",
    "# Train the model using the training dataset and TensorBoard callback\n",
    "model.fit(training_dataset, \n",
    "          steps_per_epoch=2000, \n",
    "          epochs=5, \n",
    "          callbacks=[model_checkpoint, tensorboard_callback])"
   ]
  },
  {
   "cell_type": "code",
   "execution_count": 36,
   "id": "6f51a041",
   "metadata": {
    "scrolled": true
   },
   "outputs": [
    {
     "name": "stdout",
     "output_type": "stream",
     "text": [
      "      3/Unknown - 0s 140ms/step"
     ]
    },
    {
     "ename": "UnknownError",
     "evalue": "Graph execution error:\n\n2 root error(s) found.\n  (0) UNKNOWN:  FileNotFoundError: No such file: 'C:\\dev\\larynx_NN_model\\data\\larynx\\test\\6.png'\nTraceback (most recent call last):\n\n  File \"C:\\Users\\perseusf\\anaconda3\\envs\\unet_sandbox\\lib\\site-packages\\tensorflow\\python\\ops\\script_ops.py\", line 270, in __call__\n    ret = func(*args)\n\n  File \"C:\\Users\\perseusf\\anaconda3\\envs\\unet_sandbox\\lib\\site-packages\\tensorflow\\python\\autograph\\impl\\api.py\", line 642, in wrapper\n    return func(*args, **kwargs)\n\n  File \"C:\\Users\\perseusf\\anaconda3\\envs\\unet_sandbox\\lib\\site-packages\\tensorflow\\python\\data\\ops\\dataset_ops.py\", line 1030, in generator_py_func\n    values = next(generator_state.get_iterator(iterator_id))\n\n  File \"C:\\Users\\perseusf\\anaconda3\\envs\\unet_sandbox\\lib\\site-packages\\keras\\engine\\data_adapter.py\", line 831, in wrapped_generator\n    for data in generator_fn():\n\n  File \"C:\\dev\\larynx_NN_model\\data.py\", line 221, in test_dataset_generator\n    img = io.imread(os.path.join(test_path, \"%d.png\" % i), as_gray=as_gray)\n\n  File \"C:\\Users\\perseusf\\anaconda3\\envs\\unet_sandbox\\lib\\site-packages\\skimage\\io\\_io.py\", line 53, in imread\n    img = call_plugin('imread', fname, plugin=plugin, **plugin_args)\n\n  File \"C:\\Users\\perseusf\\anaconda3\\envs\\unet_sandbox\\lib\\site-packages\\skimage\\io\\manage_plugins.py\", line 207, in call_plugin\n    return func(*args, **kwargs)\n\n  File \"C:\\Users\\perseusf\\anaconda3\\envs\\unet_sandbox\\lib\\site-packages\\skimage\\io\\_plugins\\imageio_plugin.py\", line 10, in imread\n    return np.asarray(imageio_imread(*args, **kwargs))\n\n  File \"C:\\Users\\perseusf\\anaconda3\\envs\\unet_sandbox\\lib\\site-packages\\imageio\\__init__.py\", line 97, in imread\n    return imread_v2(uri, format=format, **kwargs)\n\n  File \"C:\\Users\\perseusf\\anaconda3\\envs\\unet_sandbox\\lib\\site-packages\\imageio\\v2.py\", line 200, in imread\n    with imopen(uri, \"ri\", **imopen_args) as file:\n\n  File \"C:\\Users\\perseusf\\anaconda3\\envs\\unet_sandbox\\lib\\site-packages\\imageio\\core\\imopen.py\", line 118, in imopen\n    request = Request(uri, io_mode, format_hint=format_hint, extension=extension)\n\n  File \"C:\\Users\\perseusf\\anaconda3\\envs\\unet_sandbox\\lib\\site-packages\\imageio\\core\\request.py\", line 248, in __init__\n    self._parse_uri(uri)\n\n  File \"C:\\Users\\perseusf\\anaconda3\\envs\\unet_sandbox\\lib\\site-packages\\imageio\\core\\request.py\", line 407, in _parse_uri\n    raise FileNotFoundError(\"No such file: '%s'\" % fn)\n\nFileNotFoundError: No such file: 'C:\\dev\\larynx_NN_model\\data\\larynx\\test\\6.png'\n\n\n\t [[{{node PyFunc}}]]\n\t [[IteratorGetNext]]\n\t [[IteratorGetNext/_2]]\n  (1) UNKNOWN:  FileNotFoundError: No such file: 'C:\\dev\\larynx_NN_model\\data\\larynx\\test\\6.png'\nTraceback (most recent call last):\n\n  File \"C:\\Users\\perseusf\\anaconda3\\envs\\unet_sandbox\\lib\\site-packages\\tensorflow\\python\\ops\\script_ops.py\", line 270, in __call__\n    ret = func(*args)\n\n  File \"C:\\Users\\perseusf\\anaconda3\\envs\\unet_sandbox\\lib\\site-packages\\tensorflow\\python\\autograph\\impl\\api.py\", line 642, in wrapper\n    return func(*args, **kwargs)\n\n  File \"C:\\Users\\perseusf\\anaconda3\\envs\\unet_sandbox\\lib\\site-packages\\tensorflow\\python\\data\\ops\\dataset_ops.py\", line 1030, in generator_py_func\n    values = next(generator_state.get_iterator(iterator_id))\n\n  File \"C:\\Users\\perseusf\\anaconda3\\envs\\unet_sandbox\\lib\\site-packages\\keras\\engine\\data_adapter.py\", line 831, in wrapped_generator\n    for data in generator_fn():\n\n  File \"C:\\dev\\larynx_NN_model\\data.py\", line 221, in test_dataset_generator\n    img = io.imread(os.path.join(test_path, \"%d.png\" % i), as_gray=as_gray)\n\n  File \"C:\\Users\\perseusf\\anaconda3\\envs\\unet_sandbox\\lib\\site-packages\\skimage\\io\\_io.py\", line 53, in imread\n    img = call_plugin('imread', fname, plugin=plugin, **plugin_args)\n\n  File \"C:\\Users\\perseusf\\anaconda3\\envs\\unet_sandbox\\lib\\site-packages\\skimage\\io\\manage_plugins.py\", line 207, in call_plugin\n    return func(*args, **kwargs)\n\n  File \"C:\\Users\\perseusf\\anaconda3\\envs\\unet_sandbox\\lib\\site-packages\\skimage\\io\\_plugins\\imageio_plugin.py\", line 10, in imread\n    return np.asarray(imageio_imread(*args, **kwargs))\n\n  File \"C:\\Users\\perseusf\\anaconda3\\envs\\unet_sandbox\\lib\\site-packages\\imageio\\__init__.py\", line 97, in imread\n    return imread_v2(uri, format=format, **kwargs)\n\n  File \"C:\\Users\\perseusf\\anaconda3\\envs\\unet_sandbox\\lib\\site-packages\\imageio\\v2.py\", line 200, in imread\n    with imopen(uri, \"ri\", **imopen_args) as file:\n\n  File \"C:\\Users\\perseusf\\anaconda3\\envs\\unet_sandbox\\lib\\site-packages\\imageio\\core\\imopen.py\", line 118, in imopen\n    request = Request(uri, io_mode, format_hint=format_hint, extension=extension)\n\n  File \"C:\\Users\\perseusf\\anaconda3\\envs\\unet_sandbox\\lib\\site-packages\\imageio\\core\\request.py\", line 248, in __init__\n    self._parse_uri(uri)\n\n  File \"C:\\Users\\perseusf\\anaconda3\\envs\\unet_sandbox\\lib\\site-packages\\imageio\\core\\request.py\", line 407, in _parse_uri\n    raise FileNotFoundError(\"No such file: '%s'\" % fn)\n\nFileNotFoundError: No such file: 'C:\\dev\\larynx_NN_model\\data\\larynx\\test\\6.png'\n\n\n\t [[{{node PyFunc}}]]\n\t [[IteratorGetNext]]\n0 successful operations.\n0 derived errors ignored. [Op:__inference_predict_function_470817]",
     "output_type": "error",
     "traceback": [
      "\u001b[1;31m---------------------------------------------------------------------------\u001b[0m",
      "\u001b[1;31mUnknownError\u001b[0m                              Traceback (most recent call last)",
      "\u001b[1;32m~\\AppData\\Local\\Temp\\ipykernel_2284\\893612006.py\u001b[0m in \u001b[0;36m<module>\u001b[1;34m\u001b[0m\n\u001b[0;32m      1\u001b[0m \u001b[1;31m# testing the model\u001b[0m\u001b[1;33m\u001b[0m\u001b[1;33m\u001b[0m\u001b[1;33m\u001b[0m\u001b[0m\n\u001b[0;32m      2\u001b[0m \u001b[0mtest_dataset\u001b[0m \u001b[1;33m=\u001b[0m \u001b[0mtest_dataset_generator\u001b[0m\u001b[1;33m(\u001b[0m\u001b[1;34m\"data/larynx/test\"\u001b[0m\u001b[1;33m)\u001b[0m\u001b[1;33m\u001b[0m\u001b[1;33m\u001b[0m\u001b[0m\n\u001b[1;32m----> 3\u001b[1;33m \u001b[0mresults\u001b[0m \u001b[1;33m=\u001b[0m \u001b[0mmodel\u001b[0m\u001b[1;33m.\u001b[0m\u001b[0mpredict\u001b[0m\u001b[1;33m(\u001b[0m\u001b[0mtest_dataset\u001b[0m\u001b[1;33m,\u001b[0m \u001b[1;36m6\u001b[0m\u001b[1;33m,\u001b[0m \u001b[0mverbose\u001b[0m\u001b[1;33m=\u001b[0m\u001b[1;36m1\u001b[0m\u001b[1;33m)\u001b[0m\u001b[1;33m\u001b[0m\u001b[1;33m\u001b[0m\u001b[0m\n\u001b[0m\u001b[0;32m      4\u001b[0m \u001b[0msaveResult\u001b[0m\u001b[1;33m(\u001b[0m\u001b[1;34m\"data/larynx/test\"\u001b[0m\u001b[1;33m,\u001b[0m \u001b[0mresults\u001b[0m\u001b[1;33m)\u001b[0m\u001b[1;33m\u001b[0m\u001b[1;33m\u001b[0m\u001b[0m\n",
      "\u001b[1;32m~\\anaconda3\\envs\\unet_sandbox\\lib\\site-packages\\keras\\utils\\traceback_utils.py\u001b[0m in \u001b[0;36merror_handler\u001b[1;34m(*args, **kwargs)\u001b[0m\n\u001b[0;32m     65\u001b[0m     \u001b[1;32mexcept\u001b[0m \u001b[0mException\u001b[0m \u001b[1;32mas\u001b[0m \u001b[0me\u001b[0m\u001b[1;33m:\u001b[0m  \u001b[1;31m# pylint: disable=broad-except\u001b[0m\u001b[1;33m\u001b[0m\u001b[1;33m\u001b[0m\u001b[0m\n\u001b[0;32m     66\u001b[0m       \u001b[0mfiltered_tb\u001b[0m \u001b[1;33m=\u001b[0m \u001b[0m_process_traceback_frames\u001b[0m\u001b[1;33m(\u001b[0m\u001b[0me\u001b[0m\u001b[1;33m.\u001b[0m\u001b[0m__traceback__\u001b[0m\u001b[1;33m)\u001b[0m\u001b[1;33m\u001b[0m\u001b[1;33m\u001b[0m\u001b[0m\n\u001b[1;32m---> 67\u001b[1;33m       \u001b[1;32mraise\u001b[0m \u001b[0me\u001b[0m\u001b[1;33m.\u001b[0m\u001b[0mwith_traceback\u001b[0m\u001b[1;33m(\u001b[0m\u001b[0mfiltered_tb\u001b[0m\u001b[1;33m)\u001b[0m \u001b[1;32mfrom\u001b[0m \u001b[1;32mNone\u001b[0m\u001b[1;33m\u001b[0m\u001b[1;33m\u001b[0m\u001b[0m\n\u001b[0m\u001b[0;32m     68\u001b[0m     \u001b[1;32mfinally\u001b[0m\u001b[1;33m:\u001b[0m\u001b[1;33m\u001b[0m\u001b[1;33m\u001b[0m\u001b[0m\n\u001b[0;32m     69\u001b[0m       \u001b[1;32mdel\u001b[0m \u001b[0mfiltered_tb\u001b[0m\u001b[1;33m\u001b[0m\u001b[1;33m\u001b[0m\u001b[0m\n",
      "\u001b[1;32m~\\anaconda3\\envs\\unet_sandbox\\lib\\site-packages\\tensorflow\\python\\eager\\execute.py\u001b[0m in \u001b[0;36mquick_execute\u001b[1;34m(op_name, num_outputs, inputs, attrs, ctx, name)\u001b[0m\n\u001b[0;32m     53\u001b[0m     \u001b[0mctx\u001b[0m\u001b[1;33m.\u001b[0m\u001b[0mensure_initialized\u001b[0m\u001b[1;33m(\u001b[0m\u001b[1;33m)\u001b[0m\u001b[1;33m\u001b[0m\u001b[1;33m\u001b[0m\u001b[0m\n\u001b[0;32m     54\u001b[0m     tensors = pywrap_tfe.TFE_Py_Execute(ctx._handle, device_name, op_name,\n\u001b[1;32m---> 55\u001b[1;33m                                         inputs, attrs, num_outputs)\n\u001b[0m\u001b[0;32m     56\u001b[0m   \u001b[1;32mexcept\u001b[0m \u001b[0mcore\u001b[0m\u001b[1;33m.\u001b[0m\u001b[0m_NotOkStatusException\u001b[0m \u001b[1;32mas\u001b[0m \u001b[0me\u001b[0m\u001b[1;33m:\u001b[0m\u001b[1;33m\u001b[0m\u001b[1;33m\u001b[0m\u001b[0m\n\u001b[0;32m     57\u001b[0m     \u001b[1;32mif\u001b[0m \u001b[0mname\u001b[0m \u001b[1;32mis\u001b[0m \u001b[1;32mnot\u001b[0m \u001b[1;32mNone\u001b[0m\u001b[1;33m:\u001b[0m\u001b[1;33m\u001b[0m\u001b[1;33m\u001b[0m\u001b[0m\n",
      "\u001b[1;31mUnknownError\u001b[0m: Graph execution error:\n\n2 root error(s) found.\n  (0) UNKNOWN:  FileNotFoundError: No such file: 'C:\\dev\\larynx_NN_model\\data\\larynx\\test\\6.png'\nTraceback (most recent call last):\n\n  File \"C:\\Users\\perseusf\\anaconda3\\envs\\unet_sandbox\\lib\\site-packages\\tensorflow\\python\\ops\\script_ops.py\", line 270, in __call__\n    ret = func(*args)\n\n  File \"C:\\Users\\perseusf\\anaconda3\\envs\\unet_sandbox\\lib\\site-packages\\tensorflow\\python\\autograph\\impl\\api.py\", line 642, in wrapper\n    return func(*args, **kwargs)\n\n  File \"C:\\Users\\perseusf\\anaconda3\\envs\\unet_sandbox\\lib\\site-packages\\tensorflow\\python\\data\\ops\\dataset_ops.py\", line 1030, in generator_py_func\n    values = next(generator_state.get_iterator(iterator_id))\n\n  File \"C:\\Users\\perseusf\\anaconda3\\envs\\unet_sandbox\\lib\\site-packages\\keras\\engine\\data_adapter.py\", line 831, in wrapped_generator\n    for data in generator_fn():\n\n  File \"C:\\dev\\larynx_NN_model\\data.py\", line 221, in test_dataset_generator\n    img = io.imread(os.path.join(test_path, \"%d.png\" % i), as_gray=as_gray)\n\n  File \"C:\\Users\\perseusf\\anaconda3\\envs\\unet_sandbox\\lib\\site-packages\\skimage\\io\\_io.py\", line 53, in imread\n    img = call_plugin('imread', fname, plugin=plugin, **plugin_args)\n\n  File \"C:\\Users\\perseusf\\anaconda3\\envs\\unet_sandbox\\lib\\site-packages\\skimage\\io\\manage_plugins.py\", line 207, in call_plugin\n    return func(*args, **kwargs)\n\n  File \"C:\\Users\\perseusf\\anaconda3\\envs\\unet_sandbox\\lib\\site-packages\\skimage\\io\\_plugins\\imageio_plugin.py\", line 10, in imread\n    return np.asarray(imageio_imread(*args, **kwargs))\n\n  File \"C:\\Users\\perseusf\\anaconda3\\envs\\unet_sandbox\\lib\\site-packages\\imageio\\__init__.py\", line 97, in imread\n    return imread_v2(uri, format=format, **kwargs)\n\n  File \"C:\\Users\\perseusf\\anaconda3\\envs\\unet_sandbox\\lib\\site-packages\\imageio\\v2.py\", line 200, in imread\n    with imopen(uri, \"ri\", **imopen_args) as file:\n\n  File \"C:\\Users\\perseusf\\anaconda3\\envs\\unet_sandbox\\lib\\site-packages\\imageio\\core\\imopen.py\", line 118, in imopen\n    request = Request(uri, io_mode, format_hint=format_hint, extension=extension)\n\n  File \"C:\\Users\\perseusf\\anaconda3\\envs\\unet_sandbox\\lib\\site-packages\\imageio\\core\\request.py\", line 248, in __init__\n    self._parse_uri(uri)\n\n  File \"C:\\Users\\perseusf\\anaconda3\\envs\\unet_sandbox\\lib\\site-packages\\imageio\\core\\request.py\", line 407, in _parse_uri\n    raise FileNotFoundError(\"No such file: '%s'\" % fn)\n\nFileNotFoundError: No such file: 'C:\\dev\\larynx_NN_model\\data\\larynx\\test\\6.png'\n\n\n\t [[{{node PyFunc}}]]\n\t [[IteratorGetNext]]\n\t [[IteratorGetNext/_2]]\n  (1) UNKNOWN:  FileNotFoundError: No such file: 'C:\\dev\\larynx_NN_model\\data\\larynx\\test\\6.png'\nTraceback (most recent call last):\n\n  File \"C:\\Users\\perseusf\\anaconda3\\envs\\unet_sandbox\\lib\\site-packages\\tensorflow\\python\\ops\\script_ops.py\", line 270, in __call__\n    ret = func(*args)\n\n  File \"C:\\Users\\perseusf\\anaconda3\\envs\\unet_sandbox\\lib\\site-packages\\tensorflow\\python\\autograph\\impl\\api.py\", line 642, in wrapper\n    return func(*args, **kwargs)\n\n  File \"C:\\Users\\perseusf\\anaconda3\\envs\\unet_sandbox\\lib\\site-packages\\tensorflow\\python\\data\\ops\\dataset_ops.py\", line 1030, in generator_py_func\n    values = next(generator_state.get_iterator(iterator_id))\n\n  File \"C:\\Users\\perseusf\\anaconda3\\envs\\unet_sandbox\\lib\\site-packages\\keras\\engine\\data_adapter.py\", line 831, in wrapped_generator\n    for data in generator_fn():\n\n  File \"C:\\dev\\larynx_NN_model\\data.py\", line 221, in test_dataset_generator\n    img = io.imread(os.path.join(test_path, \"%d.png\" % i), as_gray=as_gray)\n\n  File \"C:\\Users\\perseusf\\anaconda3\\envs\\unet_sandbox\\lib\\site-packages\\skimage\\io\\_io.py\", line 53, in imread\n    img = call_plugin('imread', fname, plugin=plugin, **plugin_args)\n\n  File \"C:\\Users\\perseusf\\anaconda3\\envs\\unet_sandbox\\lib\\site-packages\\skimage\\io\\manage_plugins.py\", line 207, in call_plugin\n    return func(*args, **kwargs)\n\n  File \"C:\\Users\\perseusf\\anaconda3\\envs\\unet_sandbox\\lib\\site-packages\\skimage\\io\\_plugins\\imageio_plugin.py\", line 10, in imread\n    return np.asarray(imageio_imread(*args, **kwargs))\n\n  File \"C:\\Users\\perseusf\\anaconda3\\envs\\unet_sandbox\\lib\\site-packages\\imageio\\__init__.py\", line 97, in imread\n    return imread_v2(uri, format=format, **kwargs)\n\n  File \"C:\\Users\\perseusf\\anaconda3\\envs\\unet_sandbox\\lib\\site-packages\\imageio\\v2.py\", line 200, in imread\n    with imopen(uri, \"ri\", **imopen_args) as file:\n\n  File \"C:\\Users\\perseusf\\anaconda3\\envs\\unet_sandbox\\lib\\site-packages\\imageio\\core\\imopen.py\", line 118, in imopen\n    request = Request(uri, io_mode, format_hint=format_hint, extension=extension)\n\n  File \"C:\\Users\\perseusf\\anaconda3\\envs\\unet_sandbox\\lib\\site-packages\\imageio\\core\\request.py\", line 248, in __init__\n    self._parse_uri(uri)\n\n  File \"C:\\Users\\perseusf\\anaconda3\\envs\\unet_sandbox\\lib\\site-packages\\imageio\\core\\request.py\", line 407, in _parse_uri\n    raise FileNotFoundError(\"No such file: '%s'\" % fn)\n\nFileNotFoundError: No such file: 'C:\\dev\\larynx_NN_model\\data\\larynx\\test\\6.png'\n\n\n\t [[{{node PyFunc}}]]\n\t [[IteratorGetNext]]\n0 successful operations.\n0 derived errors ignored. [Op:__inference_predict_function_470817]"
     ]
    }
   ],
   "source": [
    "# testing the model\n",
    "test_dataset = test_dataset_generator(\"data/larynx/test\")\n",
    "results = model.predict(test_dataset, 6, verbose=1)\n",
    "saveResult(\"data/larynx/test\", results)\n"
   ]
  },
  {
   "cell_type": "code",
   "execution_count": 86,
   "id": "07856003",
   "metadata": {
    "scrolled": false
   },
   "outputs": [
    {
     "data": {
      "text/plain": [
       "Reusing TensorBoard on port 6006 (pid 1332), started 8:27:23 ago. (Use '!kill 1332' to kill it.)"
      ]
     },
     "metadata": {},
     "output_type": "display_data"
    },
    {
     "data": {
      "text/html": [
       "\n",
       "      <iframe id=\"tensorboard-frame-ec843b980788326e\" width=\"100%\" height=\"800\" frameborder=\"0\">\n",
       "      </iframe>\n",
       "      <script>\n",
       "        (function() {\n",
       "          const frame = document.getElementById(\"tensorboard-frame-ec843b980788326e\");\n",
       "          const url = new URL(\"/\", window.location);\n",
       "          const port = 6006;\n",
       "          if (port) {\n",
       "            url.port = port;\n",
       "          }\n",
       "          frame.src = url;\n",
       "        })();\n",
       "      </script>\n",
       "    "
      ],
      "text/plain": [
       "<IPython.core.display.HTML object>"
      ]
     },
     "metadata": {},
     "output_type": "display_data"
    }
   ],
   "source": [
    "%tensorboard --logdir logs"
   ]
  },
  {
   "cell_type": "code",
   "execution_count": null,
   "id": "b66e4d0d",
   "metadata": {},
   "outputs": [],
   "source": []
  }
 ],
 "metadata": {
  "kernelspec": {
   "display_name": "Python 3 (ipykernel)",
   "language": "python",
   "name": "python3"
  },
  "language_info": {
   "codemirror_mode": {
    "name": "ipython",
    "version": 3
   },
   "file_extension": ".py",
   "mimetype": "text/x-python",
   "name": "python",
   "nbconvert_exporter": "python",
   "pygments_lexer": "ipython3",
   "version": "3.7.13"
  }
 },
 "nbformat": 4,
 "nbformat_minor": 5
}
