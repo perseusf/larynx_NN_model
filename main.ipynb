{
 "cells": [
  {
   "cell_type": "code",
   "execution_count": 24,
   "id": "470b159f",
   "metadata": {},
   "outputs": [],
   "source": [
    "import tensorflow as tf\n",
    "import datetime, os\n",
    "from model import *\n",
    "from data import *"
   ]
  },
  {
   "attachments": {},
   "cell_type": "markdown",
   "id": "f09389f6",
   "metadata": {},
   "source": [
    "#### Unpack videos and labels"
   ]
  },
  {
   "cell_type": "code",
   "execution_count": 25,
   "id": "86afb5df",
   "metadata": {},
   "outputs": [],
   "source": [
    "unpack_video('data/larynx/train', video_folder='video', image_folder='image', target_size=(256, 256))\n",
    "unpack_tif('data/larynx/train', tif_folder='tifs', label_folder='label', target_size=(256, 256))"
   ]
  },
  {
   "attachments": {},
   "cell_type": "markdown",
   "id": "20c9f263",
   "metadata": {},
   "source": [
    "#### Launch TensorBoard Session"
   ]
  },
  {
   "cell_type": "code",
   "execution_count": 26,
   "id": "3ca80e6f",
   "metadata": {},
   "outputs": [
    {
     "name": "stdout",
     "output_type": "stream",
     "text": [
      "The tensorboard extension is already loaded. To reload it, use:\n",
      "  %reload_ext tensorboard\n"
     ]
    }
   ],
   "source": [
    "%load_ext tensorboard\n",
    "%reload_ext tensorboard"
   ]
  },
  {
   "attachments": {},
   "cell_type": "markdown",
   "id": "56ed00c9",
   "metadata": {},
   "source": [
    "#### Initialize the model (U-Net)"
   ]
  },
  {
   "cell_type": "code",
   "execution_count": 34,
   "id": "f8a7d141",
   "metadata": {
    "scrolled": true
   },
   "outputs": [
    {
     "name": "stderr",
     "output_type": "stream",
     "text": [
      "WARNING:absl:`lr` is deprecated in Keras optimizer, please use `learning_rate` or use the legacy optimizer, e.g.,tf.keras.optimizers.legacy.Adam.\n"
     ]
    }
   ],
   "source": [
    "model = unet()\n",
    "model_checkpoint = ModelCheckpoint('unet_larynx.hdf5', monitor='loss', verbose=1, save_best_only=True)"
   ]
  },
  {
   "attachments": {},
   "cell_type": "markdown",
   "id": "a60f9eff",
   "metadata": {},
   "source": [
    "#### Prepare training dataset"
   ]
  },
  {
   "cell_type": "code",
   "execution_count": 35,
   "id": "c058c2c4",
   "metadata": {},
   "outputs": [],
   "source": [
    "training_dataset = training_dataset_generator(2,\n",
    "                                              'data/larynx/train',\n",
    "                                              'image',\n",
    "                                              'label',\n",
    "                                              dict([]),\n",
    "                                              save_to_dir=None)"
   ]
  },
  {
   "cell_type": "code",
   "execution_count": 36,
   "id": "ef560264",
   "metadata": {
    "scrolled": false
   },
   "outputs": [
    {
     "name": "stdout",
     "output_type": "stream",
     "text": [
      "Found 55 images belonging to 1 classes.\n",
      "Found 55 images belonging to 1 classes.\n",
      "10/10 [==============================] - ETA: 0s - loss: 14.6664 - accuracy: 0.9637\n",
      "Epoch 1: loss improved from inf to 14.66639, saving model to unet_larynx.hdf5\n",
      "10/10 [==============================] - 21s 2s/step - loss: 14.6664 - accuracy: 0.9637\n"
     ]
    },
    {
     "data": {
      "text/plain": [
       "<keras.src.callbacks.History at 0x2380423ad00>"
      ]
     },
     "execution_count": 36,
     "metadata": {},
     "output_type": "execute_result"
    }
   ],
   "source": [
    "# Set up TensorBoard callback\n",
    "logdir = os.path.join(\"logs\", datetime.datetime.now().strftime(\"%Y%m%d-%H%M%S\"))\n",
    "tensorboard_callback = tf.keras.callbacks.TensorBoard(logdir, histogram_freq=1)\n",
    "\n",
    "# Early stopping callback\n",
    "early_stopping = tf.keras.callbacks.EarlyStopping(monitor='loss', patience=7, mode='auto', restore_best_weights=True)\n",
    "\n",
    "\n",
    "# Train the model using the training dataset and TensorBoard callback\n",
    "model.fit(training_dataset, \n",
    "          steps_per_epoch=10, \n",
    "          epochs=1, \n",
    "          callbacks=[model_checkpoint, tensorboard_callback])"
   ]
  },
  {
   "attachments": {},
   "cell_type": "markdown",
   "id": "ca66b6b2",
   "metadata": {},
   "source": [
    "#### Testing the model"
   ]
  },
  {
   "cell_type": "code",
   "execution_count": 44,
   "id": "6f51a041",
   "metadata": {
    "scrolled": true
   },
   "outputs": [
    {
     "name": "stdout",
     "output_type": "stream",
     "text": [
      "5/5 [==============================] - 1s 172ms/step\n"
     ]
    },
    {
     "name": "stderr",
     "output_type": "stream",
     "text": [
      "WARNING:imageio:Lossy conversion from float32 to uint8. Range [0, 1]. Convert image to uint8 prior to saving to suppress this warning.\n",
      "WARNING:imageio:Lossy conversion from float32 to uint8. Range [0, 1]. Convert image to uint8 prior to saving to suppress this warning.\n",
      "WARNING:imageio:Lossy conversion from float32 to uint8. Range [0, 1]. Convert image to uint8 prior to saving to suppress this warning.\n",
      "WARNING:imageio:Lossy conversion from float32 to uint8. Range [0, 1]. Convert image to uint8 prior to saving to suppress this warning.\n",
      "WARNING:imageio:Lossy conversion from float32 to uint8. Range [0, 1]. Convert image to uint8 prior to saving to suppress this warning.\n",
      "c:\\Users\\perseusf\\anaconda3\\lib\\site-packages\\keras\\src\\utils\\image_utils.py:409: UserWarning: grayscale is deprecated. Please use color_mode = \"grayscale\"\n",
      "  warnings.warn(\n"
     ]
    },
    {
     "name": "stdout",
     "output_type": "stream",
     "text": [
      "55/55 [==============================] - 9s 172ms/step\n"
     ]
    },
    {
     "name": "stderr",
     "output_type": "stream",
     "text": [
      "c:\\dev\\git\\larynx_NN_model\\data.py:308: UserWarning: data/larynx/segment/segment_tmp\\0_predict.png is a low contrast image\n",
      "  io.imsave(os.path.join(save_path, \"%d_predict.png\" % i), img)\n",
      "WARNING:imageio:Lossy conversion from float32 to uint8. Range [0, 1]. Convert image to uint8 prior to saving to suppress this warning.\n",
      "c:\\dev\\git\\larynx_NN_model\\data.py:308: UserWarning: data/larynx/segment/segment_tmp\\1_predict.png is a low contrast image\n",
      "  io.imsave(os.path.join(save_path, \"%d_predict.png\" % i), img)\n",
      "WARNING:imageio:Lossy conversion from float32 to uint8. Range [0, 1]. Convert image to uint8 prior to saving to suppress this warning.\n",
      "c:\\dev\\git\\larynx_NN_model\\data.py:308: UserWarning: data/larynx/segment/segment_tmp\\2_predict.png is a low contrast image\n",
      "  io.imsave(os.path.join(save_path, \"%d_predict.png\" % i), img)\n",
      "WARNING:imageio:Lossy conversion from float32 to uint8. Range [0, 1]. Convert image to uint8 prior to saving to suppress this warning.\n",
      "c:\\dev\\git\\larynx_NN_model\\data.py:308: UserWarning: data/larynx/segment/segment_tmp\\3_predict.png is a low contrast image\n",
      "  io.imsave(os.path.join(save_path, \"%d_predict.png\" % i), img)\n",
      "WARNING:imageio:Lossy conversion from float32 to uint8. Range [0, 1]. Convert image to uint8 prior to saving to suppress this warning.\n",
      "c:\\dev\\git\\larynx_NN_model\\data.py:308: UserWarning: data/larynx/segment/segment_tmp\\4_predict.png is a low contrast image\n",
      "  io.imsave(os.path.join(save_path, \"%d_predict.png\" % i), img)\n",
      "WARNING:imageio:Lossy conversion from float32 to uint8. Range [0, 1]. Convert image to uint8 prior to saving to suppress this warning.\n",
      "c:\\dev\\git\\larynx_NN_model\\data.py:308: UserWarning: data/larynx/segment/segment_tmp\\5_predict.png is a low contrast image\n",
      "  io.imsave(os.path.join(save_path, \"%d_predict.png\" % i), img)\n",
      "WARNING:imageio:Lossy conversion from float32 to uint8. Range [0, 1]. Convert image to uint8 prior to saving to suppress this warning.\n",
      "c:\\dev\\git\\larynx_NN_model\\data.py:308: UserWarning: data/larynx/segment/segment_tmp\\6_predict.png is a low contrast image\n",
      "  io.imsave(os.path.join(save_path, \"%d_predict.png\" % i), img)\n",
      "WARNING:imageio:Lossy conversion from float32 to uint8. Range [0, 1]. Convert image to uint8 prior to saving to suppress this warning.\n",
      "c:\\dev\\git\\larynx_NN_model\\data.py:308: UserWarning: data/larynx/segment/segment_tmp\\7_predict.png is a low contrast image\n",
      "  io.imsave(os.path.join(save_path, \"%d_predict.png\" % i), img)\n",
      "WARNING:imageio:Lossy conversion from float32 to uint8. Range [0, 1]. Convert image to uint8 prior to saving to suppress this warning.\n",
      "c:\\dev\\git\\larynx_NN_model\\data.py:308: UserWarning: data/larynx/segment/segment_tmp\\8_predict.png is a low contrast image\n",
      "  io.imsave(os.path.join(save_path, \"%d_predict.png\" % i), img)\n",
      "WARNING:imageio:Lossy conversion from float32 to uint8. Range [0, 1]. Convert image to uint8 prior to saving to suppress this warning.\n",
      "c:\\dev\\git\\larynx_NN_model\\data.py:308: UserWarning: data/larynx/segment/segment_tmp\\9_predict.png is a low contrast image\n",
      "  io.imsave(os.path.join(save_path, \"%d_predict.png\" % i), img)\n",
      "WARNING:imageio:Lossy conversion from float32 to uint8. Range [0, 1]. Convert image to uint8 prior to saving to suppress this warning.\n",
      "c:\\dev\\git\\larynx_NN_model\\data.py:308: UserWarning: data/larynx/segment/segment_tmp\\10_predict.png is a low contrast image\n",
      "  io.imsave(os.path.join(save_path, \"%d_predict.png\" % i), img)\n",
      "WARNING:imageio:Lossy conversion from float32 to uint8. Range [0, 1]. Convert image to uint8 prior to saving to suppress this warning.\n",
      "c:\\dev\\git\\larynx_NN_model\\data.py:308: UserWarning: data/larynx/segment/segment_tmp\\11_predict.png is a low contrast image\n",
      "  io.imsave(os.path.join(save_path, \"%d_predict.png\" % i), img)\n",
      "WARNING:imageio:Lossy conversion from float32 to uint8. Range [0, 1]. Convert image to uint8 prior to saving to suppress this warning.\n",
      "c:\\dev\\git\\larynx_NN_model\\data.py:308: UserWarning: data/larynx/segment/segment_tmp\\12_predict.png is a low contrast image\n",
      "  io.imsave(os.path.join(save_path, \"%d_predict.png\" % i), img)\n",
      "WARNING:imageio:Lossy conversion from float32 to uint8. Range [0, 1]. Convert image to uint8 prior to saving to suppress this warning.\n",
      "c:\\dev\\git\\larynx_NN_model\\data.py:308: UserWarning: data/larynx/segment/segment_tmp\\13_predict.png is a low contrast image\n",
      "  io.imsave(os.path.join(save_path, \"%d_predict.png\" % i), img)\n",
      "WARNING:imageio:Lossy conversion from float32 to uint8. Range [0, 1]. Convert image to uint8 prior to saving to suppress this warning.\n",
      "c:\\dev\\git\\larynx_NN_model\\data.py:308: UserWarning: data/larynx/segment/segment_tmp\\14_predict.png is a low contrast image\n",
      "  io.imsave(os.path.join(save_path, \"%d_predict.png\" % i), img)\n",
      "WARNING:imageio:Lossy conversion from float32 to uint8. Range [0, 1]. Convert image to uint8 prior to saving to suppress this warning.\n",
      "c:\\dev\\git\\larynx_NN_model\\data.py:308: UserWarning: data/larynx/segment/segment_tmp\\15_predict.png is a low contrast image\n",
      "  io.imsave(os.path.join(save_path, \"%d_predict.png\" % i), img)\n",
      "WARNING:imageio:Lossy conversion from float32 to uint8. Range [0, 1]. Convert image to uint8 prior to saving to suppress this warning.\n",
      "c:\\dev\\git\\larynx_NN_model\\data.py:308: UserWarning: data/larynx/segment/segment_tmp\\16_predict.png is a low contrast image\n",
      "  io.imsave(os.path.join(save_path, \"%d_predict.png\" % i), img)\n",
      "WARNING:imageio:Lossy conversion from float32 to uint8. Range [0, 1]. Convert image to uint8 prior to saving to suppress this warning.\n",
      "c:\\dev\\git\\larynx_NN_model\\data.py:308: UserWarning: data/larynx/segment/segment_tmp\\17_predict.png is a low contrast image\n",
      "  io.imsave(os.path.join(save_path, \"%d_predict.png\" % i), img)\n",
      "WARNING:imageio:Lossy conversion from float32 to uint8. Range [0, 1]. Convert image to uint8 prior to saving to suppress this warning.\n",
      "c:\\dev\\git\\larynx_NN_model\\data.py:308: UserWarning: data/larynx/segment/segment_tmp\\18_predict.png is a low contrast image\n",
      "  io.imsave(os.path.join(save_path, \"%d_predict.png\" % i), img)\n",
      "WARNING:imageio:Lossy conversion from float32 to uint8. Range [0, 1]. Convert image to uint8 prior to saving to suppress this warning.\n",
      "c:\\dev\\git\\larynx_NN_model\\data.py:308: UserWarning: data/larynx/segment/segment_tmp\\19_predict.png is a low contrast image\n",
      "  io.imsave(os.path.join(save_path, \"%d_predict.png\" % i), img)\n",
      "WARNING:imageio:Lossy conversion from float32 to uint8. Range [0, 1]. Convert image to uint8 prior to saving to suppress this warning.\n",
      "c:\\dev\\git\\larynx_NN_model\\data.py:308: UserWarning: data/larynx/segment/segment_tmp\\20_predict.png is a low contrast image\n",
      "  io.imsave(os.path.join(save_path, \"%d_predict.png\" % i), img)\n",
      "WARNING:imageio:Lossy conversion from float32 to uint8. Range [0, 1]. Convert image to uint8 prior to saving to suppress this warning.\n",
      "c:\\dev\\git\\larynx_NN_model\\data.py:308: UserWarning: data/larynx/segment/segment_tmp\\21_predict.png is a low contrast image\n",
      "  io.imsave(os.path.join(save_path, \"%d_predict.png\" % i), img)\n",
      "WARNING:imageio:Lossy conversion from float32 to uint8. Range [0, 1]. Convert image to uint8 prior to saving to suppress this warning.\n",
      "c:\\dev\\git\\larynx_NN_model\\data.py:308: UserWarning: data/larynx/segment/segment_tmp\\22_predict.png is a low contrast image\n",
      "  io.imsave(os.path.join(save_path, \"%d_predict.png\" % i), img)\n",
      "WARNING:imageio:Lossy conversion from float32 to uint8. Range [0, 1]. Convert image to uint8 prior to saving to suppress this warning.\n",
      "c:\\dev\\git\\larynx_NN_model\\data.py:308: UserWarning: data/larynx/segment/segment_tmp\\23_predict.png is a low contrast image\n",
      "  io.imsave(os.path.join(save_path, \"%d_predict.png\" % i), img)\n",
      "WARNING:imageio:Lossy conversion from float32 to uint8. Range [0, 1]. Convert image to uint8 prior to saving to suppress this warning.\n",
      "c:\\dev\\git\\larynx_NN_model\\data.py:308: UserWarning: data/larynx/segment/segment_tmp\\24_predict.png is a low contrast image\n",
      "  io.imsave(os.path.join(save_path, \"%d_predict.png\" % i), img)\n",
      "WARNING:imageio:Lossy conversion from float32 to uint8. Range [0, 1]. Convert image to uint8 prior to saving to suppress this warning.\n",
      "c:\\dev\\git\\larynx_NN_model\\data.py:308: UserWarning: data/larynx/segment/segment_tmp\\25_predict.png is a low contrast image\n",
      "  io.imsave(os.path.join(save_path, \"%d_predict.png\" % i), img)\n",
      "WARNING:imageio:Lossy conversion from float32 to uint8. Range [0, 1]. Convert image to uint8 prior to saving to suppress this warning.\n",
      "c:\\dev\\git\\larynx_NN_model\\data.py:308: UserWarning: data/larynx/segment/segment_tmp\\26_predict.png is a low contrast image\n",
      "  io.imsave(os.path.join(save_path, \"%d_predict.png\" % i), img)\n",
      "WARNING:imageio:Lossy conversion from float32 to uint8. Range [0, 1]. Convert image to uint8 prior to saving to suppress this warning.\n",
      "c:\\dev\\git\\larynx_NN_model\\data.py:308: UserWarning: data/larynx/segment/segment_tmp\\27_predict.png is a low contrast image\n",
      "  io.imsave(os.path.join(save_path, \"%d_predict.png\" % i), img)\n",
      "WARNING:imageio:Lossy conversion from float32 to uint8. Range [0, 1]. Convert image to uint8 prior to saving to suppress this warning.\n",
      "c:\\dev\\git\\larynx_NN_model\\data.py:308: UserWarning: data/larynx/segment/segment_tmp\\28_predict.png is a low contrast image\n",
      "  io.imsave(os.path.join(save_path, \"%d_predict.png\" % i), img)\n",
      "WARNING:imageio:Lossy conversion from float32 to uint8. Range [0, 1]. Convert image to uint8 prior to saving to suppress this warning.\n",
      "c:\\dev\\git\\larynx_NN_model\\data.py:308: UserWarning: data/larynx/segment/segment_tmp\\29_predict.png is a low contrast image\n",
      "  io.imsave(os.path.join(save_path, \"%d_predict.png\" % i), img)\n",
      "WARNING:imageio:Lossy conversion from float32 to uint8. Range [0, 1]. Convert image to uint8 prior to saving to suppress this warning.\n",
      "c:\\dev\\git\\larynx_NN_model\\data.py:308: UserWarning: data/larynx/segment/segment_tmp\\30_predict.png is a low contrast image\n",
      "  io.imsave(os.path.join(save_path, \"%d_predict.png\" % i), img)\n",
      "WARNING:imageio:Lossy conversion from float32 to uint8. Range [0, 1]. Convert image to uint8 prior to saving to suppress this warning.\n",
      "c:\\dev\\git\\larynx_NN_model\\data.py:308: UserWarning: data/larynx/segment/segment_tmp\\31_predict.png is a low contrast image\n",
      "  io.imsave(os.path.join(save_path, \"%d_predict.png\" % i), img)\n",
      "WARNING:imageio:Lossy conversion from float32 to uint8. Range [0, 1]. Convert image to uint8 prior to saving to suppress this warning.\n",
      "c:\\dev\\git\\larynx_NN_model\\data.py:308: UserWarning: data/larynx/segment/segment_tmp\\32_predict.png is a low contrast image\n",
      "  io.imsave(os.path.join(save_path, \"%d_predict.png\" % i), img)\n",
      "WARNING:imageio:Lossy conversion from float32 to uint8. Range [0, 1]. Convert image to uint8 prior to saving to suppress this warning.\n",
      "c:\\dev\\git\\larynx_NN_model\\data.py:308: UserWarning: data/larynx/segment/segment_tmp\\33_predict.png is a low contrast image\n",
      "  io.imsave(os.path.join(save_path, \"%d_predict.png\" % i), img)\n",
      "WARNING:imageio:Lossy conversion from float32 to uint8. Range [0, 1]. Convert image to uint8 prior to saving to suppress this warning.\n",
      "c:\\dev\\git\\larynx_NN_model\\data.py:308: UserWarning: data/larynx/segment/segment_tmp\\34_predict.png is a low contrast image\n",
      "  io.imsave(os.path.join(save_path, \"%d_predict.png\" % i), img)\n",
      "WARNING:imageio:Lossy conversion from float32 to uint8. Range [0, 1]. Convert image to uint8 prior to saving to suppress this warning.\n",
      "c:\\dev\\git\\larynx_NN_model\\data.py:308: UserWarning: data/larynx/segment/segment_tmp\\35_predict.png is a low contrast image\n",
      "  io.imsave(os.path.join(save_path, \"%d_predict.png\" % i), img)\n",
      "WARNING:imageio:Lossy conversion from float32 to uint8. Range [0, 1]. Convert image to uint8 prior to saving to suppress this warning.\n",
      "c:\\dev\\git\\larynx_NN_model\\data.py:308: UserWarning: data/larynx/segment/segment_tmp\\36_predict.png is a low contrast image\n",
      "  io.imsave(os.path.join(save_path, \"%d_predict.png\" % i), img)\n",
      "WARNING:imageio:Lossy conversion from float32 to uint8. Range [0, 1]. Convert image to uint8 prior to saving to suppress this warning.\n",
      "c:\\dev\\git\\larynx_NN_model\\data.py:308: UserWarning: data/larynx/segment/segment_tmp\\37_predict.png is a low contrast image\n",
      "  io.imsave(os.path.join(save_path, \"%d_predict.png\" % i), img)\n",
      "WARNING:imageio:Lossy conversion from float32 to uint8. Range [0, 1]. Convert image to uint8 prior to saving to suppress this warning.\n",
      "c:\\dev\\git\\larynx_NN_model\\data.py:308: UserWarning: data/larynx/segment/segment_tmp\\38_predict.png is a low contrast image\n",
      "  io.imsave(os.path.join(save_path, \"%d_predict.png\" % i), img)\n",
      "WARNING:imageio:Lossy conversion from float32 to uint8. Range [0, 1]. Convert image to uint8 prior to saving to suppress this warning.\n",
      "c:\\dev\\git\\larynx_NN_model\\data.py:308: UserWarning: data/larynx/segment/segment_tmp\\39_predict.png is a low contrast image\n",
      "  io.imsave(os.path.join(save_path, \"%d_predict.png\" % i), img)\n",
      "WARNING:imageio:Lossy conversion from float32 to uint8. Range [0, 1]. Convert image to uint8 prior to saving to suppress this warning.\n",
      "c:\\dev\\git\\larynx_NN_model\\data.py:308: UserWarning: data/larynx/segment/segment_tmp\\40_predict.png is a low contrast image\n",
      "  io.imsave(os.path.join(save_path, \"%d_predict.png\" % i), img)\n",
      "WARNING:imageio:Lossy conversion from float32 to uint8. Range [0, 1]. Convert image to uint8 prior to saving to suppress this warning.\n",
      "c:\\dev\\git\\larynx_NN_model\\data.py:308: UserWarning: data/larynx/segment/segment_tmp\\41_predict.png is a low contrast image\n",
      "  io.imsave(os.path.join(save_path, \"%d_predict.png\" % i), img)\n",
      "WARNING:imageio:Lossy conversion from float32 to uint8. Range [0, 1]. Convert image to uint8 prior to saving to suppress this warning.\n",
      "c:\\dev\\git\\larynx_NN_model\\data.py:308: UserWarning: data/larynx/segment/segment_tmp\\42_predict.png is a low contrast image\n",
      "  io.imsave(os.path.join(save_path, \"%d_predict.png\" % i), img)\n",
      "WARNING:imageio:Lossy conversion from float32 to uint8. Range [0, 1]. Convert image to uint8 prior to saving to suppress this warning.\n",
      "c:\\dev\\git\\larynx_NN_model\\data.py:308: UserWarning: data/larynx/segment/segment_tmp\\43_predict.png is a low contrast image\n",
      "  io.imsave(os.path.join(save_path, \"%d_predict.png\" % i), img)\n",
      "WARNING:imageio:Lossy conversion from float32 to uint8. Range [0, 1]. Convert image to uint8 prior to saving to suppress this warning.\n",
      "c:\\dev\\git\\larynx_NN_model\\data.py:308: UserWarning: data/larynx/segment/segment_tmp\\44_predict.png is a low contrast image\n",
      "  io.imsave(os.path.join(save_path, \"%d_predict.png\" % i), img)\n",
      "WARNING:imageio:Lossy conversion from float32 to uint8. Range [0, 1]. Convert image to uint8 prior to saving to suppress this warning.\n",
      "c:\\dev\\git\\larynx_NN_model\\data.py:308: UserWarning: data/larynx/segment/segment_tmp\\45_predict.png is a low contrast image\n",
      "  io.imsave(os.path.join(save_path, \"%d_predict.png\" % i), img)\n",
      "WARNING:imageio:Lossy conversion from float32 to uint8. Range [0, 1]. Convert image to uint8 prior to saving to suppress this warning.\n",
      "c:\\dev\\git\\larynx_NN_model\\data.py:308: UserWarning: data/larynx/segment/segment_tmp\\46_predict.png is a low contrast image\n",
      "  io.imsave(os.path.join(save_path, \"%d_predict.png\" % i), img)\n",
      "WARNING:imageio:Lossy conversion from float32 to uint8. Range [0, 1]. Convert image to uint8 prior to saving to suppress this warning.\n",
      "c:\\dev\\git\\larynx_NN_model\\data.py:308: UserWarning: data/larynx/segment/segment_tmp\\47_predict.png is a low contrast image\n",
      "  io.imsave(os.path.join(save_path, \"%d_predict.png\" % i), img)\n",
      "WARNING:imageio:Lossy conversion from float32 to uint8. Range [0, 1]. Convert image to uint8 prior to saving to suppress this warning.\n",
      "c:\\dev\\git\\larynx_NN_model\\data.py:308: UserWarning: data/larynx/segment/segment_tmp\\48_predict.png is a low contrast image\n",
      "  io.imsave(os.path.join(save_path, \"%d_predict.png\" % i), img)\n",
      "WARNING:imageio:Lossy conversion from float32 to uint8. Range [0, 1]. Convert image to uint8 prior to saving to suppress this warning.\n",
      "c:\\dev\\git\\larynx_NN_model\\data.py:308: UserWarning: data/larynx/segment/segment_tmp\\49_predict.png is a low contrast image\n",
      "  io.imsave(os.path.join(save_path, \"%d_predict.png\" % i), img)\n",
      "WARNING:imageio:Lossy conversion from float32 to uint8. Range [0, 1]. Convert image to uint8 prior to saving to suppress this warning.\n",
      "c:\\dev\\git\\larynx_NN_model\\data.py:308: UserWarning: data/larynx/segment/segment_tmp\\50_predict.png is a low contrast image\n",
      "  io.imsave(os.path.join(save_path, \"%d_predict.png\" % i), img)\n",
      "WARNING:imageio:Lossy conversion from float32 to uint8. Range [0, 1]. Convert image to uint8 prior to saving to suppress this warning.\n",
      "c:\\dev\\git\\larynx_NN_model\\data.py:308: UserWarning: data/larynx/segment/segment_tmp\\51_predict.png is a low contrast image\n",
      "  io.imsave(os.path.join(save_path, \"%d_predict.png\" % i), img)\n",
      "WARNING:imageio:Lossy conversion from float32 to uint8. Range [0, 1]. Convert image to uint8 prior to saving to suppress this warning.\n",
      "c:\\dev\\git\\larynx_NN_model\\data.py:308: UserWarning: data/larynx/segment/segment_tmp\\52_predict.png is a low contrast image\n",
      "  io.imsave(os.path.join(save_path, \"%d_predict.png\" % i), img)\n",
      "WARNING:imageio:Lossy conversion from float32 to uint8. Range [0, 1]. Convert image to uint8 prior to saving to suppress this warning.\n",
      "c:\\dev\\git\\larynx_NN_model\\data.py:308: UserWarning: data/larynx/segment/segment_tmp\\53_predict.png is a low contrast image\n",
      "  io.imsave(os.path.join(save_path, \"%d_predict.png\" % i), img)\n",
      "WARNING:imageio:Lossy conversion from float32 to uint8. Range [0, 1]. Convert image to uint8 prior to saving to suppress this warning.\n",
      "c:\\dev\\git\\larynx_NN_model\\data.py:308: UserWarning: data/larynx/segment/segment_tmp\\54_predict.png is a low contrast image\n",
      "  io.imsave(os.path.join(save_path, \"%d_predict.png\" % i), img)\n",
      "WARNING:imageio:Lossy conversion from float32 to uint8. Range [0, 1]. Convert image to uint8 prior to saving to suppress this warning.\n"
     ]
    }
   ],
   "source": [
    "# testing the model\n",
    "test_dataset = test_dataset_generator(\"data/larynx/test\", num_image=5)\n",
    "results = model.predict(test_dataset, 3, verbose=1)\n",
    "saveResult(\"data/larynx/test\", results)\n"
   ]
  },
  {
   "cell_type": "code",
   "execution_count": null,
   "id": "b66e4d0d",
   "metadata": {},
   "outputs": [],
   "source": []
  }
 ],
 "metadata": {
  "kernelspec": {
   "display_name": "Python 3 (ipykernel)",
   "language": "python",
   "name": "python3"
  },
  "language_info": {
   "codemirror_mode": {
    "name": "ipython",
    "version": 3
   },
   "file_extension": ".py",
   "mimetype": "text/x-python",
   "name": "python",
   "nbconvert_exporter": "python",
   "pygments_lexer": "ipython3",
   "version": "3.9.12"
  }
 },
 "nbformat": 4,
 "nbformat_minor": 5
}
