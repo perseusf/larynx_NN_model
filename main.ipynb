{
 "cells": [
  {
   "cell_type": "code",
   "execution_count": 65,
   "id": "470b159f",
   "metadata": {},
   "outputs": [],
   "source": [
    "import tensorflow as tf\n",
    "import datetime, os\n",
    "from model import *\n",
    "from data import *"
   ]
  },
  {
   "attachments": {},
   "cell_type": "markdown",
   "id": "f09389f6",
   "metadata": {},
   "source": [
    "#### Unpack videos and labels"
   ]
  },
  {
   "cell_type": "code",
   "execution_count": 66,
   "id": "86afb5df",
   "metadata": {},
   "outputs": [],
   "source": [
    "unpack_video('data/larynx/train', video_folder='video', image_folder='image', target_size=(256, 256))\n",
    "unpack_tif('data/larynx/train', tif_folder='tifs', label_folder='label', target_size=(256, 256))"
   ]
  },
  {
   "attachments": {},
   "cell_type": "markdown",
   "id": "56ed00c9",
   "metadata": {},
   "source": [
    "#### Initialize the model (U-Net)"
   ]
  },
  {
   "cell_type": "code",
   "execution_count": 67,
   "id": "f8a7d141",
   "metadata": {
    "scrolled": true
   },
   "outputs": [
    {
     "name": "stderr",
     "output_type": "stream",
     "text": [
      "WARNING:absl:`lr` is deprecated in Keras optimizer, please use `learning_rate` or use the legacy optimizer, e.g.,tf.keras.optimizers.legacy.Adam.\n"
     ]
    }
   ],
   "source": [
    "model = unet()\n",
    "model_checkpoint = ModelCheckpoint('unet_larynx.hdf5', monitor='loss', verbose=1, save_best_only=True)"
   ]
  },
  {
   "attachments": {},
   "cell_type": "markdown",
   "id": "a60f9eff",
   "metadata": {},
   "source": [
    "#### Prepare training dataset"
   ]
  },
  {
   "cell_type": "code",
   "execution_count": 68,
   "id": "c058c2c4",
   "metadata": {},
   "outputs": [],
   "source": [
    "training_dataset = training_dataset_generator(2,\n",
    "                                              'data/larynx/train',\n",
    "                                              'image',\n",
    "                                              'label',\n",
    "                                              dict([]),\n",
    "                                              save_to_dir=None)"
   ]
  },
  {
   "cell_type": "code",
   "execution_count": 69,
   "id": "ef560264",
   "metadata": {
    "scrolled": false
   },
   "outputs": [
    {
     "name": "stdout",
     "output_type": "stream",
     "text": [
      "Found 55 images belonging to 1 classes.\n",
      "Found 55 images belonging to 1 classes.\n",
      "Epoch 1/100\n",
      "10/10 [==============================] - ETA: 0s - loss: 24.4827 - accuracy: 0.9632\n",
      "Epoch 1: loss improved from inf to 24.48268, saving model to unet_larynx.hdf5\n",
      "10/10 [==============================] - 21s 2s/step - loss: 24.4827 - accuracy: 0.9632\n",
      "Epoch 2/100\n",
      "10/10 [==============================] - ETA: 0s - loss: 0.2026 - accuracy: 0.9642\n",
      "Epoch 2: loss improved from 24.48268 to 0.20256, saving model to unet_larynx.hdf5\n",
      "10/10 [==============================] - 20s 2s/step - loss: 0.2026 - accuracy: 0.9642\n",
      "Epoch 3/100\n",
      "10/10 [==============================] - ETA: 0s - loss: 0.1399 - accuracy: 0.9821\n",
      "Epoch 3: loss improved from 0.20256 to 0.13987, saving model to unet_larynx.hdf5\n",
      "10/10 [==============================] - 19s 2s/step - loss: 0.1399 - accuracy: 0.9821\n",
      "Epoch 4/100\n",
      "10/10 [==============================] - ETA: 0s - loss: 0.1325 - accuracy: 0.9759\n",
      "Epoch 4: loss improved from 0.13987 to 0.13252, saving model to unet_larynx.hdf5\n",
      "10/10 [==============================] - 20s 2s/step - loss: 0.1325 - accuracy: 0.9759\n",
      "Epoch 5/100\n",
      "10/10 [==============================] - ETA: 0s - loss: 0.2679 - accuracy: 0.9580\n",
      "Epoch 5: loss did not improve from 0.13252\n",
      "10/10 [==============================] - 19s 2s/step - loss: 0.2679 - accuracy: 0.9580\n",
      "Epoch 6/100\n",
      " 9/10 [==========================>...] - ETA: 1s - loss: 0.1302 - accuracy: 0.9709"
     ]
    }
   ],
   "source": [
    "# Set up TensorBoard callback\n",
    "logdir = os.path.join(\"logs\", datetime.datetime.now().strftime(\"%Y%m%d-%H%M%S\"))\n",
    "tensorboard_callback = tf.keras.callbacks.TensorBoard(logdir, histogram_freq=1)\n",
    "\n",
    "# Early stopping callback\n",
    "early_stopping = tf.keras.callbacks.EarlyStopping(\n",
    "    monitor='loss',\n",
    "    patience=3,\n",
    "    verbose=1,\n",
    "    mode='min',\n",
    "    restore_best_weights=True\n",
    ")\n",
    "\n",
    "\n",
    "# Train the model using the training dataset and TensorBoard callback\n",
    "history = model.fit(training_dataset, \n",
    "          steps_per_epoch=10, \n",
    "          epochs=100, \n",
    "          callbacks=[model_checkpoint, tensorboard_callback, early_stopping])"
   ]
  },
  {
   "attachments": {},
   "cell_type": "markdown",
   "id": "ca66b6b2",
   "metadata": {},
   "source": [
    "#### Testing the model"
   ]
  },
  {
   "cell_type": "code",
   "execution_count": 44,
   "id": "6f51a041",
   "metadata": {
    "scrolled": true
   },
   "outputs": [
    {
     "name": "stdout",
     "output_type": "stream",
     "text": [
      "5/5 [==============================] - 1s 172ms/step\n"
     ]
    },
    {
     "name": "stderr",
     "output_type": "stream",
     "text": [
      "WARNING:imageio:Lossy conversion from float32 to uint8. Range [0, 1]. Convert image to uint8 prior to saving to suppress this warning.\n",
      "WARNING:imageio:Lossy conversion from float32 to uint8. Range [0, 1]. Convert image to uint8 prior to saving to suppress this warning.\n",
      "WARNING:imageio:Lossy conversion from float32 to uint8. Range [0, 1]. Convert image to uint8 prior to saving to suppress this warning.\n",
      "WARNING:imageio:Lossy conversion from float32 to uint8. Range [0, 1]. Convert image to uint8 prior to saving to suppress this warning.\n",
      "WARNING:imageio:Lossy conversion from float32 to uint8. Range [0, 1]. Convert image to uint8 prior to saving to suppress this warning.\n",
      "c:\\Users\\perseusf\\anaconda3\\lib\\site-packages\\keras\\src\\utils\\image_utils.py:409: UserWarning: grayscale is deprecated. Please use color_mode = \"grayscale\"\n",
      "  warnings.warn(\n"
     ]
    },
    {
     "name": "stdout",
     "output_type": "stream",
     "text": [
      "55/55 [==============================] - 9s 172ms/step\n"
     ]
    },
    {
     "name": "stderr",
     "output_type": "stream",
     "text": [
      "c:\\dev\\git\\larynx_NN_model\\data.py:308: UserWarning: data/larynx/segment/segment_tmp\\0_predict.png is a low contrast image\n",
      "  io.imsave(os.path.join(save_path, \"%d_predict.png\" % i), img)\n",
      "WARNING:imageio:Lossy conversion from float32 to uint8. Range [0, 1]. Convert image to uint8 prior to saving to suppress this warning.\n",
      "c:\\dev\\git\\larynx_NN_model\\data.py:308: UserWarning: data/larynx/segment/segment_tmp\\1_predict.png is a low contrast image\n",
      "  io.imsave(os.path.join(save_path, \"%d_predict.png\" % i), img)\n",
      "WARNING:imageio:Lossy conversion from float32 to uint8. Range [0, 1]. Convert image to uint8 prior to saving to suppress this warning.\n",
      "c:\\dev\\git\\larynx_NN_model\\data.py:308: UserWarning: data/larynx/segment/segment_tmp\\2_predict.png is a low contrast image\n",
      "  io.imsave(os.path.join(save_path, \"%d_predict.png\" % i), img)\n",
      "WARNING:imageio:Lossy conversion from float32 to uint8. Range [0, 1]. Convert image to uint8 prior to saving to suppress this warning.\n",
      "c:\\dev\\git\\larynx_NN_model\\data.py:308: UserWarning: data/larynx/segment/segment_tmp\\3_predict.png is a low contrast image\n",
      "  io.imsave(os.path.join(save_path, \"%d_predict.png\" % i), img)\n",
      "WARNING:imageio:Lossy conversion from float32 to uint8. Range [0, 1]. Convert image to uint8 prior to saving to suppress this warning.\n",
      "c:\\dev\\git\\larynx_NN_model\\data.py:308: UserWarning: data/larynx/segment/segment_tmp\\4_predict.png is a low contrast image\n",
      "  io.imsave(os.path.join(save_path, \"%d_predict.png\" % i), img)\n",
      "WARNING:imageio:Lossy conversion from float32 to uint8. Range [0, 1]. Convert image to uint8 prior to saving to suppress this warning.\n",
      "c:\\dev\\git\\larynx_NN_model\\data.py:308: UserWarning: data/larynx/segment/segment_tmp\\5_predict.png is a low contrast image\n",
      "  io.imsave(os.path.join(save_path, \"%d_predict.png\" % i), img)\n",
      "WARNING:imageio:Lossy conversion from float32 to uint8. Range [0, 1]. Convert image to uint8 prior to saving to suppress this warning.\n",
      "c:\\dev\\git\\larynx_NN_model\\data.py:308: UserWarning: data/larynx/segment/segment_tmp\\6_predict.png is a low contrast image\n",
      "  io.imsave(os.path.join(save_path, \"%d_predict.png\" % i), img)\n",
      "WARNING:imageio:Lossy conversion from float32 to uint8. Range [0, 1]. Convert image to uint8 prior to saving to suppress this warning.\n",
      "c:\\dev\\git\\larynx_NN_model\\data.py:308: UserWarning: data/larynx/segment/segment_tmp\\7_predict.png is a low contrast image\n",
      "  io.imsave(os.path.join(save_path, \"%d_predict.png\" % i), img)\n",
      "WARNING:imageio:Lossy conversion from float32 to uint8. Range [0, 1]. Convert image to uint8 prior to saving to suppress this warning.\n",
      "c:\\dev\\git\\larynx_NN_model\\data.py:308: UserWarning: data/larynx/segment/segment_tmp\\8_predict.png is a low contrast image\n",
      "  io.imsave(os.path.join(save_path, \"%d_predict.png\" % i), img)\n",
      "WARNING:imageio:Lossy conversion from float32 to uint8. Range [0, 1]. Convert image to uint8 prior to saving to suppress this warning.\n",
      "c:\\dev\\git\\larynx_NN_model\\data.py:308: UserWarning: data/larynx/segment/segment_tmp\\9_predict.png is a low contrast image\n",
      "  io.imsave(os.path.join(save_path, \"%d_predict.png\" % i), img)\n",
      "WARNING:imageio:Lossy conversion from float32 to uint8. Range [0, 1]. Convert image to uint8 prior to saving to suppress this warning.\n",
      "c:\\dev\\git\\larynx_NN_model\\data.py:308: UserWarning: data/larynx/segment/segment_tmp\\10_predict.png is a low contrast image\n",
      "  io.imsave(os.path.join(save_path, \"%d_predict.png\" % i), img)\n",
      "WARNING:imageio:Lossy conversion from float32 to uint8. Range [0, 1]. Convert image to uint8 prior to saving to suppress this warning.\n",
      "c:\\dev\\git\\larynx_NN_model\\data.py:308: UserWarning: data/larynx/segment/segment_tmp\\11_predict.png is a low contrast image\n",
      "  io.imsave(os.path.join(save_path, \"%d_predict.png\" % i), img)\n",
      "WARNING:imageio:Lossy conversion from float32 to uint8. Range [0, 1]. Convert image to uint8 prior to saving to suppress this warning.\n",
      "c:\\dev\\git\\larynx_NN_model\\data.py:308: UserWarning: data/larynx/segment/segment_tmp\\12_predict.png is a low contrast image\n",
      "  io.imsave(os.path.join(save_path, \"%d_predict.png\" % i), img)\n",
      "WARNING:imageio:Lossy conversion from float32 to uint8. Range [0, 1]. Convert image to uint8 prior to saving to suppress this warning.\n",
      "c:\\dev\\git\\larynx_NN_model\\data.py:308: UserWarning: data/larynx/segment/segment_tmp\\13_predict.png is a low contrast image\n",
      "  io.imsave(os.path.join(save_path, \"%d_predict.png\" % i), img)\n",
      "WARNING:imageio:Lossy conversion from float32 to uint8. Range [0, 1]. Convert image to uint8 prior to saving to suppress this warning.\n",
      "c:\\dev\\git\\larynx_NN_model\\data.py:308: UserWarning: data/larynx/segment/segment_tmp\\14_predict.png is a low contrast image\n",
      "  io.imsave(os.path.join(save_path, \"%d_predict.png\" % i), img)\n",
      "WARNING:imageio:Lossy conversion from float32 to uint8. Range [0, 1]. Convert image to uint8 prior to saving to suppress this warning.\n",
      "c:\\dev\\git\\larynx_NN_model\\data.py:308: UserWarning: data/larynx/segment/segment_tmp\\15_predict.png is a low contrast image\n",
      "  io.imsave(os.path.join(save_path, \"%d_predict.png\" % i), img)\n",
      "WARNING:imageio:Lossy conversion from float32 to uint8. Range [0, 1]. Convert image to uint8 prior to saving to suppress this warning.\n",
      "c:\\dev\\git\\larynx_NN_model\\data.py:308: UserWarning: data/larynx/segment/segment_tmp\\16_predict.png is a low contrast image\n",
      "  io.imsave(os.path.join(save_path, \"%d_predict.png\" % i), img)\n",
      "WARNING:imageio:Lossy conversion from float32 to uint8. Range [0, 1]. Convert image to uint8 prior to saving to suppress this warning.\n",
      "c:\\dev\\git\\larynx_NN_model\\data.py:308: UserWarning: data/larynx/segment/segment_tmp\\17_predict.png is a low contrast image\n",
      "  io.imsave(os.path.join(save_path, \"%d_predict.png\" % i), img)\n",
      "WARNING:imageio:Lossy conversion from float32 to uint8. Range [0, 1]. Convert image to uint8 prior to saving to suppress this warning.\n",
      "c:\\dev\\git\\larynx_NN_model\\data.py:308: UserWarning: data/larynx/segment/segment_tmp\\18_predict.png is a low contrast image\n",
      "  io.imsave(os.path.join(save_path, \"%d_predict.png\" % i), img)\n",
      "WARNING:imageio:Lossy conversion from float32 to uint8. Range [0, 1]. Convert image to uint8 prior to saving to suppress this warning.\n",
      "c:\\dev\\git\\larynx_NN_model\\data.py:308: UserWarning: data/larynx/segment/segment_tmp\\19_predict.png is a low contrast image\n",
      "  io.imsave(os.path.join(save_path, \"%d_predict.png\" % i), img)\n",
      "WARNING:imageio:Lossy conversion from float32 to uint8. Range [0, 1]. Convert image to uint8 prior to saving to suppress this warning.\n",
      "c:\\dev\\git\\larynx_NN_model\\data.py:308: UserWarning: data/larynx/segment/segment_tmp\\20_predict.png is a low contrast image\n",
      "  io.imsave(os.path.join(save_path, \"%d_predict.png\" % i), img)\n",
      "WARNING:imageio:Lossy conversion from float32 to uint8. Range [0, 1]. Convert image to uint8 prior to saving to suppress this warning.\n",
      "c:\\dev\\git\\larynx_NN_model\\data.py:308: UserWarning: data/larynx/segment/segment_tmp\\21_predict.png is a low contrast image\n",
      "  io.imsave(os.path.join(save_path, \"%d_predict.png\" % i), img)\n",
      "WARNING:imageio:Lossy conversion from float32 to uint8. Range [0, 1]. Convert image to uint8 prior to saving to suppress this warning.\n",
      "c:\\dev\\git\\larynx_NN_model\\data.py:308: UserWarning: data/larynx/segment/segment_tmp\\22_predict.png is a low contrast image\n",
      "  io.imsave(os.path.join(save_path, \"%d_predict.png\" % i), img)\n",
      "WARNING:imageio:Lossy conversion from float32 to uint8. Range [0, 1]. Convert image to uint8 prior to saving to suppress this warning.\n",
      "c:\\dev\\git\\larynx_NN_model\\data.py:308: UserWarning: data/larynx/segment/segment_tmp\\23_predict.png is a low contrast image\n",
      "  io.imsave(os.path.join(save_path, \"%d_predict.png\" % i), img)\n",
      "WARNING:imageio:Lossy conversion from float32 to uint8. Range [0, 1]. Convert image to uint8 prior to saving to suppress this warning.\n",
      "c:\\dev\\git\\larynx_NN_model\\data.py:308: UserWarning: data/larynx/segment/segment_tmp\\24_predict.png is a low contrast image\n",
      "  io.imsave(os.path.join(save_path, \"%d_predict.png\" % i), img)\n",
      "WARNING:imageio:Lossy conversion from float32 to uint8. Range [0, 1]. Convert image to uint8 prior to saving to suppress this warning.\n",
      "c:\\dev\\git\\larynx_NN_model\\data.py:308: UserWarning: data/larynx/segment/segment_tmp\\25_predict.png is a low contrast image\n",
      "  io.imsave(os.path.join(save_path, \"%d_predict.png\" % i), img)\n",
      "WARNING:imageio:Lossy conversion from float32 to uint8. Range [0, 1]. Convert image to uint8 prior to saving to suppress this warning.\n",
      "c:\\dev\\git\\larynx_NN_model\\data.py:308: UserWarning: data/larynx/segment/segment_tmp\\26_predict.png is a low contrast image\n",
      "  io.imsave(os.path.join(save_path, \"%d_predict.png\" % i), img)\n",
      "WARNING:imageio:Lossy conversion from float32 to uint8. Range [0, 1]. Convert image to uint8 prior to saving to suppress this warning.\n",
      "c:\\dev\\git\\larynx_NN_model\\data.py:308: UserWarning: data/larynx/segment/segment_tmp\\27_predict.png is a low contrast image\n",
      "  io.imsave(os.path.join(save_path, \"%d_predict.png\" % i), img)\n",
      "WARNING:imageio:Lossy conversion from float32 to uint8. Range [0, 1]. Convert image to uint8 prior to saving to suppress this warning.\n",
      "c:\\dev\\git\\larynx_NN_model\\data.py:308: UserWarning: data/larynx/segment/segment_tmp\\28_predict.png is a low contrast image\n",
      "  io.imsave(os.path.join(save_path, \"%d_predict.png\" % i), img)\n",
      "WARNING:imageio:Lossy conversion from float32 to uint8. Range [0, 1]. Convert image to uint8 prior to saving to suppress this warning.\n",
      "c:\\dev\\git\\larynx_NN_model\\data.py:308: UserWarning: data/larynx/segment/segment_tmp\\29_predict.png is a low contrast image\n",
      "  io.imsave(os.path.join(save_path, \"%d_predict.png\" % i), img)\n",
      "WARNING:imageio:Lossy conversion from float32 to uint8. Range [0, 1]. Convert image to uint8 prior to saving to suppress this warning.\n",
      "c:\\dev\\git\\larynx_NN_model\\data.py:308: UserWarning: data/larynx/segment/segment_tmp\\30_predict.png is a low contrast image\n",
      "  io.imsave(os.path.join(save_path, \"%d_predict.png\" % i), img)\n",
      "WARNING:imageio:Lossy conversion from float32 to uint8. Range [0, 1]. Convert image to uint8 prior to saving to suppress this warning.\n",
      "c:\\dev\\git\\larynx_NN_model\\data.py:308: UserWarning: data/larynx/segment/segment_tmp\\31_predict.png is a low contrast image\n",
      "  io.imsave(os.path.join(save_path, \"%d_predict.png\" % i), img)\n",
      "WARNING:imageio:Lossy conversion from float32 to uint8. Range [0, 1]. Convert image to uint8 prior to saving to suppress this warning.\n",
      "c:\\dev\\git\\larynx_NN_model\\data.py:308: UserWarning: data/larynx/segment/segment_tmp\\32_predict.png is a low contrast image\n",
      "  io.imsave(os.path.join(save_path, \"%d_predict.png\" % i), img)\n",
      "WARNING:imageio:Lossy conversion from float32 to uint8. Range [0, 1]. Convert image to uint8 prior to saving to suppress this warning.\n",
      "c:\\dev\\git\\larynx_NN_model\\data.py:308: UserWarning: data/larynx/segment/segment_tmp\\33_predict.png is a low contrast image\n",
      "  io.imsave(os.path.join(save_path, \"%d_predict.png\" % i), img)\n",
      "WARNING:imageio:Lossy conversion from float32 to uint8. Range [0, 1]. Convert image to uint8 prior to saving to suppress this warning.\n",
      "c:\\dev\\git\\larynx_NN_model\\data.py:308: UserWarning: data/larynx/segment/segment_tmp\\34_predict.png is a low contrast image\n",
      "  io.imsave(os.path.join(save_path, \"%d_predict.png\" % i), img)\n",
      "WARNING:imageio:Lossy conversion from float32 to uint8. Range [0, 1]. Convert image to uint8 prior to saving to suppress this warning.\n",
      "c:\\dev\\git\\larynx_NN_model\\data.py:308: UserWarning: data/larynx/segment/segment_tmp\\35_predict.png is a low contrast image\n",
      "  io.imsave(os.path.join(save_path, \"%d_predict.png\" % i), img)\n",
      "WARNING:imageio:Lossy conversion from float32 to uint8. Range [0, 1]. Convert image to uint8 prior to saving to suppress this warning.\n",
      "c:\\dev\\git\\larynx_NN_model\\data.py:308: UserWarning: data/larynx/segment/segment_tmp\\36_predict.png is a low contrast image\n",
      "  io.imsave(os.path.join(save_path, \"%d_predict.png\" % i), img)\n",
      "WARNING:imageio:Lossy conversion from float32 to uint8. Range [0, 1]. Convert image to uint8 prior to saving to suppress this warning.\n",
      "c:\\dev\\git\\larynx_NN_model\\data.py:308: UserWarning: data/larynx/segment/segment_tmp\\37_predict.png is a low contrast image\n",
      "  io.imsave(os.path.join(save_path, \"%d_predict.png\" % i), img)\n",
      "WARNING:imageio:Lossy conversion from float32 to uint8. Range [0, 1]. Convert image to uint8 prior to saving to suppress this warning.\n",
      "c:\\dev\\git\\larynx_NN_model\\data.py:308: UserWarning: data/larynx/segment/segment_tmp\\38_predict.png is a low contrast image\n",
      "  io.imsave(os.path.join(save_path, \"%d_predict.png\" % i), img)\n",
      "WARNING:imageio:Lossy conversion from float32 to uint8. Range [0, 1]. Convert image to uint8 prior to saving to suppress this warning.\n",
      "c:\\dev\\git\\larynx_NN_model\\data.py:308: UserWarning: data/larynx/segment/segment_tmp\\39_predict.png is a low contrast image\n",
      "  io.imsave(os.path.join(save_path, \"%d_predict.png\" % i), img)\n",
      "WARNING:imageio:Lossy conversion from float32 to uint8. Range [0, 1]. Convert image to uint8 prior to saving to suppress this warning.\n",
      "c:\\dev\\git\\larynx_NN_model\\data.py:308: UserWarning: data/larynx/segment/segment_tmp\\40_predict.png is a low contrast image\n",
      "  io.imsave(os.path.join(save_path, \"%d_predict.png\" % i), img)\n",
      "WARNING:imageio:Lossy conversion from float32 to uint8. Range [0, 1]. Convert image to uint8 prior to saving to suppress this warning.\n",
      "c:\\dev\\git\\larynx_NN_model\\data.py:308: UserWarning: data/larynx/segment/segment_tmp\\41_predict.png is a low contrast image\n",
      "  io.imsave(os.path.join(save_path, \"%d_predict.png\" % i), img)\n",
      "WARNING:imageio:Lossy conversion from float32 to uint8. Range [0, 1]. Convert image to uint8 prior to saving to suppress this warning.\n",
      "c:\\dev\\git\\larynx_NN_model\\data.py:308: UserWarning: data/larynx/segment/segment_tmp\\42_predict.png is a low contrast image\n",
      "  io.imsave(os.path.join(save_path, \"%d_predict.png\" % i), img)\n",
      "WARNING:imageio:Lossy conversion from float32 to uint8. Range [0, 1]. Convert image to uint8 prior to saving to suppress this warning.\n",
      "c:\\dev\\git\\larynx_NN_model\\data.py:308: UserWarning: data/larynx/segment/segment_tmp\\43_predict.png is a low contrast image\n",
      "  io.imsave(os.path.join(save_path, \"%d_predict.png\" % i), img)\n",
      "WARNING:imageio:Lossy conversion from float32 to uint8. Range [0, 1]. Convert image to uint8 prior to saving to suppress this warning.\n",
      "c:\\dev\\git\\larynx_NN_model\\data.py:308: UserWarning: data/larynx/segment/segment_tmp\\44_predict.png is a low contrast image\n",
      "  io.imsave(os.path.join(save_path, \"%d_predict.png\" % i), img)\n",
      "WARNING:imageio:Lossy conversion from float32 to uint8. Range [0, 1]. Convert image to uint8 prior to saving to suppress this warning.\n",
      "c:\\dev\\git\\larynx_NN_model\\data.py:308: UserWarning: data/larynx/segment/segment_tmp\\45_predict.png is a low contrast image\n",
      "  io.imsave(os.path.join(save_path, \"%d_predict.png\" % i), img)\n",
      "WARNING:imageio:Lossy conversion from float32 to uint8. Range [0, 1]. Convert image to uint8 prior to saving to suppress this warning.\n",
      "c:\\dev\\git\\larynx_NN_model\\data.py:308: UserWarning: data/larynx/segment/segment_tmp\\46_predict.png is a low contrast image\n",
      "  io.imsave(os.path.join(save_path, \"%d_predict.png\" % i), img)\n",
      "WARNING:imageio:Lossy conversion from float32 to uint8. Range [0, 1]. Convert image to uint8 prior to saving to suppress this warning.\n",
      "c:\\dev\\git\\larynx_NN_model\\data.py:308: UserWarning: data/larynx/segment/segment_tmp\\47_predict.png is a low contrast image\n",
      "  io.imsave(os.path.join(save_path, \"%d_predict.png\" % i), img)\n",
      "WARNING:imageio:Lossy conversion from float32 to uint8. Range [0, 1]. Convert image to uint8 prior to saving to suppress this warning.\n",
      "c:\\dev\\git\\larynx_NN_model\\data.py:308: UserWarning: data/larynx/segment/segment_tmp\\48_predict.png is a low contrast image\n",
      "  io.imsave(os.path.join(save_path, \"%d_predict.png\" % i), img)\n",
      "WARNING:imageio:Lossy conversion from float32 to uint8. Range [0, 1]. Convert image to uint8 prior to saving to suppress this warning.\n",
      "c:\\dev\\git\\larynx_NN_model\\data.py:308: UserWarning: data/larynx/segment/segment_tmp\\49_predict.png is a low contrast image\n",
      "  io.imsave(os.path.join(save_path, \"%d_predict.png\" % i), img)\n",
      "WARNING:imageio:Lossy conversion from float32 to uint8. Range [0, 1]. Convert image to uint8 prior to saving to suppress this warning.\n",
      "c:\\dev\\git\\larynx_NN_model\\data.py:308: UserWarning: data/larynx/segment/segment_tmp\\50_predict.png is a low contrast image\n",
      "  io.imsave(os.path.join(save_path, \"%d_predict.png\" % i), img)\n",
      "WARNING:imageio:Lossy conversion from float32 to uint8. Range [0, 1]. Convert image to uint8 prior to saving to suppress this warning.\n",
      "c:\\dev\\git\\larynx_NN_model\\data.py:308: UserWarning: data/larynx/segment/segment_tmp\\51_predict.png is a low contrast image\n",
      "  io.imsave(os.path.join(save_path, \"%d_predict.png\" % i), img)\n",
      "WARNING:imageio:Lossy conversion from float32 to uint8. Range [0, 1]. Convert image to uint8 prior to saving to suppress this warning.\n",
      "c:\\dev\\git\\larynx_NN_model\\data.py:308: UserWarning: data/larynx/segment/segment_tmp\\52_predict.png is a low contrast image\n",
      "  io.imsave(os.path.join(save_path, \"%d_predict.png\" % i), img)\n",
      "WARNING:imageio:Lossy conversion from float32 to uint8. Range [0, 1]. Convert image to uint8 prior to saving to suppress this warning.\n",
      "c:\\dev\\git\\larynx_NN_model\\data.py:308: UserWarning: data/larynx/segment/segment_tmp\\53_predict.png is a low contrast image\n",
      "  io.imsave(os.path.join(save_path, \"%d_predict.png\" % i), img)\n",
      "WARNING:imageio:Lossy conversion from float32 to uint8. Range [0, 1]. Convert image to uint8 prior to saving to suppress this warning.\n",
      "c:\\dev\\git\\larynx_NN_model\\data.py:308: UserWarning: data/larynx/segment/segment_tmp\\54_predict.png is a low contrast image\n",
      "  io.imsave(os.path.join(save_path, \"%d_predict.png\" % i), img)\n",
      "WARNING:imageio:Lossy conversion from float32 to uint8. Range [0, 1]. Convert image to uint8 prior to saving to suppress this warning.\n"
     ]
    }
   ],
   "source": [
    "# testing the model\n",
    "test_dataset = test_dataset_generator(\"data/larynx/test\", num_image=5)\n",
    "results = model.predict(test_dataset, 3, verbose=1)\n",
    "saveResult(\"data/larynx/test\", results)\n"
   ]
  },
  {
   "cell_type": "code",
   "execution_count": null,
   "id": "b66e4d0d",
   "metadata": {},
   "outputs": [],
   "source": []
  }
 ],
 "metadata": {
  "kernelspec": {
   "display_name": "Python 3 (ipykernel)",
   "language": "python",
   "name": "python3"
  },
  "language_info": {
   "codemirror_mode": {
    "name": "ipython",
    "version": 3
   },
   "file_extension": ".py",
   "mimetype": "text/x-python",
   "name": "python",
   "nbconvert_exporter": "python",
   "pygments_lexer": "ipython3",
   "version": "3.9.12"
  }
 },
 "nbformat": 4,
 "nbformat_minor": 5
}
